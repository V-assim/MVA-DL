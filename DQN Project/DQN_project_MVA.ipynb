{
 "cells": [
  {
   "cell_type": "markdown",
   "metadata": {},
   "source": [
    "**You may need to install [OpenCV](https://pypi.python.org/pypi/opencv-python) and [scikit-video](http://www.scikit-video.org/stable/).**"
   ]
  },
  {
   "cell_type": "code",
   "execution_count": 1,
   "metadata": {},
   "outputs": [
    {
     "name": "stderr",
     "output_type": "stream",
     "text": [
      "Using TensorFlow backend.\n"
     ]
    }
   ],
   "source": [
    "import keras\n",
    "import numpy as np\n",
    "import io\n",
    "import base64\n",
    "from IPython.display import HTML\n",
    "import skvideo.io\n",
    "import cv2\n",
    "import json\n",
    "\n",
    "from keras.models import Sequential,model_from_json\n",
    "from keras.layers.core import Dense, Flatten\n",
    "from keras.optimizers import sgd\n",
    "from keras.layers import Conv2D, MaxPooling2D, Activation, AveragePooling2D,Reshape,BatchNormalization, Dropout"
   ]
  },
  {
   "cell_type": "markdown",
   "metadata": {},
   "source": [
    "# MiniProject on Deep Reinforcement Learning"
   ]
  },
  {
   "cell_type": "markdown",
   "metadata": {},
   "source": [
    "__Notations__: $E_p$ is the expectation under probability $p$. Please justify each of your answer and widely comment your code."
   ]
  },
  {
   "cell_type": "markdown",
   "metadata": {},
   "source": [
    "# Context"
   ]
  },
  {
   "cell_type": "markdown",
   "metadata": {},
   "source": [
    "In a reinforcement learning algorithm, we modelize each step $t$ as an action $a_t$ obtained from a state $s_t$, i.e. $\\{(a_{t},s_{t})_{t\\leq T}\\}$ having the Markov property. We consider a discount factor $\\gamma \\in [0,1]$ that ensures convergence. The goal is to find among all the policies $\\pi$, one that maximizes the expected reward:\n",
    "\n",
    "\\begin{equation*}\n",
    "R(\\pi)=\\sum_{t\\leq T}E_{p^{\\pi}}[\\gamma^t r(s_{t},a_{t})] \\> ,\n",
    "\\end{equation*}\n",
    "\n",
    "where: \n",
    "\\begin{equation*}p^{\\pi}(a_{0},a_{1},s_{1},...,a_{T},s_{T})=p(a_{0})\\prod_{t=1}^{T}\\pi(a_{t}|s_{t})p(s_{t+1}|s_{t},a_{t}) \\> .\n",
    "\\end{equation*}\n",
    "\n",
    "We note the $Q$-function:\n",
    "\n",
    "\\begin{equation*}Q^\\pi(s,a)=E_{p^{\\pi}}[\\sum_{t\\leq T}\\gamma^{t}r(s_{t},a_{t})|s_{0}=s,a_{0}=a] \\> .\n",
    "\\end{equation*}\n",
    "\n",
    "Thus, the optimal Q function is:\n",
    "\\begin{equation*}\n",
    "Q^*(s,a)=\\max_{\\pi}Q^\\pi(s,a) \\> .\n",
    "\\end{equation*}\n",
    "\n",
    "In this project, we will apply the deep reinforcement learning techniques to a simple game: an agent will have to learn from scratch a policy that will permit it maximizing a reward."
   ]
  },
  {
   "cell_type": "markdown",
   "metadata": {},
   "source": [
    "## The environment, the agent and the game"
   ]
  },
  {
   "cell_type": "markdown",
   "metadata": {},
   "source": [
    "### The environment"
   ]
  },
  {
   "cell_type": "markdown",
   "metadata": {},
   "source": [
    "```Environment``` is an abstract class that represents the states, rewards, and actions to obtain the new state."
   ]
  },
  {
   "cell_type": "code",
   "execution_count": 2,
   "metadata": {},
   "outputs": [],
   "source": [
    "class Environment(object):\n",
    "    def __init__(self):\n",
    "        pass\n",
    "\n",
    "    def act(self, act):\n",
    "        \"\"\"\n",
    "        One can act on the environment and obtain its reaction:\n",
    "        - the new state\n",
    "        - the reward of the new state\n",
    "        - should we continue the game?\n",
    "\n",
    "        :return: state, reward, game_over\n",
    "        \"\"\"\n",
    "        pass\n",
    "\n",
    "\n",
    "    def reset(self):\n",
    "        \"\"\"\n",
    "        Reinitialize the environment to a random state and returns\n",
    "        the original state\n",
    "\n",
    "        :return: state\n",
    "        \"\"\"\n",
    "        pass\n",
    "    \n",
    "    def draw(self):\n",
    "        \"\"\"\n",
    "        Visualize in the console or graphically the current state\n",
    "        \"\"\"\n",
    "        pass"
   ]
  },
  {
   "cell_type": "markdown",
   "metadata": {},
   "source": [
    "The method ```act``` allows to act on the environment at a given state $s_t$ (stored internally), via action $a_t$. The method will return the new state $s_{t+1}$, the reward $r(s_{t},a_{t})$ and determines if $t\\leq T$ (*game_over*).\n",
    "\n",
    "The method ```reset``` simply reinitializes the environment to a random state $s_0$.\n",
    "\n",
    "The method ```draw``` displays the current state $s_t$ (this is useful to check the behavior of the Agent).\n",
    "\n",
    "We modelize $s_t$ as a tensor, while $a_t$ is an integer."
   ]
  },
  {
   "cell_type": "markdown",
   "metadata": {},
   "source": [
    "### The Agent"
   ]
  },
  {
   "cell_type": "markdown",
   "metadata": {},
   "source": [
    "The goal of the ```Agent``` is to interact with the ```Environment``` by proposing actions $a_t$ obtained from a given state $s_t$ to attempt to maximize its __reward__ $r(s_t,a_t)$. We propose the following abstract class:"
   ]
  },
  {
   "cell_type": "code",
   "execution_count": 3,
   "metadata": {},
   "outputs": [],
   "source": [
    "class Agent(object):\n",
    "    def __init__(self, epsilon=0.1, n_action=4):\n",
    "        self.epsilon = epsilon\n",
    "        self.n_action = n_action\n",
    "    \n",
    "    def set_epsilon(self,e):\n",
    "        self.epsilon = e\n",
    "\n",
    "    def act(self,s,train=True):\n",
    "        \"\"\" This function should return the next action to do:\n",
    "        an integer between 0 and 4 (not included) with a random exploration of epsilon\"\"\"\n",
    "        if train:\n",
    "            if np.random.rand() <= self.epsilon:\n",
    "                a = np.random.randint(0, self.n_action, size=1)[0]\n",
    "            else:\n",
    "                a = self.learned_act(s)\n",
    "        else: # in some cases, this can improve the performance.. remove it if poor performances\n",
    "            a = self.learned_act(s)\n",
    "\n",
    "        return a\n",
    "\n",
    "    def learned_act(self,s):\n",
    "        \"\"\" Act via the policy of the agent, from a given state s\n",
    "        it proposes an action a\"\"\"\n",
    "        pass\n",
    "\n",
    "    def reinforce(self, s, n_s, a, r, game_over_):\n",
    "        \"\"\" This function is the core of the learning algorithm. \n",
    "        It takes as an input the current state s_, the next state n_s_\n",
    "        the action a_ used to move from s_ to n_s_ and the reward r_.\n",
    "        \n",
    "        Its goal is to learn a policy.\n",
    "        \"\"\"\n",
    "        pass\n",
    "\n",
    "    def save(self):\n",
    "        \"\"\" This function returns basic stats if applicable: the\n",
    "        loss and/or the model\"\"\"\n",
    "        pass\n",
    "\n",
    "    def load(self):\n",
    "        \"\"\" This function allows to restore a model\"\"\"\n",
    "        pass"
   ]
  },
  {
   "cell_type": "markdown",
   "metadata": {},
   "source": [
    "***\n",
    "__Question 1__:\n",
    "Explain the function act. Why is ```epsilon``` essential?"
   ]
  },
  {
   "cell_type": "markdown",
   "metadata": {},
   "source": [
    "\n",
    "The function `act` has two modes:\n",
    "\n",
    "- the training mode\n",
    "With probability $\\epsilon$, the agent chooses a random action (exploration).\n",
    "With probability $1-\\epsilon$, the agent follows the current policy (exploitation).\n",
    "- the evaluating mode: The agent systematically acts according to the current policy.\n",
    "\n",
    "The $\\epsilon$ value is important because it regulates the exploration/exploitation tradeoff. It should be high at the beginning (more exploration in order to discover all possible state/action pairs) and lower and lower during training (mre exploitation when the learned policy becomes good)."
   ]
  },
  {
   "cell_type": "markdown",
   "metadata": {},
   "source": [
    "***\n",
    "### The Game"
   ]
  },
  {
   "cell_type": "markdown",
   "metadata": {},
   "source": [
    "The ```Agent``` and the ```Environment``` work in an interlaced way as in the following (take some time to understand this code as it is the core of the project)\n",
    "\n",
    "```python\n",
    "\n",
    "epoch = 300\n",
    "env = Environment()\n",
    "agent = Agent()\n",
    "\n",
    "\n",
    "# Number of won games\n",
    "score = 0\n",
    "loss = 0\n",
    "\n",
    "\n",
    "for e in range(epoch):\n",
    "    # At each epoch, we restart to a fresh game and get the initial state\n",
    "    state = env.reset()\n",
    "    # This assumes that the games will end\n",
    "    game_over = False\n",
    "\n",
    "    win = 0\n",
    "    lose = 0\n",
    "    \n",
    "    while not game_over:\n",
    "        # The agent performs an action\n",
    "        action = agent.act(state)\n",
    "\n",
    "        # Apply an action to the environment, get the next state, the reward\n",
    "        # and if the games end\n",
    "        prev_state = state\n",
    "        state, reward, game_over = env.act(action)\n",
    "\n",
    "        # Update the counters\n",
    "        if reward > 0:\n",
    "            win = win + reward\n",
    "        if reward < 0:\n",
    "            lose = lose -reward\n",
    "\n",
    "        # Apply the reinforcement strategy\n",
    "        loss = agent.reinforce(prev_state, state,  action, reward, game_over)\n",
    "\n",
    "    # Save as a mp4\n",
    "    if e % 10 == 0:\n",
    "        env.draw(e)\n",
    "\n",
    "    # Update stats\n",
    "    score += win-lose\n",
    "\n",
    "    print(\"Epoch {:03d}/{:03d} | Loss {:.4f} | Win/lose count {}/{} ({})\"\n",
    "          .format(e, epoch, loss, win, lose, win-lose))\n",
    "    agent.save()\n",
    "```"
   ]
  },
  {
   "cell_type": "markdown",
   "metadata": {},
   "source": [
    "# The game, *eat cheese*"
   ]
  },
  {
   "cell_type": "markdown",
   "metadata": {},
   "source": [
    "A rat runs on an island and tries to eat as much as possible. The island is subdivided into $N\\times N$ cells, in which there are cheese (+0.5) and poisonous cells (-1). The rat has a visibility of 2 cells (thus it can see $5^2$ cells). The rat is given a time $T$ to accumulate as much food as possible. It can perform 4 actions: going up, down, left, right. \n",
    "\n",
    "The goal is to code an agent to solve this task that will learn by trial and error. We propose the following environment:"
   ]
  },
  {
   "cell_type": "code",
   "execution_count": 4,
   "metadata": {},
   "outputs": [],
   "source": [
    "class Environment(object):\n",
    "    def __init__(self, grid_size=10, max_time=500, temperature=0.1):\n",
    "        grid_size = grid_size+4\n",
    "        self.grid_size = grid_size\n",
    "        self.max_time = max_time\n",
    "        self.temperature = temperature\n",
    "\n",
    "        #board on which one plays\n",
    "        self.board = np.zeros((grid_size,grid_size))\n",
    "        self.position = np.zeros((grid_size,grid_size))\n",
    "\n",
    "        # coordinate of the cat\n",
    "        self.x = 0\n",
    "        self.y = 1\n",
    "\n",
    "        # self time\n",
    "        self.t = 0\n",
    "\n",
    "        self.scale=16\n",
    "\n",
    "        self.to_draw = np.zeros((max_time+2, grid_size*self.scale, grid_size*self.scale, 3))\n",
    "\n",
    "\n",
    "    def draw(self,e):\n",
    "        skvideo.io.vwrite(str(e) + '.mp4', self.to_draw)\n",
    "\n",
    "    def get_frame(self,t):\n",
    "        b = np.zeros((self.grid_size,self.grid_size,3))+128\n",
    "        b[self.board>0,0] = 256\n",
    "        b[self.board < 0, 2] = 256\n",
    "        b[self.x,self.y,:]=256\n",
    "        b[-2:,:,:]=0\n",
    "        b[:,-2:,:]=0\n",
    "        b[:2,:,:]=0\n",
    "        b[:,:2,:]=0\n",
    "        \n",
    "        b =  cv2.resize(b, None, fx=self.scale, fy=self.scale, interpolation=cv2.INTER_NEAREST)\n",
    "\n",
    "        self.to_draw[t,:,:,:]=b\n",
    "\n",
    "\n",
    "    def act(self, action, train=True):\n",
    "        \"\"\"This function returns the new state, reward and decides if the\n",
    "        game ends.\"\"\"\n",
    "\n",
    "        self.get_frame(int(self.t))\n",
    "\n",
    "        self.position = np.zeros((self.grid_size, self.grid_size))\n",
    "\n",
    "        self.position[0:2,:]= -1\n",
    "        self.position[:,0:2] = -1\n",
    "        self.position[-2:, :] = -1\n",
    "        self.position[-2:, :] = -1\n",
    "\n",
    "        self.position[self.x, self.y] = 1\n",
    "        if action == 0:\n",
    "            if self.x == self.grid_size-3:\n",
    "                self.x = self.x-1\n",
    "            else:\n",
    "                self.x = self.x + 1\n",
    "        elif action == 1:\n",
    "            if self.x == 2:\n",
    "                self.x = self.x+1\n",
    "            else:\n",
    "                self.x = self.x-1\n",
    "        elif action == 2:\n",
    "            if self.y == self.grid_size - 3:\n",
    "                self.y = self.y - 1\n",
    "            else:\n",
    "                self.y = self.y + 1\n",
    "        elif action == 3:\n",
    "            if self.y == 2:\n",
    "                self.y = self.y + 1\n",
    "            else:\n",
    "                self.y = self.y - 1\n",
    "        else:\n",
    "            RuntimeError('Error: action not recognized')\n",
    "\n",
    "        self.t = self.t + 1\n",
    "        reward = self.board[self.x, self.y]\n",
    "        self.board[self.x, self.y] = 0\n",
    "        game_over = self.t > self.max_time\n",
    "        state = np.concatenate((self.board.reshape(self.grid_size, self.grid_size,1),\n",
    "                        self.position.reshape(self.grid_size, self.grid_size,1)),axis=2)\n",
    "        state = state[self.x-2:self.x+3,self.y-2:self.y+3,:]\n",
    "\n",
    "        return state, reward, game_over\n",
    "\n",
    "    def reset(self):\n",
    "        \"\"\"This function resets the game and returns the initial state\"\"\"\n",
    "\n",
    "        self.x = np.random.randint(3, self.grid_size-3, size=1)[0]\n",
    "        self.y = np.random.randint(3, self.grid_size-3, size=1)[0]\n",
    "\n",
    "\n",
    "        bonus = 0.5*np.random.binomial(1,self.temperature,size=self.grid_size**2)\n",
    "        bonus = bonus.reshape(self.grid_size,self.grid_size)\n",
    "\n",
    "        malus = -1.0*np.random.binomial(1,self.temperature,size=self.grid_size**2)\n",
    "        malus = malus.reshape(self.grid_size, self.grid_size)\n",
    "\n",
    "        self.to_draw = np.zeros((self.max_time+2, self.grid_size*self.scale, self.grid_size*self.scale, 3))\n",
    "\n",
    "\n",
    "        malus[bonus>0]=0\n",
    "\n",
    "        self.board = bonus + malus\n",
    "\n",
    "        self.position = np.zeros((self.grid_size, self.grid_size))\n",
    "        self.position[0:2,:]= -1\n",
    "        self.position[:,0:2] = -1\n",
    "        self.position[-2:, :] = -1\n",
    "        self.position[-2:, :] = -1\n",
    "        self.board[self.x,self.y] = 0\n",
    "        self.t = 0\n",
    "\n",
    "        state = np.concatenate((\n",
    "                               self.board.reshape(self.grid_size, self.grid_size,1),\n",
    "                        self.position.reshape(self.grid_size, self.grid_size,1)),axis=2)\n",
    "\n",
    "        state = state[self.x - 2:self.x + 3, self.y - 2:self.y + 3, :]\n",
    "        return state"
   ]
  },
  {
   "cell_type": "markdown",
   "metadata": {},
   "source": [
    "The following elements are important because they correspond to the hyper parameters for this project:"
   ]
  },
  {
   "cell_type": "code",
   "execution_count": 5,
   "metadata": {},
   "outputs": [],
   "source": [
    "# parameters\n",
    "size = 13\n",
    "T=200\n",
    "temperature=0.3\n",
    "epochs_train=15 # set small when debugging\n",
    "epochs_test=15 # set small when debugging\n",
    "\n",
    "# display videos\n",
    "def display_videos(name):\n",
    "    video = io.open(name, 'r+b').read()\n",
    "    encoded = base64.b64encode(video)\n",
    "    return '''<video alt=\"test\" controls>\n",
    "                <source src=\"data:video/mp4;base64,{0}\" type=\"video/mp4\" />\n",
    "             </video>'''.format(encoded.decode('ascii'))"
   ]
  },
  {
   "cell_type": "markdown",
   "metadata": {},
   "source": [
    "__Question 2__ Explain the use of the arrays ```position``` and ```board```."
   ]
  },
  {
   "cell_type": "markdown",
   "metadata": {},
   "source": [
    "- The `board` array is an array with all the rewards of the positions of the board (0.5 if cheese, -1 if poison, 0 otherwise).\n",
    "- `position` is an array with the current position of the rat (1), the borders of the board (-1) and available cases (0)."
   ]
  },
  {
   "cell_type": "markdown",
   "metadata": {},
   "source": [
    "## Random Agent"
   ]
  },
  {
   "cell_type": "markdown",
   "metadata": {},
   "source": [
    "***\n",
    "__Question 3__ Implement a random Agent (only ```learned_act``` needs to be implemented):"
   ]
  },
  {
   "cell_type": "code",
   "execution_count": 6,
   "metadata": {},
   "outputs": [],
   "source": [
    "class RandomAgent(Agent):\n",
    "    def __init__(self):\n",
    "        super(RandomAgent, self).__init__()\n",
    "        pass\n",
    "\n",
    "    def learned_act(self, s, train=True):\n",
    "        return np.random.randint(4)"
   ]
  },
  {
   "cell_type": "markdown",
   "metadata": {},
   "source": [
    "***\n",
    "***\n",
    "__Question 4__ Visualize the game moves. You need to fill in the following function for the evaluation:"
   ]
  },
  {
   "cell_type": "code",
   "execution_count": 7,
   "metadata": {},
   "outputs": [],
   "source": [
    "def test(agent,env,epochs,prefix=''):\n",
    "    # Number of won games\n",
    "    score = 0\n",
    "        \n",
    "    for e in range(epochs):\n",
    "        \n",
    "        ##### FILL IN HERE\n",
    "        state = env.reset()\n",
    "        win = 0\n",
    "        lose = 0\n",
    "        game_over = False\n",
    "        \n",
    "        while not game_over:\n",
    "            action = agent.act(state, train=False)\n",
    "\n",
    "            prev_state = state\n",
    "            state, reward, game_over = env.act(action, train=False)\n",
    "            \n",
    "            # Update the counters\n",
    "            if reward > 0:\n",
    "                win = win + reward\n",
    "            if reward < 0:\n",
    "                lose = lose -reward\n",
    "        \n",
    "        # Save as a mp4\n",
    "        env.draw(prefix+str(e))\n",
    "\n",
    "        # Update stats\n",
    "        score = score + win-lose\n",
    "\n",
    "        print(\"Win/lose count {}/{}. Average score ({})\"\n",
    "              .format(win, lose, score/(1+e)))\n",
    "    print('Final score: '+str(score/epochs))"
   ]
  },
  {
   "cell_type": "code",
   "execution_count": 8,
   "metadata": {},
   "outputs": [
    {
     "name": "stdout",
     "output_type": "stream",
     "text": [
      "Win/lose count 13.5/12.0. Average score (1.5)\n",
      "Win/lose count 8.0/14.0. Average score (-2.25)\n",
      "Win/lose count 10.0/19.0. Average score (-4.5)\n",
      "Win/lose count 12.5/24.0. Average score (-6.25)\n",
      "Win/lose count 13.0/23.0. Average score (-7.0)\n",
      "Win/lose count 9.5/9.0. Average score (-5.75)\n",
      "Win/lose count 11.5/16.0. Average score (-5.571428571428571)\n",
      "Win/lose count 11.0/18.0. Average score (-5.75)\n",
      "Win/lose count 14.0/13.0. Average score (-5.0)\n",
      "Win/lose count 9.5/12.0. Average score (-4.75)\n",
      "Win/lose count 5.0/11.0. Average score (-4.863636363636363)\n",
      "Win/lose count 12.0/20.0. Average score (-5.125)\n",
      "Win/lose count 11.5/14.0. Average score (-4.923076923076923)\n",
      "Win/lose count 8.5/21.0. Average score (-5.464285714285714)\n",
      "Win/lose count 12.0/16.0. Average score (-5.366666666666666)\n",
      "Final score: -5.366666666666666\n"
     ]
    },
    {
     "data": {
      "text/html": [
       "<video alt=\"test\" controls>\n",
       "                <source src=\"data:video/mp4;base64,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\" type=\"video/mp4\" />\n",
       "             </video>"
      ],
      "text/plain": [
       "<IPython.core.display.HTML object>"
      ]
     },
     "execution_count": 8,
     "metadata": {},
     "output_type": "execute_result"
    }
   ],
   "source": [
    "# Initialize the game\n",
    "env = Environment(grid_size=size, max_time=T,temperature=temperature)\n",
    "\n",
    "# Initialize the agent!\n",
    "agent = RandomAgent()\n",
    "\n",
    "test(agent,env,epochs_test,prefix='random')\n",
    "HTML(display_videos('random0.mp4'))"
   ]
  },
  {
   "cell_type": "markdown",
   "metadata": {},
   "source": [
    "***\n",
    "## DQN"
   ]
  },
  {
   "cell_type": "markdown",
   "metadata": {},
   "source": [
    "Let us assume here that $T=\\infty$.\n",
    "\n",
    "***\n",
    "__Question 5__ Let $\\pi$ be a policy, show that:\n",
    "\n",
    "\\begin{equation*}\n",
    "Q^{\\pi}(s,a)=E_{(s',a')\\sim p(.|s,a)}[r(s,a)+\\gamma Q^{\\pi}(s',a')]\n",
    "\\end{equation*}\n",
    "\n",
    "Then, show that for the optimal policy $\\pi^*$ (we assume its existence), the following holds: \n",
    "\n",
    "\\begin{equation*}\n",
    "Q^{*}(s,a)=E_{s'\\sim \\pi^*(.|s,a)}[r(s,a)+\\gamma\\max_{a'}Q^{*}(s',a')].\n",
    "\\end{equation*}\n",
    "Finally, deduce that a plausible objective is:\n",
    "\n",
    "\\begin{equation*}\n",
    "\\mathcal{L}(\\theta)=E_{s' \\sim \\pi^*(.|s,a)}\\Vert r+\\gamma\\max\\max_{a'}Q(s',a',\\theta)-Q(s,a,\\theta)\\Vert^{2}.\n",
    "\\end{equation*}\n",
    "\n",
    "\n"
   ]
  },
  {
   "cell_type": "markdown",
   "metadata": {},
   "source": [
    "Definition of the Q-function:\n",
    "\n",
    "\\begin{align}\n",
    "Q^{\\pi}(s,a) &= E[\\sum_{t=0}^{\\infty} \\gamma^t r(s_t,a_t) | s_0=s, a_0=a, a_t=\\pi(s_t) \\forall t \\ge 1] \\\\\n",
    "&= E[r_0 + \\gamma \\sum_{t=0}^{\\infty} \\gamma^t r(s_{t+1},a_{t+1}) | s_0=s, a_0=a, a_t=\\pi(s_t) \\forall t \\ge 1] \\\\\n",
    "&= r(s,a) + \\sum_{s'} p(s' | s,a) \\gamma E[\\sum_{t=0}^{\\infty} \\gamma^t r(s_{t+1},a_{t+1}) | s_1=s', a_t=\\pi(s_t) \\forall t \\ge 1] \\\\\n",
    "&= r(s,a) + \\sum_{s'} p(s' | s,a) \\gamma E[\\sum_{t'=0}^{\\infty} \\gamma^{t'} r(s_{t'},a_{t'}) | s_0=s', a_0 = \\pi(s_0), a_t=\\pi(s_t) \\forall t \\ge 1] \\\\\n",
    "&= r(s,a) + \\gamma \\sum_{s'} p(s' | s,a) Q^{\\pi}(s', \\pi(s')) \\\\\n",
    "&= r(s,a) + \\gamma E_{s' \\sim p(.| s,a)} [Q^{\\pi}(s', \\pi(s'))] \\\\\n",
    "&= r(s,a) + \\gamma E_{s' \\sim p(.| s,a)} [Q^{\\pi}(s', \\pi(s'))] \\\\\n",
    "&= E_{s' \\sim p(.| s,a)} [ r(s,a) + \\gamma Q^{\\pi}(s', \\pi(s'))]\n",
    "\\end{align}\n",
    "\n",
    "\n",
    "If an optimal policy $\\pi ^*$ exists, the following holds:\n",
    "\\begin{align}\n",
    "\\\\\n",
    "Q^*(s,a) &= Q^{\\pi^*}(s,a) \\\\\n",
    "         &= \\max _\\pi Q^{\\pi}(s,a) \\\\\n",
    "         &= \\max _\\pi  E_{s' \\sim p(.| s,a)} [ r(s,a) + \\gamma Q^{\\pi}(s', \\pi(s'))] \\\\\n",
    "         &= \\max _{a'}  E_{s' \\sim p(.| s,a)} [ r(s,a) + \\gamma Q^{\\pi}(s', a')] \\\\\n",
    "         &=  E_{s' \\sim p(.| s,a)} [ r(s,a) + \\gamma \\max _{a'} Q^{\\pi}(s', a')] \\\\\n",
    "\\end{align}\n",
    "\n",
    "\n",
    "We want to minimize the difference between the Q-function of the optimal policy $Q^*(s,a,\\theta)$ and our Q-function estimator $Q(s,a,\\theta)$. We can minimize the expectation of the L2 norm between the two:\n",
    "\n",
    "\\begin{equation*}\n",
    "\\mathcal{L}(\\theta)=E_{s' \\sim p(.|s,a)}\\Vert r+\\gamma\\max_{a'}Q(s',a',\\theta)-Q(s,a,\\theta)\\Vert^{2}.\n",
    "\\end{equation*}\n"
   ]
  },
  {
   "cell_type": "markdown",
   "metadata": {},
   "source": [
    "***\n",
    "The DQN-learning algorithm relies on these derivations to train the parameters $\\theta$ of a Deep Neural Network:\n",
    "\n",
    "1. At the state $s_t$, select the action $a_t$ with best reward using $Q_t$ and store the results;\n",
    "\n",
    "2. Obtain the new state $s_{t+1}$ from the environment $p$;\n",
    "\n",
    "3. Store $(s_t,a_t,s_{t+1})$;\n",
    "\n",
    "4. Obtain $Q_{t+1}$ by minimizing  $\\mathcal{L}$ from a recovered batch from the previously stored results.\n",
    "\n",
    "***\n",
    "__Question 6__ Implement the class ```Memory``` that stores moves (in a replay buffer) via ```remember``` and provides a ```random_access``` to these. Specify a maximum memory size to avoid side effects. You can for example use a ```list()``` and set by default ```max_memory=100```."
   ]
  },
  {
   "cell_type": "code",
   "execution_count": 9,
   "metadata": {},
   "outputs": [],
   "source": [
    "class Memory(object):\n",
    "    def __init__(self, max_memory=100):\n",
    "        self.max_memory = max_memory\n",
    "        self.memory = list()\n",
    "\n",
    "    def remember(self, m):\n",
    "        # queue structure: « first in, first out »\n",
    "        if len(self.memory)>=self.max_memory:\n",
    "            self.memory.pop(0)\n",
    "        self.memory.append(m)\n",
    "\n",
    "    def random_access(self):\n",
    "        rnd = np.random.randint(0,len(self.memory))\n",
    "        return self.memory[rnd]"
   ]
  },
  {
   "cell_type": "markdown",
   "metadata": {},
   "source": [
    "***\n",
    "The pipeline we will use for training is given below:"
   ]
  },
  {
   "cell_type": "code",
   "execution_count": 10,
   "metadata": {},
   "outputs": [],
   "source": [
    "def train(agent,env,epoch,prefix=''):\n",
    "    # Number of won games\n",
    "    score = 0\n",
    "    loss = 0\n",
    "\n",
    "    for e in range(epoch):\n",
    "        # At each epoch, we restart to a fresh game and get the initial state\n",
    "        state = env.reset()\n",
    "        # This assumes that the games will terminate\n",
    "        game_over = False\n",
    "\n",
    "        win = 0\n",
    "        lose = 0\n",
    "\n",
    "        while not game_over:\n",
    "            # The agent performs an action\n",
    "            action = agent.act(state)\n",
    "\n",
    "            # Apply an action to the environment, get the next state, the reward\n",
    "            # and if the games end\n",
    "            prev_state = state\n",
    "            state, reward, game_over = env.act(action)\n",
    "\n",
    "            # Update the counters\n",
    "            if reward > 0:\n",
    "                win = win + reward\n",
    "            if reward < 0:\n",
    "                lose = lose -reward\n",
    "\n",
    "            # Apply the reinforcement strategy\n",
    "            loss = agent.reinforce(prev_state, state,  action, reward, game_over)\n",
    "\n",
    "        # Save as a mp4\n",
    "        if e % 10 == 0:\n",
    "            env.draw(prefix+str(e))\n",
    "\n",
    "        # Update stats\n",
    "        score += win-lose\n",
    "\n",
    "        print(\"Epoch {:03d}/{:03d} | Loss {:.4f} | Win/lose count {}/{} ({})\"\n",
    "              .format(e, epoch, loss, win, lose, win-lose))\n",
    "        agent.save(name_weights=prefix+'model.h5',name_model=prefix+'model.json')"
   ]
  },
  {
   "cell_type": "markdown",
   "metadata": {},
   "source": [
    "***\n",
    "__Question 7__ Implement the DQN training algorithm using a cascade of fully connected layers. You can use different learning rate, batch size or memory size parameters. In particular, the loss might oscillate while the player will start to win the games. You have to find a good criterium."
   ]
  },
  {
   "cell_type": "code",
   "execution_count": 11,
   "metadata": {},
   "outputs": [],
   "source": [
    "class DQN(Agent):\n",
    "    def __init__(self, grid_size,  epsilon = 0.1, memory_size=100, batch_size = 16,n_state=2):\n",
    "        super(DQN, self).__init__(epsilon = epsilon)\n",
    "\n",
    "        # Discount for Q learning\n",
    "        self.discount = 0.99\n",
    "        \n",
    "        self.grid_size = grid_size\n",
    "        \n",
    "        # number of state\n",
    "        self.n_state = n_state\n",
    "\n",
    "        # Memory\n",
    "        self.memory = Memory(memory_size)\n",
    "        \n",
    "        # Batch size when learning\n",
    "        self.batch_size = batch_size\n",
    "\n",
    "    def learned_act(self, s):\n",
    "        action_expects = self.model.predict(s.reshape(1, 5, 5, self.n_state))\n",
    "        return np.argmax(action_expects)\n",
    "\n",
    "    def reinforce(self, s_, n_s_, a_, r_, game_over_):\n",
    "        # Two steps: first memorize the states, second learn from the pool\n",
    "\n",
    "        self.memory.remember([s_, n_s_, a_, r_, game_over_])\n",
    "        \n",
    "        input_states = np.zeros((self.batch_size, 5,5,self.n_state))\n",
    "        target_q = np.zeros((self.batch_size, 4))\n",
    "        \n",
    "        for i in range(self.batch_size):\n",
    "            ######## FILL IN\n",
    "            state, new_state, action, reward, game_over_ = self.memory.random_access()                        \n",
    "            input_states[i] = state\n",
    "            target_q[i] = self.model.predict(state.reshape(1, 5, 5, self.n_state))\n",
    "            \n",
    "            if game_over_:\n",
    "                ######## FILL IN\n",
    "                target_q[i][action] = reward\n",
    "            else:\n",
    "                ######## FILL IN\n",
    "                target_q[i][action] = reward + self.discount * np.max(self.model.predict(new_state.reshape(1, 5, 5, self.n_state)))\n",
    "        ######## FILL IN\n",
    "        # HINT: Clip the target to avoid exploiding gradients.. -- clipping is a bit tighter\n",
    "        target_q = np.clip(target_q, -3, 3)\n",
    "\n",
    "        l = self.model.train_on_batch(input_states, target_q)\n",
    "\n",
    "\n",
    "        return l\n",
    "\n",
    "    def save(self,name_weights='model.h5',name_model='model.json'):\n",
    "        self.model.save_weights(name_weights, overwrite=True)\n",
    "        with open(name_model, \"w\") as outfile:\n",
    "            json.dump(self.model.to_json(), outfile)\n",
    "            \n",
    "    def load(self,name_weights='model.h5',name_model='model.json'):\n",
    "        with open(name_model, \"r\") as jfile:\n",
    "            model = model_from_json(json.load(jfile))\n",
    "        model.load_weights(name_weights)\n",
    "        model.compile(\"sgd\", \"mse\")\n",
    "        self.model = model\n",
    "\n",
    "            \n",
    "class DQN_FC(DQN):\n",
    "    def __init__(self, *args, lr=0.1,**kwargs):\n",
    "        super(DQN_FC, self).__init__( *args,**kwargs)\n",
    "        \n",
    "        # NN Model\n",
    "        \n",
    "        ####### FILL IN\n",
    "        model = Sequential([\n",
    "            Flatten(input_shape=(5, 5, self.n_state)),\n",
    "            Dense(32, activation=\"relu\"),\n",
    "            Dense(16, activation=\"relu\"),\n",
    "            Dense(4)])\n",
    "        \n",
    "        model.compile(sgd(lr=lr, decay=1e-4, momentum=0.0), \"mse\")\n",
    "        self.model = model\n",
    "        "
   ]
  },
  {
   "cell_type": "code",
   "execution_count": 12,
   "metadata": {},
   "outputs": [
    {
     "name": "stdout",
     "output_type": "stream",
     "text": [
      "Epoch 000/015 | Loss 0.0116 | Win/lose count 3.5/3.0 (0.5)\n",
      "Epoch 001/015 | Loss 0.0142 | Win/lose count 3.0/5.0 (-2.0)\n",
      "Epoch 002/015 | Loss 0.0084 | Win/lose count 3.5/8.0 (-4.5)\n",
      "Epoch 003/015 | Loss 0.0148 | Win/lose count 3.5/3.0 (0.5)\n",
      "Epoch 004/015 | Loss 0.0075 | Win/lose count 4.5/4.0 (0.5)\n",
      "Epoch 005/015 | Loss 0.0039 | Win/lose count 3.0/2.0 (1.0)\n",
      "Epoch 006/015 | Loss 0.0097 | Win/lose count 3.5/1.0 (2.5)\n",
      "Epoch 007/015 | Loss 0.0073 | Win/lose count 3.5/2.0 (1.5)\n",
      "Epoch 008/015 | Loss 0.0061 | Win/lose count 4.5/2.0 (2.5)\n",
      "Epoch 009/015 | Loss 0.0053 | Win/lose count 2.5/6.0 (-3.5)\n",
      "Epoch 010/015 | Loss 0.0605 | Win/lose count 1.5/3.0 (-1.5)\n",
      "Epoch 011/015 | Loss 0.0073 | Win/lose count 2.0/3.0 (-1.0)\n",
      "Epoch 012/015 | Loss 0.0483 | Win/lose count 3.5/2.0 (1.5)\n",
      "Epoch 013/015 | Loss 0.0040 | Win/lose count 4.0/4.0 (0.0)\n",
      "Epoch 014/015 | Loss 0.0019 | Win/lose count 5.5/1.0 (4.5)\n"
     ]
    },
    {
     "data": {
      "text/html": [
       "<video alt=\"test\" controls>\n",
       "                <source src=\"data:video/mp4;base64,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\" type=\"video/mp4\" />\n",
       "             </video>"
      ],
      "text/plain": [
       "<IPython.core.display.HTML object>"
      ]
     },
     "execution_count": 12,
     "metadata": {},
     "output_type": "execute_result"
    }
   ],
   "source": [
    "env = Environment(grid_size=size, max_time=T, temperature=0.3)\n",
    "agent = DQN_FC(size, lr=.1, epsilon = 0.1, memory_size=2000, batch_size = 32)\n",
    "train(agent, env, epochs_train, prefix='fc_train')\n",
    "HTML(display_videos('fc_train10.mp4'))"
   ]
  },
  {
   "cell_type": "markdown",
   "metadata": {},
   "source": [
    "***\n",
    "***\n",
    "__Question 8__ Implement the DQN training algorithm using a CNN (for example, 2 convolutional layers and one final fully connected layer)."
   ]
  },
  {
   "cell_type": "code",
   "execution_count": 13,
   "metadata": {},
   "outputs": [],
   "source": [
    "class DQN_CNN(DQN):\n",
    "    def __init__(self, *args,lr=0.1,**kwargs):\n",
    "        super(DQN_CNN, self).__init__(*args,**kwargs)\n",
    "        \n",
    "        ###### FILL IN\n",
    "        model = Sequential([\n",
    "            Conv2D(64, (3,3), activation='relu', padding=\"same\",input_shape=(5,5,self.n_state)),\n",
    "            Conv2D(32, (3,3), activation='relu',padding=\"same\"),\n",
    "            Conv2D(32, (3,3), activation='relu',padding=\"same\"),\n",
    "            Flatten(),\n",
    "            Dense(32),\n",
    "            Dropout(0.2),\n",
    "            Dense(4) \n",
    "        ])\n",
    "\n",
    "        \n",
    "        model.compile(sgd(lr=lr, decay=1e-4, momentum=0.0), \"mse\")\n",
    "        self.model = model"
   ]
  },
  {
   "cell_type": "code",
   "execution_count": 14,
   "metadata": {},
   "outputs": [
    {
     "name": "stdout",
     "output_type": "stream",
     "text": [
      "Epoch 000/015 | Loss 0.0061 | Win/lose count 3.5/6.0 (-2.5)\n",
      "Epoch 001/015 | Loss 0.0026 | Win/lose count 3.5/2.0 (1.5)\n",
      "Epoch 002/015 | Loss 0.0085 | Win/lose count 6.0/7.0 (-1.0)\n",
      "Epoch 003/015 | Loss 0.0174 | Win/lose count 5.5/1.0 (4.5)\n",
      "Epoch 004/015 | Loss 0.0080 | Win/lose count 1.5/4.0 (-2.5)\n",
      "Epoch 005/015 | Loss 0.0044 | Win/lose count 7.0/6.0 (1.0)\n",
      "Epoch 006/015 | Loss 0.0052 | Win/lose count 2.5/5.0 (-2.5)\n",
      "Epoch 007/015 | Loss 0.0060 | Win/lose count 0/3.0 (-3.0)\n",
      "Epoch 008/015 | Loss 0.0037 | Win/lose count 1.0/2.0 (-1.0)\n",
      "Epoch 009/015 | Loss 0.0029 | Win/lose count 4.0/2.0 (2.0)\n",
      "Epoch 010/015 | Loss 0.0048 | Win/lose count 4.5/4.0 (0.5)\n",
      "Epoch 011/015 | Loss 0.0118 | Win/lose count 3.5/6.0 (-2.5)\n",
      "Epoch 012/015 | Loss 0.0079 | Win/lose count 4.5/2.0 (2.5)\n",
      "Epoch 013/015 | Loss 0.0071 | Win/lose count 3.0/4.0 (-1.0)\n",
      "Epoch 014/015 | Loss 0.0023 | Win/lose count 4.0/1.0 (3.0)\n"
     ]
    },
    {
     "data": {
      "text/html": [
       "<video alt=\"test\" controls>\n",
       "                <source src=\"data:video/mp4;base64,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\" type=\"video/mp4\" />\n",
       "             </video>"
      ],
      "text/plain": [
       "<IPython.core.display.HTML object>"
      ]
     },
     "execution_count": 14,
     "metadata": {},
     "output_type": "execute_result"
    }
   ],
   "source": [
    "env = Environment(grid_size=size, max_time=T, temperature=0.3)\n",
    "agent = DQN_CNN(size, lr=.1, epsilon = 0.1, memory_size=2000, batch_size = 32)\n",
    "train(agent,env,epochs_train,prefix='cnn_train')\n",
    "HTML(display_videos('cnn_train10.mp4'))"
   ]
  },
  {
   "cell_type": "markdown",
   "metadata": {},
   "source": [
    "***\n",
    "***\n",
    "__Question 9__ Test both algorithms and compare their performances. Which issue(s) do you observe? Observe also different behaviors by changing the temperature."
   ]
  },
  {
   "cell_type": "code",
   "execution_count": 15,
   "metadata": {},
   "outputs": [
    {
     "name": "stdout",
     "output_type": "stream",
     "text": [
      "Test of the CNN\n",
      "Win/lose count 1.5/0. Average score (1.5)\n",
      "Win/lose count 0/0. Average score (0.75)\n",
      "Win/lose count 2.0/1.0. Average score (0.8333333333333334)\n",
      "Win/lose count 2.0/1.0. Average score (0.875)\n",
      "Win/lose count 4.0/1.0. Average score (1.3)\n",
      "Win/lose count 1.0/0. Average score (1.25)\n",
      "Win/lose count 1.0/2.0. Average score (0.9285714285714286)\n",
      "Win/lose count 1.0/0. Average score (0.9375)\n",
      "Win/lose count 2.5/0. Average score (1.1111111111111112)\n",
      "Win/lose count 1.5/8.0. Average score (0.35)\n",
      "Win/lose count 4.5/4.0. Average score (0.36363636363636365)\n",
      "Win/lose count 3.0/1.0. Average score (0.5)\n",
      "Win/lose count 2.0/3.0. Average score (0.38461538461538464)\n",
      "Win/lose count 1.0/0. Average score (0.42857142857142855)\n",
      "Win/lose count 2.5/2.0. Average score (0.43333333333333335)\n",
      "Final score: 0.43333333333333335\n",
      "Test of the FC\n",
      "Win/lose count 2.5/3.0. Average score (-0.5)\n",
      "Win/lose count 1.0/6.0. Average score (-2.75)\n",
      "Win/lose count 0.5/0. Average score (-1.6666666666666667)\n",
      "Win/lose count 1.0/2.0. Average score (-1.5)\n",
      "Win/lose count 1.5/4.0. Average score (-1.7)\n",
      "Win/lose count 1.5/1.0. Average score (-1.3333333333333333)\n",
      "Win/lose count 1.0/0. Average score (-1.0)\n",
      "Win/lose count 0.5/0. Average score (-0.8125)\n",
      "Win/lose count 0/1.0. Average score (-0.8333333333333334)\n",
      "Win/lose count 2.0/4.0. Average score (-0.95)\n",
      "Win/lose count 1.5/0. Average score (-0.7272727272727273)\n",
      "Win/lose count 2.0/1.0. Average score (-0.5833333333333334)\n",
      "Win/lose count 1.0/2.0. Average score (-0.6153846153846154)\n",
      "Win/lose count 1.0/3.0. Average score (-0.7142857142857143)\n",
      "Win/lose count 0.5/0. Average score (-0.6333333333333333)\n",
      "Final score: -0.6333333333333333\n"
     ]
    }
   ],
   "source": [
    "env = Environment(grid_size=size, max_time=T,temperature=0.3)\n",
    "agent_cnn = DQN_CNN(size, lr=.1, epsilon = 0.1, memory_size=2000, batch_size = 32)\n",
    "agent_cnn.load(name_weights='cnn_trainmodel.h5',name_model='cnn_trainmodel.json')\n",
    "\n",
    "agent_fc = DQN_FC(size, lr=.1, epsilon = 0.1, memory_size=2000, batch_size = 32)\n",
    "agent_cnn.load(name_weights='fc_trainmodel.h5',name_model='fc_trainmodel.json')\n",
    "print('Test of the CNN')\n",
    "test(agent_cnn,env,epochs_test,prefix='cnn_test')\n",
    "print('Test of the FC')\n",
    "test(agent_fc,env,epochs_test,prefix='fc_test')"
   ]
  },
  {
   "cell_type": "code",
   "execution_count": 16,
   "metadata": {},
   "outputs": [
    {
     "data": {
      "text/html": [
       "<video alt=\"test\" controls>\n",
       "                <source src=\"data:video/mp4;base64,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\" type=\"video/mp4\" />\n",
       "             </video>"
      ],
      "text/plain": [
       "<IPython.core.display.HTML object>"
      ]
     },
     "execution_count": 16,
     "metadata": {},
     "output_type": "execute_result"
    }
   ],
   "source": [
    "HTML(display_videos('cnn_test10.mp4'))"
   ]
  },
  {
   "cell_type": "code",
   "execution_count": 17,
   "metadata": {},
   "outputs": [
    {
     "data": {
      "text/html": [
       "<video alt=\"test\" controls>\n",
       "                <source src=\"data:video/mp4;base64,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\" type=\"video/mp4\" />\n",
       "             </video>"
      ],
      "text/plain": [
       "<IPython.core.display.HTML object>"
      ]
     },
     "execution_count": 17,
     "metadata": {},
     "output_type": "execute_result"
    }
   ],
   "source": [
    "HTML(display_videos('fc_test10.mp4'))"
   ]
  },
  {
   "cell_type": "markdown",
   "metadata": {},
   "source": [
    "CNN architecture achieves better results than fully-connected architecture. The main problem observed on videos is that the agent does not explore enough: it ends up stuck between 2 or 3 states. A high temperature increases the positive rewards cells: the agent explores more since he often sees positive rewards in his surroundings, and the final average score is better."
   ]
  },
  {
   "cell_type": "markdown",
   "metadata": {},
   "source": [
    "***\n",
    "\n",
    "The algorithm tends to not explore the map which can be an issue. We propose two ideas in order to encourage exploration:\n",
    "1. Incorporating a decreasing $\\epsilon$-greedy exploration. You can use the method ```set_epsilon```\n",
    "2. Append via the environment a new state that describes if a cell has been visited or not\n",
    "\n",
    "***\n",
    "__Question 10__ Design a new ```train_explore``` function and environment class ```EnvironmentExploring``` to tackle the issue of exploration.\n",
    "\n"
   ]
  },
  {
   "cell_type": "code",
   "execution_count": 18,
   "metadata": {},
   "outputs": [],
   "source": [
    "def train_explore(agent,env,epoch,prefix='', eps_decay = 0.99):\n",
    "    # Number of won games\n",
    "    score = 0\n",
    "    loss = 0\n",
    "\n",
    "    for e in range(epoch):\n",
    "        # At each epoch, we restart to a fresh game and get the initial state\n",
    "        state = env.reset()\n",
    "        # This assumes that the games will terminate\n",
    "        game_over = False\n",
    "\n",
    "        win = 0\n",
    "        lose = 0\n",
    "\n",
    "        while not game_over:\n",
    "            # The agent performs an action\n",
    "            action = agent.act(state)\n",
    "\n",
    "            # Apply an action to the environment, get the next state, the reward\n",
    "            # and if the games end\n",
    "            prev_state = state\n",
    "            state, reward, game_over = env.act(action, train=True)\n",
    "\n",
    "            # Update the counters\n",
    "            if reward > 0:\n",
    "                win = win + reward\n",
    "            if reward < 0:\n",
    "                lose = lose -reward\n",
    "\n",
    "            # Apply the reinforcement strategy\n",
    "            loss = agent.reinforce(prev_state, state,  action, reward, game_over)\n",
    "\n",
    "            #Decreasing eps-greedy policy\n",
    "            agent.set_epsilon(agent.epsilon * eps_decay)\n",
    "            \n",
    "        # Save as a mp4\n",
    "        if e % 10 == 0:\n",
    "            env.draw(prefix+str(e))\n",
    "\n",
    "        # Update stats\n",
    "        score += win-lose\n",
    "\n",
    "        print(\"Epoch {:03d}/{:03d} | Loss {:.4f} | Win/lose count {}/{} ({})\"\n",
    "              .format(e, epoch, loss, win, lose, win-lose))\n",
    "        agent.save(name_weights=prefix+'model.h5',name_model=prefix+'model.json')\n",
    "        \n",
    "class EnvironmentExploring(object):\n",
    "    def __init__(self, grid_size=10, max_time=500, temperature=0.1):\n",
    "        \n",
    "        grid_size = grid_size+4\n",
    "        self.grid_size = grid_size\n",
    "        self.max_time = max_time\n",
    "        self.temperature = temperature\n",
    "\n",
    "        #board on which one plays\n",
    "        self.malus_position = np.zeros((grid_size,grid_size))\n",
    "        self.board = np.zeros((grid_size,grid_size))\n",
    "        self.position = np.zeros((grid_size,grid_size))\n",
    "\n",
    "        # coordinate of the rat\n",
    "        self.x = 0\n",
    "        self.y = 1\n",
    "\n",
    "        # self time\n",
    "        self.t = 0\n",
    "\n",
    "        self.scale=16\n",
    "\n",
    "        self.to_draw = np.zeros((max_time+2, grid_size*self.scale, grid_size*self.scale, 3))\n",
    "        \n",
    "    def draw(self,e):\n",
    "        skvideo.io.vwrite(str(e) + '.mp4', self.to_draw)\n",
    "\n",
    "    def get_frame(self,t):\n",
    "        b = np.zeros((self.grid_size,self.grid_size,3))+128\n",
    "        b[self.board>0,0] = 256\n",
    "        b[self.board < 0, 2] = 256\n",
    "        b[self.x,self.y,:]=256\n",
    "        b[-2:,:,:]=0\n",
    "        b[:,-2:,:]=0\n",
    "        b[:2,:,:]=0\n",
    "        b[:,:2,:]=0\n",
    "        \n",
    "        b =  cv2.resize(b, None, fx=self.scale, fy=self.scale, interpolation=cv2.INTER_NEAREST)\n",
    "\n",
    "        self.to_draw[t,:,:,:]=b\n",
    "\n",
    "    def act(self, action, train=True):\n",
    "        \"\"\"This function returns the new state, reward and decides if the\n",
    "        game ends.\"\"\"\n",
    "\n",
    "        self.get_frame(int(self.t))\n",
    "\n",
    "        self.position = np.zeros((self.grid_size, self.grid_size))\n",
    "\n",
    "        self.position[0:2,:]= -1\n",
    "        self.position[:,0:2] = -1\n",
    "        self.position[-2:, :] = -1\n",
    "        self.position[-2:, :] = -1\n",
    "\n",
    "        self.position[self.x, self.y] = 1\n",
    "        if action == 0:\n",
    "            if self.x == self.grid_size-3:\n",
    "                self.x = self.x-1\n",
    "            else:\n",
    "                self.x = self.x + 1\n",
    "        elif action == 1:\n",
    "            if self.x == 2:\n",
    "                self.x = self.x+1\n",
    "            else:\n",
    "                self.x = self.x-1\n",
    "        elif action == 2:\n",
    "            if self.y == self.grid_size - 3:\n",
    "                self.y = self.y - 1\n",
    "            else:\n",
    "                self.y = self.y + 1\n",
    "        elif action == 3:\n",
    "            if self.y == 2:\n",
    "                self.y = self.y + 1\n",
    "            else:\n",
    "                self.y = self.y - 1\n",
    "        else:\n",
    "            RuntimeError('Error: action not recognized')\n",
    "\n",
    "        self.t = self.t + 1\n",
    "        reward = self.board[self.x, self.y]\n",
    "        self.board[self.x, self.y] = 0\n",
    "        game_over = self.t > self.max_time\n",
    "        \n",
    "        if train:\n",
    "            reward -= self.malus_position[self.x, self.y]\n",
    "            \n",
    "        self.malus_position[self.x, self.y] += 0.1\n",
    "        \n",
    "\n",
    "        state = np.concatenate((self.malus_position.reshape(self.grid_size, self.grid_size,1),\n",
    "                                self.board.reshape(self.grid_size, self.grid_size,1),\n",
    "                        self.position.reshape(self.grid_size, self.grid_size,1)),axis=2)\n",
    "        state = state[self.x-2:self.x+3,self.y-2:self.y+3,:]\n",
    "\n",
    "        return state, reward, game_over\n",
    "\n",
    "    def reset(self):\n",
    "        \"\"\"This function resets the game and returns the initial state\"\"\"\n",
    "\n",
    "        self.x = np.random.randint(3, self.grid_size-3, size=1)[0]\n",
    "        self.y = np.random.randint(3, self.grid_size-3, size=1)[0]\n",
    "\n",
    "\n",
    "        bonus = 0.5*np.random.binomial(1,self.temperature,size=self.grid_size**2)\n",
    "        bonus = bonus.reshape(self.grid_size,self.grid_size)\n",
    "\n",
    "        malus = -1.0*np.random.binomial(1,self.temperature,size=self.grid_size**2)\n",
    "        malus = malus.reshape(self.grid_size, self.grid_size)\n",
    "\n",
    "        self.to_draw = np.zeros((self.max_time+2, self.grid_size*self.scale, self.grid_size*self.scale, 3))\n",
    "\n",
    "\n",
    "        malus[bonus>0]=0\n",
    "        \n",
    "        self.malus_position = np.zeros((self.grid_size, self.grid_size))\n",
    "        \n",
    "        self.board = bonus + malus\n",
    "\n",
    "        self.position = np.zeros((self.grid_size, self.grid_size))\n",
    "        self.position[0:2,:]= -1\n",
    "        self.position[:,0:2] = -1\n",
    "        self.position[-2:, :] = -1\n",
    "        self.position[-2:, :] = -1\n",
    "        self.board[self.x,self.y] = 0\n",
    "        self.t = 0\n",
    "\n",
    "        state = np.concatenate((self.malus_position.reshape(self.grid_size, self.grid_size,1),\n",
    "                                self.board.reshape(self.grid_size, self.grid_size,1),\n",
    "                        self.position.reshape(self.grid_size, self.grid_size,1)),axis=2)\n",
    "        state = state[self.x - 2:self.x + 3, self.y - 2:self.y + 3, :]\n",
    "        return state\n"
   ]
  },
  {
   "cell_type": "code",
   "execution_count": 19,
   "metadata": {},
   "outputs": [
    {
     "name": "stdout",
     "output_type": "stream",
     "text": [
      "Epoch 000/015 | Loss 0.0307 | Win/lose count 11.5/46.30000000000003 (-34.80000000000003)\n",
      "Epoch 001/015 | Loss 0.0342 | Win/lose count 14.5/41.200000000000045 (-26.700000000000045)\n",
      "Epoch 002/015 | Loss 0.0292 | Win/lose count 10.0/44.70000000000002 (-34.70000000000002)\n",
      "Epoch 003/015 | Loss 0.0249 | Win/lose count 18.0/29.10000000000001 (-11.100000000000009)\n",
      "Epoch 004/015 | Loss 0.0599 | Win/lose count 17.5/25.299999999999997 (-7.799999999999997)\n",
      "Epoch 005/015 | Loss 0.0423 | Win/lose count 20.0/16.599999999999987 (3.400000000000013)\n",
      "Epoch 006/015 | Loss 0.0375 | Win/lose count 21.0/18.699999999999985 (2.300000000000015)\n",
      "Epoch 007/015 | Loss 0.0224 | Win/lose count 19.5/21.299999999999986 (-1.7999999999999865)\n",
      "Epoch 008/015 | Loss 0.0314 | Win/lose count 21.5/23.000000000000007 (-1.500000000000007)\n",
      "Epoch 009/015 | Loss 0.0555 | Win/lose count 24.0/11.599999999999993 (12.400000000000007)\n",
      "Epoch 010/015 | Loss 0.0360 | Win/lose count 25.5/15.899999999999979 (9.600000000000021)\n",
      "Epoch 011/015 | Loss 0.0587 | Win/lose count 19.0/25.599999999999998 (-6.599999999999998)\n",
      "Epoch 012/015 | Loss 0.0342 | Win/lose count 24.0/17.799999999999997 (6.200000000000003)\n",
      "Epoch 013/015 | Loss 0.0399 | Win/lose count 27.0/17.999999999999986 (9.000000000000014)\n",
      "Epoch 014/015 | Loss 0.0455 | Win/lose count 22.0/19.799999999999972 (2.2000000000000277)\n"
     ]
    },
    {
     "data": {
      "text/html": [
       "<video alt=\"test\" controls>\n",
       "                <source src=\"data:video/mp4;base64,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\" type=\"video/mp4\" />\n",
       "             </video>"
      ],
      "text/plain": [
       "<IPython.core.display.HTML object>"
      ]
     },
     "execution_count": 19,
     "metadata": {},
     "output_type": "execute_result"
    }
   ],
   "source": [
    "# Training\n",
    "env = EnvironmentExploring(grid_size=size, max_time=T, temperature=0.3)\n",
    "agent = DQN_CNN(size, lr=.1, epsilon = 1, memory_size=2000, batch_size = 32,n_state=3)\n",
    "train_explore(agent, env, epochs_train, prefix='cnn_train_explore')\n",
    "HTML(display_videos('cnn_train_explore10.mp4'))"
   ]
  },
  {
   "cell_type": "code",
   "execution_count": 20,
   "metadata": {},
   "outputs": [
    {
     "name": "stdout",
     "output_type": "stream",
     "text": [
      "Win/lose count 23.0/8.0. Average score (15.0)\n",
      "Win/lose count 25.0/7.0. Average score (16.5)\n",
      "Win/lose count 25.0/8.0. Average score (16.666666666666668)\n",
      "Win/lose count 25.5/4.0. Average score (17.875)\n",
      "Win/lose count 25.0/10.0. Average score (17.3)\n",
      "Win/lose count 25.0/11.0. Average score (16.75)\n",
      "Win/lose count 25.0/7.0. Average score (16.928571428571427)\n",
      "Win/lose count 24.5/6.0. Average score (17.125)\n",
      "Win/lose count 21.0/7.0. Average score (16.77777777777778)\n",
      "Win/lose count 20.0/4.0. Average score (16.7)\n",
      "Win/lose count 22.5/4.0. Average score (16.863636363636363)\n",
      "Win/lose count 24.0/6.0. Average score (16.958333333333332)\n",
      "Win/lose count 22.0/8.0. Average score (16.73076923076923)\n",
      "Win/lose count 22.5/6.0. Average score (16.714285714285715)\n",
      "Win/lose count 25.5/9.0. Average score (16.7)\n",
      "Final score: 16.7\n"
     ]
    },
    {
     "data": {
      "text/html": [
       "<video alt=\"test\" controls>\n",
       "                <source src=\"data:video/mp4;base64,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\" type=\"video/mp4\" />\n",
       "             </video>"
      ],
      "text/plain": [
       "<IPython.core.display.HTML object>"
      ]
     },
     "execution_count": 20,
     "metadata": {},
     "output_type": "execute_result"
    }
   ],
   "source": [
    "# Evaluation\n",
    "test(agent,env,epochs_test,prefix='cnn_test_explore')\n",
    "HTML(display_videos('cnn_test_explore10.mp4'))"
   ]
  },
  {
   "cell_type": "markdown",
   "metadata": {},
   "source": [
    "***\n",
    "***\n",
    "__BONUS question__ Use the expert DQN from the previous question to generate some winning games. Train a model that mimicks its behavior. Compare the performances."
   ]
  },
  {
   "cell_type": "markdown",
   "metadata": {},
   "source": []
  },
  {
   "cell_type": "markdown",
   "metadata": {},
   "source": [
    "***"
   ]
  }
 ],
 "metadata": {
  "kernelspec": {
   "display_name": "Python 3",
   "language": "python",
   "name": "python3"
  },
  "language_info": {
   "codemirror_mode": {
    "name": "ipython",
    "version": 3
   },
   "file_extension": ".py",
   "mimetype": "text/x-python",
   "name": "python",
   "nbconvert_exporter": "python",
   "pygments_lexer": "ipython3",
   "version": "3.7.6"
  }
 },
 "nbformat": 4,
 "nbformat_minor": 4
}
