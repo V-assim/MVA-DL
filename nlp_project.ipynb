{
 "cells": [
  {
   "cell_type": "markdown",
   "metadata": {},
   "source": [
    "# Deep Learning for NLP - Project"
   ]
  },
  {
   "cell_type": "markdown",
   "metadata": {},
   "source": [
    "RULES:\n",
    "\n",
    "* Do not create any additional cell\n",
    "\n",
    "* Fill in the blanks\n",
    "\n",
    "* All cells should be runnable (modulo trivial compatibility bugs that we'd fix)\n",
    "\n",
    "* 4 / 20 points will be allocated to the clarity of your code\n",
    "\n",
    "* Efficient code will have a bonus\n",
    "\n",
    "DELIVERABLE:\n",
    "\n",
    "* the pdf with your answers\n",
    "* this notebook\n",
    "* the predictions of the SST test set\n",
    "\n",
    "DO NOT INCLUDE THE DATASETS IN THE DELIVERABLE.."
   ]
  },
  {
   "cell_type": "code",
   "execution_count": 1,
   "metadata": {
    "collapsed": false,
    "jupyter": {
     "outputs_hidden": false
    }
   },
   "outputs": [],
   "source": [
    "# Python 3.6 or above is required\n",
    "from collections import defaultdict\n",
    "import gzip\n",
    "import scipy.linalg\n",
    "import numpy as np\n",
    "from pathlib import Path\n",
    "from urllib.request import urlretrieve"
   ]
  },
  {
   "cell_type": "code",
   "execution_count": 2,
   "metadata": {},
   "outputs": [],
   "source": [
    "PATH_TO_DATA = Path('data/')\n",
    "# Download word vectors, might take a few minutes and about ~3GB of storage space\n",
    "en_embeddings_path = PATH_TO_DATA / 'cc.en.300.vec.gz'\n",
    "if not en_embeddings_path.exists():\n",
    "    urlretrieve('https://dl.fbaipublicfiles.com/fasttext/vectors-crawl/cc.en.300.vec.gz', en_embeddings_path)\n",
    "fr_embeddings_path = PATH_TO_DATA / 'cc.fr.300.vec.gz'\n",
    "if not fr_embeddings_path.exists():\n",
    "    urlretrieve('https://dl.fbaipublicfiles.com/fasttext/vectors-crawl/cc.fr.300.vec.gz', fr_embeddings_path)"
   ]
  },
  {
   "cell_type": "markdown",
   "metadata": {},
   "source": [
    "# 1) Monolingual (English) word embeddings "
   ]
  },
  {
   "cell_type": "code",
   "execution_count": 3,
   "metadata": {},
   "outputs": [],
   "source": [
    "class Word2Vec():\n",
    "\n",
    "    def __init__(self, filepath, vocab_size=50000):\n",
    "        self.words, self.embeddings = self.load_wordvec(filepath, vocab_size)\n",
    "        # Mappings for O(1) retrieval:\n",
    "        self.word2id = {word: idx for idx, word in enumerate(self.words)}\n",
    "        self.id2word = {idx: word for idx, word in enumerate(self.words)}\n",
    "        self.EMBEDDING_SHAPE = self.embeddings[0].shape\n",
    "    \n",
    "    def load_wordvec(self, filepath, vocab_size):\n",
    "        assert str(filepath).endswith('.gz')\n",
    "        words = []\n",
    "        embeddings = []\n",
    "        with gzip.open(filepath, 'rt') as f:  # Read compressed file directly\n",
    "            next(f)  # Skip header\n",
    "            for i, line in enumerate(f):\n",
    "                word, vec = line.split(' ', 1)\n",
    "                words.append(word)\n",
    "                embeddings.append(np.fromstring(vec, sep=' '))\n",
    "                if i == (vocab_size - 1):\n",
    "                    break\n",
    "        print('Loaded %s pretrained word vectors' % (len(words)))\n",
    "        return words, np.vstack(embeddings)\n",
    "    \n",
    "    def encode(self, word):\n",
    "        # Returns the 1D embedding of a given word\n",
    "        try:\n",
    "            return self.embeddings[self.word2id[word]]\n",
    "        except KeyError:\n",
    "            return np.zeros(self.EMBEDDING_SHAPE)\n",
    "    \n",
    "    def score(self, word1, word2):\n",
    "        # Return the cosine similarity: use np.dot & np.linalg.norm\n",
    "        embed1, embed2 = self.encode(word1), self.encode(word2)\n",
    "        return np.dot(embed1/np.linalg.norm(embed1), embed2/np.linalg.norm(embed2))\n",
    "    \n",
    "    def most_similar(self, word, k=5):\n",
    "        # Returns the k most similar words: self.score & np.argsort \n",
    "        scores = [self.score(word, word2) if word != word2 else 0 for word2 in self.words]\n",
    "        k_similars = np.argsort(np.array(scores))[-1:-k-1:-1]\n",
    "        # [-1:-k-1:-1] to select the k words with the highest similarity, decreasing order of similarity.\n",
    "        \n",
    "        return [self.id2word[simil] for simil in k_similars]"
   ]
  },
  {
   "cell_type": "code",
   "execution_count": 4,
   "metadata": {
    "collapsed": false,
    "jupyter": {
     "outputs_hidden": false
    }
   },
   "outputs": [
    {
     "name": "stdout",
     "output_type": "stream",
     "text": [
      "Loaded 50000 pretrained word vectors\n",
      "cat tree 0.26449754661654756\n",
      "cat dog 0.7078641298542561\n",
      "cat pet 0.6753313359976383\n",
      "Paris France 0.689295892580654\n",
      "Paris Germany 0.40512422867375486\n",
      "Paris baguette 0.2939995827780223\n",
      "Paris donut -0.0065885075523479915\n",
      "['cats', 'kitty', 'kitten', 'feline', 'dog']\n",
      "['dogs', 'puppy', 'pup', 'canine', 'pet']\n",
      "['dog', 'cats', 'puppies', 'Dogs', 'pets']\n",
      "['France', 'Parisian', 'Marseille', 'Brussels', 'Strasbourg']\n",
      "['Austria', 'Europe', 'Berlin', 'Hamburg', 'Bavaria']\n"
     ]
    }
   ],
   "source": [
    "word2vec = Word2Vec(en_embeddings_path, vocab_size=50000)\n",
    "\n",
    "# You will be evaluated on the output of the following:\n",
    "for word1, word2 in zip(('cat', 'cat', 'cat', 'Paris', 'Paris', 'Paris', 'Paris'), ('tree', 'dog', 'pet', 'France', 'Germany', 'baguette', 'donut')):\n",
    "    print(word1, word2, word2vec.score(word1, word2))\n",
    "for word in ['cat', 'dog', 'dogs', 'Paris', 'Germany']:\n",
    "    print(word2vec.most_similar(word))"
   ]
  },
  {
   "cell_type": "code",
   "execution_count": 5,
   "metadata": {
    "collapsed": false,
    "jupyter": {
     "outputs_hidden": false
    }
   },
   "outputs": [],
   "source": [
    "class BagOfWords():\n",
    "    \n",
    "    def __init__(self, word2vec):\n",
    "        self.word2vec = word2vec\n",
    "    \n",
    "    def build_idf(self, sentences):\n",
    "        # build the idf dictionary: associate each word to its idf value\n",
    "        # -> idf = {word: idf_value, ...}\n",
    "        D = np.log(len(sentences))\n",
    "        \n",
    "        word_count = {word: 0 for word in self.word2vec.words}\n",
    "        for sentence in sentences:\n",
    "            for word in list(set(sentence.strip().split(\" \"))):\n",
    "                try:\n",
    "                    word_count[word] += 1\n",
    "                except KeyError:\n",
    "                    word_count[word] = 0\n",
    "        \n",
    "        idf = {word: D - np.log(word_count[word]+1e-9) for word in self.word2vec.words}  # + 1e-9 to avoid having 0 in the log.\n",
    "        return idf\n",
    "    \n",
    "    def encode(self, sentence, idf=None):\n",
    "        # Takes a sentence as input, returns the sentence embedding\n",
    "        if idf is None:\n",
    "            # mean of word vectors\n",
    "            # raise NotImplementedError('Fill in the blank')\n",
    "            return np.mean([self.word2vec.encode(word) for word in sentence.strip().split(' ')], axis=0)\n",
    "        else:\n",
    "            # idf-weighted mean of word vectors\n",
    "            # raise NotImplementedError('Fill in the blank')\n",
    "            return np.mean([idf.get(word, 0)*self.word2vec.encode(word) for word in sentence.strip().split(' ')], axis=0)\n",
    "\n",
    "    def score(self, sentence1, sentence2, idf=None):\n",
    "        # cosine similarity: use np.dot & np.linalg.norm \n",
    "        # raise NotImplementedError('Fill in the blank')\n",
    "        embed1, embed2 = self.encode(sentence1, idf=idf), self.encode(sentence2, idf=idf)\n",
    "        return np.dot(embed1, embed2) / (np.linalg.norm(embed1) * np.linalg.norm(embed2))\n",
    "    \n",
    "    def most_similar(self, sentence, sentences, idf=None, k=5):\n",
    "        # Return most similar sentences\n",
    "        query = self.encode(sentence, idf)\n",
    "        keys = np.vstack([self.encode(sentence, idf) for sentence in sentences])\n",
    "        # raise NotImplementedError('Fill in the blank')\n",
    "        scores = [self.score(sentence, sentence2, idf=idf) if sentence != sentence2 else 0 for sentence2 in sentences]\n",
    "        k_similars = np.argsort(np.array(scores))[-1:-k-1:-1]\n",
    "        # [-2:-k-2:-1] to select the k words with the highest similarity, in decreasing order of similarity.\n",
    "        return [sentences[arg] for arg in k_similars]"
   ]
  },
  {
   "cell_type": "code",
   "execution_count": 6,
   "metadata": {
    "collapsed": false,
    "jupyter": {
     "outputs_hidden": false
    }
   },
   "outputs": [
    {
     "name": "stdout",
     "output_type": "stream",
     "text": [
      "Loaded 50000 pretrained word vectors\n",
      "\n",
      "\tAverage of word embeddings\n",
      "1 man singing and 1 man playing a saxophone in a concert . \n",
      "10 people venture out to go crosscountry skiing . \n",
      "0.7065220648251475\n",
      "1 smiling african american boy . \n",
      "1) 2 woman dancing while pointing . \n",
      "2) 5 women and 1 man are smiling for the camera . \n",
      "3) a small boy following 4 geese . \n",
      "4) 2 female babies eating chips . \n",
      "5) a young boy and 2 girls open christmas presents . \n",
      "\n",
      "\tidf weighted average of word embeddings\n",
      "1 man singing and 1 man playing a saxophone in a concert . \n",
      "10 people venture out to go crosscountry skiing . \n",
      "0.6400799939347016\n",
      "a young boy and 2 girls open christmas presents . \n",
      "1) 3 girls and one boy playing in the street . \n",
      "2) a group of friends , 3 boys and 2 girls , jump in the air holding hands for a photo . \n",
      "3) five children , 3 boys and 2 girls playing soccer in a grass field . \n",
      "4) 2 young indian girls dressed in colorful dresses walking . \n",
      "5) 2 kids holding hands and smiling . \n"
     ]
    }
   ],
   "source": [
    "word2vec = Word2Vec(en_embeddings_path, vocab_size=50000)\n",
    "sentence2vec = BagOfWords(word2vec)\n",
    "\n",
    "# Load sentences in \"PATH_TO_DATA/sentences.txt\"\n",
    "filepath = PATH_TO_DATA / 'sentences.txt'\n",
    "with open(filepath, 'r') as f:\n",
    "    sentences = [line.strip('\\n') for line in f]\n",
    "\n",
    "\n",
    "# You will be evaluated on the output of the following:\n",
    "print('\\n\\tAverage of word embeddings')\n",
    "sentence1 = sentences[7]\n",
    "sentence2 = sentences[13]\n",
    "print(sentence1)\n",
    "print(sentence2)\n",
    "print(sentence2vec.score(sentence1, sentence2))\n",
    "sentence = sentences[10]\n",
    "similar_sentences = sentence2vec.most_similar(sentence, sentences)  # BagOfWords-mean\n",
    "print(sentence)\n",
    "for i, sentence in enumerate(similar_sentences):\n",
    "    print(str(i+1) + ')', sentence)\n",
    "\n",
    "# Build idf scores for each word\n",
    "idf = sentence2vec.build_idf(sentences)\n",
    "\n",
    "print('\\n\\tidf weighted average of word embeddings')\n",
    "print(sentence1)\n",
    "print(sentence2)\n",
    "print(sentence2vec.score(sentence1, sentence2, idf))\n",
    "similar_sentences = sentence2vec.most_similar(sentence, sentences, idf)  # BagOfWords-idf\n",
    "print(sentence)\n",
    "for i, sentence in enumerate(similar_sentences):\n",
    "    print(str(i+1) + ')', sentence)"
   ]
  },
  {
   "cell_type": "markdown",
   "metadata": {},
   "source": [
    "# 2) Multilingual (English-French) word embeddings"
   ]
  },
  {
   "cell_type": "markdown",
   "metadata": {},
   "source": [
    "Let's consider a bilingual dictionary of size V_a (e.g French-English).\n",
    "\n",
    "Let's define **X** and **Y** the **French** and **English** matrices.\n",
    "\n",
    "They contain the embeddings associated to the words in the bilingual dictionary.\n",
    "\n",
    "We want to find a **mapping W** that will project the source word space (e.g French) to the target word space (e.g English).\n",
    "\n",
    "Procrustes : **W\\* = argmin || W.X - Y ||  s.t  W^T.W = Id**\n",
    "has a closed form solution:\n",
    "**W = U.V^T  where  U.Sig.V^T = SVD(Y.X^T)**\n",
    "\n",
    "In what follows, you are asked to: "
   ]
  },
  {
   "cell_type": "code",
   "execution_count": 7,
   "metadata": {},
   "outputs": [],
   "source": [
    "class MultilingualWordAligner:\n",
    "    \n",
    "    def __init__(self, fr_word2vec, en_word2vec):\n",
    "        self.fr_word2vec = fr_word2vec\n",
    "        self.en_word2vec = en_word2vec\n",
    "        self.aligned_fr_embeddings = self.get_aligned_fr_embeddings()\n",
    "        \n",
    "    def get_aligned_fr_embeddings(self):\n",
    "        # 1 - Get words that appear in both vocabs (= identical character strings)\n",
    "        #     Use it to create the matrix X (emb_dim, vocab_size) and Y (emb_dim, vocab_size) (of embeddings for these words)\n",
    "        # raise NotImplementedError('Fill in the blank')\n",
    "        fr_words = set(self.fr_word2vec.words)\n",
    "        en_words = set(self.en_word2vec.words)\n",
    "        common_words = fr_words.intersection(en_words)\n",
    "        X = np.array([self.fr_word2vec.encode(word) for word in common_words]).T\n",
    "        Y = np.array([self.en_word2vec.encode(word) for word in common_words]).T\n",
    "        assert X.shape[0] == 300 and Y.shape[0] == 300\n",
    "        \n",
    "        # 2 - Solve the Procrustes using the numpy package and: np.linalg.svd() and get the optimal W\n",
    "        #     Now self.fr_word2vec.embeddings * W.transpose() is in the same space as en_word2vec.embeddings\n",
    "        # raise NotImplementedError('Fill in the blank')\n",
    "        U, E, Vt = scipy.linalg.svd(np.dot(Y, X.T))\n",
    "        W = np.dot(U, Vt)\n",
    "        assert W.shape == (300, 300)\n",
    "        return np.matmul(fr_word2vec.embeddings, W.transpose())\n",
    "        \n",
    "    def get_closest_english_words(self, fr_word, k=3):\n",
    "        # 3 - Return the top k English nearest neighbors to the input French word\n",
    "        # raise NotImplementedError('Fill in the blank')\n",
    "        fr_word_align_embed = self.aligned_fr_embeddings[self.fr_word2vec.word2id[fr_word]]\n",
    "        scores = [np.dot(fr_word_align_embed, embed)/(np.linalg.norm(embed)*np.linalg.norm(fr_word_align_embed)) for embed in self.en_word2vec.embeddings]\n",
    "        output = np.argsort(scores)[-1:-k-1:-1]\n",
    "        return [self.en_word2vec.id2word[w] for w in output]"
   ]
  },
  {
   "cell_type": "code",
   "execution_count": 8,
   "metadata": {},
   "outputs": [
    {
     "name": "stdout",
     "output_type": "stream",
     "text": [
      "Loaded 50000 pretrained word vectors\n",
      "Loaded 50000 pretrained word vectors\n",
      "----------\n",
      "fr: \"chat\"\n",
      "en: \"cat\"\n",
      "en: \"kitten\"\n",
      "en: \"kitty\"\n",
      "----------\n",
      "fr: \"chien\"\n",
      "en: \"dog\"\n",
      "en: \"cat\"\n",
      "en: \"pet\"\n",
      "----------\n",
      "fr: \"voiture\"\n",
      "en: \"car\"\n",
      "en: \"vehicle\"\n",
      "en: \"automobile\"\n",
      "----------\n",
      "fr: \"zut\"\n",
      "en: \"oops\"\n",
      "en: \"Ah\"\n",
      "en: \"ah\"\n"
     ]
    }
   ],
   "source": [
    "fr_word2vec = Word2Vec(fr_embeddings_path, vocab_size=50000)\n",
    "en_word2vec = Word2Vec(en_embeddings_path, vocab_size=50000)\n",
    "multilingual_word_aligner = MultilingualWordAligner(fr_word2vec, en_word2vec)\n",
    "\n",
    "# You will be evaluated on the output of the following:\n",
    "fr_words = ['chat', 'chien', 'voiture', 'zut']\n",
    "k = 3\n",
    "for fr_word in fr_words:\n",
    "    print('-' * 10)\n",
    "    print(f'fr: \"{fr_word}\"')\n",
    "    en_words = multilingual_word_aligner.get_closest_english_words(fr_word, k=3)\n",
    "    for en_word in en_words:\n",
    "        print(f'en: \"{en_word}\"')"
   ]
  },
  {
   "cell_type": "markdown",
   "metadata": {},
   "source": [
    "If you want to dive deeper on this subject: https://github.com/facebookresearch/MUSE"
   ]
  },
  {
   "cell_type": "markdown",
   "metadata": {},
   "source": [
    "# 3) Sentence classification with BoV and scikit-learn"
   ]
  },
  {
   "cell_type": "code",
   "execution_count": 9,
   "metadata": {},
   "outputs": [],
   "source": [
    "# 1 - Load train/dev/test of Stanford Sentiment TreeBank (SST)\n",
    "#     (https://nlp.stanford.edu/~socherr/EMNLP2013_RNTN.pdf)\n",
    "train_filepath = PATH_TO_DATA / 'SST/stsa.fine.train'\n",
    "dev_filepath = PATH_TO_DATA / 'SST/stsa.fine.dev'\n",
    "test_filepath = PATH_TO_DATA / 'SST/stsa.fine.test.X'\n",
    "\n",
    "# TYPE CODE HERE\n",
    "with open(train_filepath, 'r') as f:\n",
    "    train_samples = [(line.strip('\\n').split(\" \", 1)) for line in f]\n",
    "    train_sentences = [sample[1] for sample in train_samples]\n",
    "    train_labels = [int(sample[0]) for sample in train_samples]\n",
    "    train_sentence2id = {sentence: i for i, sentence in enumerate(train_sentences)}\n",
    "    train_id2sentence = {i: sentence for i, sentence in enumerate(train_sentences)}\n",
    "\n",
    "with open(dev_filepath, 'r') as f:\n",
    "    dev_samples = [(line.strip('\\n').split(\" \", 1)) for line in f]\n",
    "    dev_sentences = [sample[1] for sample in dev_samples]\n",
    "    dev_labels = [int(sample[0]) for sample in dev_samples]\n",
    "    dev_sentence2id = {sentence: i for i, sentence in enumerate(dev_sentences)}\n",
    "    dev_id2sentence = {i: sentence for i, sentence in enumerate(dev_sentences)}\n",
    "\n",
    "with open(test_filepath, 'r') as f:\n",
    "    test_sentences = [line.strip('\\n') for line in f]\n",
    "    test_sentence2id = {sentence: i for i, sentence in enumerate(test_sentences)}\n",
    "    test_id2sentence = {i: sentence for i, sentence in enumerate(test_sentences)}"
   ]
  },
  {
   "cell_type": "code",
   "execution_count": 10,
   "metadata": {},
   "outputs": [
    {
     "name": "stdout",
     "output_type": "stream",
     "text": [
      "Loaded 500000 pretrained word vectors\n"
     ]
    }
   ],
   "source": [
    "# 2 - Encode sentences with the BoV model above\n",
    "\n",
    "# TYPE CODE HERE\n",
    "word2vec = Word2Vec(en_embeddings_path, vocab_size=500000)\n",
    "sentence2vec = BagOfWords(word2vec)\n",
    "\n",
    "train_embeddings = [sentence2vec.encode(sentence) for sentence in train_sentences]\n",
    "dev_embeddings = [sentence2vec.encode(sentence) for sentence in dev_sentences]\n",
    "test_embeddings = [sentence2vec.encode(sentence) for sentence in test_sentences]\n",
    "\n",
    "idf_train = sentence2vec.build_idf(train_sentences)\n",
    "train_embeddings_idf = [sentence2vec.encode(sentence, idf=idf) for sentence in train_sentences]\n",
    "\n",
    "idf_dev = sentence2vec.build_idf(dev_sentences)\n",
    "dev_embeddings_idf = [sentence2vec.encode(sentence, idf=idf) for sentence in dev_sentences]\n",
    "\n",
    "idf_test = sentence2vec.build_idf(test_sentences)\n",
    "test_embeddings_idf = [sentence2vec.encode(sentence, idf=idf) for sentence in test_sentences]"
   ]
  },
  {
   "cell_type": "code",
   "execution_count": 11,
   "metadata": {},
   "outputs": [
    {
     "name": "stdout",
     "output_type": "stream",
     "text": [
      "No IDF:\n",
      "10 : 0.43505903723887374\n",
      "10 : 0.48092228464419473\n",
      "With IDF:\n",
      "0.3 : 0.40054495912806537\n",
      "0.3 : 0.4109316479400749\n"
     ]
    }
   ],
   "source": [
    "# 3 - Learn Logistic Regression on top of sentence embeddings using scikit-learn\n",
    "#     (consider tuning the L2 regularization on the dev set)\n",
    "#     In the paper, the accuracy for average of word vectors is 32.7%\n",
    "#     (VecAvg, table 1, https://nlp.stanford.edu/~socherr/EMNLP2013_RNTN.pdf)\n",
    "\n",
    "# TYPE CODE HERE\n",
    "from sklearn.linear_model import LogisticRegression\n",
    "#C = [0.9, 4.9, 10, 100, 1000]\n",
    "C = [10]\n",
    "print(\"No IDF:\")\n",
    "for c in C :\n",
    "    clf1 = LogisticRegression(random_state=0, max_iter=500, solver='lbfgs',multi_class='multinomial',C=c).fit(train_embeddings, train_labels)\n",
    "    print(str(c)+ \" : \" +str(clf1.score(dev_embeddings, dev_labels)))\n",
    "print(str(c)+ \" : \" +str(clf1.score(train_embeddings, train_labels)))\n",
    "C = [0.3]\n",
    "print(\"With IDF:\")\n",
    "for c in C :\n",
    "    clf2 = LogisticRegression(random_state=0, max_iter=500, solver='lbfgs',multi_class='multinomial',C=c).fit(train_embeddings_idf, train_labels)\n",
    "    print(str(c)+ \" : \" +str(clf2.score(dev_embeddings_idf, dev_labels)))\n",
    "print(str(c)+ \" : \" +str(clf1.score(train_embeddings_idf, train_labels)))"
   ]
  },
  {
   "cell_type": "code",
   "execution_count": 12,
   "metadata": {},
   "outputs": [],
   "source": [
    "# 4 - Produce 2210 predictions for the test set (in the same order). One line = one prediction (=0,1,2,3,4).\n",
    "#     Attach the output file \"logreg_bov_y_test_sst.txt\" to your deliverable.\n",
    "#     You will be evaluated on the results of the test set.\n",
    "\n",
    "# TYPE CODE HERE\n",
    "test_pred = clf1.predict(test_embeddings)\n",
    "test_pred_idf = clf2.predict(test_embeddings_idf)\n",
    "\n",
    "path_to_test_pred = 'logreg_bow_y_test_sst.txt'\n",
    "np.savetxt(path_to_test_pred, test_pred, delimiter=',', fmt='%d')"
   ]
  },
  {
   "cell_type": "code",
   "execution_count": 13,
   "metadata": {},
   "outputs": [],
   "source": [
    "# BONUS!\n",
    "# 5 - Try to improve performance with another classifier\n",
    "#     Attach the output file \"XXX_bov_y_test_sst.txt\" to your deliverable (where XXX = the name of the classifier)\n",
    "\n",
    "# TYPE CODE HERE"
   ]
  },
  {
   "cell_type": "markdown",
   "metadata": {},
   "source": [
    "# 4) Sentence classification with LSTMs in Keras"
   ]
  },
  {
   "cell_type": "markdown",
   "metadata": {},
   "source": [
    "## 4.1 - Preprocessing"
   ]
  },
  {
   "cell_type": "code",
   "execution_count": 14,
   "metadata": {
    "collapsed": false,
    "jupyter": {
     "outputs_hidden": false
    }
   },
   "outputs": [],
   "source": [
    "import tensorflow as tf"
   ]
  },
  {
   "cell_type": "code",
   "execution_count": 15,
   "metadata": {},
   "outputs": [],
   "source": [
    "# 1 - Using the same dataset, transform text to integers using tf.keras.preprocessing.text.one_hot function\n",
    "#     https://keras.io/preprocessing/text/\n",
    "\n",
    "# TYPE CODE HERE\n",
    "from tensorflow.keras.preprocessing.text import one_hot\n",
    "\n",
    "vocab_size = 50000\n",
    "\n",
    "train_one_hot = [one_hot(sentence, vocab_size) for sentence in train_sentences]\n",
    "dev_one_hot = [one_hot(sentence, vocab_size) for sentence in dev_sentences]\n",
    "test_one_hot = [one_hot(sentence, vocab_size) for sentence in test_sentences]"
   ]
  },
  {
   "cell_type": "markdown",
   "metadata": {},
   "source": [
    "**Padding input data**\n",
    "\n",
    "Models in Keras (and elsewhere) take batches of sentences of the same length as input. It is because Deep Learning framework have been designed to handle well Tensors, which are particularly suited for fast computation on the GPU.\n",
    "\n",
    "Since sentences have different sizes, we \"pad\" them. That is, we add dummy \"padding\" tokens so that they all have the same length.\n",
    "\n",
    "The input to a Keras model thus has this size : (batchsize, maxseqlen) where maxseqlen is the maximum length of a sentence in the batch."
   ]
  },
  {
   "cell_type": "code",
   "execution_count": 16,
   "metadata": {},
   "outputs": [],
   "source": [
    "# 2 - Pad your sequences using tf.keras.preprocessing.sequence.pad_sequences\n",
    "#     https://keras.io/preprocessing/sequence/\n",
    "\n",
    "# TYPE CODE HERE\n",
    "from tensorflow.keras.preprocessing.sequence import pad_sequences\n",
    "\n",
    "train_one_hot = pad_sequences(train_one_hot, padding='pre')\n",
    "dev_one_hot = pad_sequences(dev_one_hot, padding='pre')\n",
    "test_one_hot = pad_sequences(test_one_hot, padding='pre')"
   ]
  },
  {
   "cell_type": "markdown",
   "metadata": {},
   "source": [
    "## 4.2 - Design and train your model"
   ]
  },
  {
   "cell_type": "code",
   "execution_count": 17,
   "metadata": {},
   "outputs": [],
   "source": [
    "# 3 - Design your encoder + classifier using tensorflow.keras.layers\n",
    "#     In Keras, Torch and other deep learning framework, we create a \"container\" which is the Sequential() module.\n",
    "#     Then we add components to this container : the lookup-table, the LSTM, the classifier etc.\n",
    "#     All of these components are contained in the Sequential() and are trained together.\n",
    "#     Note that the embedding layer is initialized randomly and does not take advantage of pre-trained word embeddings.\n",
    "\n",
    "\n",
    "# ADAPT CODE BELOW\n",
    "\n",
    "\n",
    "from tensorflow.keras.models import Sequential\n",
    "from tensorflow.keras.layers import Embedding, LSTM, Dense, Activation\n",
    "\n",
    "embed_dim  = 32  # word embedding dimension\n",
    "nhid       = 64  # number of hidden units in the LSTM\n",
    "vocab_size = 50000  # size of the vocabulary\n",
    "n_classes  = 5\n",
    "\n",
    "model = Sequential()\n",
    "model.add(Embedding(vocab_size, embed_dim))\n",
    "model.add(LSTM(nhid, dropout=0.2, recurrent_dropout=0.2))\n",
    "model.add(Dense(n_classes, activation='sigmoid'))"
   ]
  },
  {
   "cell_type": "code",
   "execution_count": 18,
   "metadata": {
    "collapsed": false,
    "jupyter": {
     "outputs_hidden": false
    }
   },
   "outputs": [
    {
     "name": "stdout",
     "output_type": "stream",
     "text": [
      "Model: \"sequential\"\n",
      "_________________________________________________________________\n",
      "Layer (type)                 Output Shape              Param #   \n",
      "=================================================================\n",
      "embedding (Embedding)        (None, None, 32)          1600000   \n",
      "_________________________________________________________________\n",
      "lstm (LSTM)                  (None, 64)                24832     \n",
      "_________________________________________________________________\n",
      "dense (Dense)                (None, 5)                 325       \n",
      "=================================================================\n",
      "Total params: 1,625,157\n",
      "Trainable params: 1,625,157\n",
      "Non-trainable params: 0\n",
      "_________________________________________________________________\n",
      "None\n"
     ]
    }
   ],
   "source": [
    "# 4 - Define your loss/optimizer/metrics\n",
    "\n",
    "# MODIFY CODE BELOW\n",
    "\n",
    "loss_classif     =  'categorical_crossentropy' # find the right loss for multi-class classification\n",
    "optimizer        =  'adam' # find the right optimizer\n",
    "metrics_classif  =  ['accuracy']\n",
    "\n",
    "# Observe how easy (but blackboxed) this is in Keras\n",
    "model.compile(loss=loss_classif,\n",
    "              optimizer=optimizer,\n",
    "              metrics=metrics_classif)\n",
    "print(model.summary())"
   ]
  },
  {
   "cell_type": "code",
   "execution_count": 19,
   "metadata": {},
   "outputs": [
    {
     "name": "stdout",
     "output_type": "stream",
     "text": [
      "WARNING:tensorflow:The `nb_epoch` argument in `fit` has been renamed `epochs`.\n",
      "Train on 8544 samples, validate on 1101 samples\n",
      "Epoch 1/6\n",
      "8544/8544 [==============================] - 11s 1ms/sample - loss: 1.5752 - accuracy: 0.2748 - val_loss: 1.5694 - val_accuracy: 0.2534\n",
      "Epoch 2/6\n",
      "8544/8544 [==============================] - 9s 1ms/sample - loss: 1.5187 - accuracy: 0.3301 - val_loss: 1.4747 - val_accuracy: 0.3706\n",
      "Epoch 3/6\n",
      "8544/8544 [==============================] - 9s 1ms/sample - loss: 1.2915 - accuracy: 0.4360 - val_loss: 1.3800 - val_accuracy: 0.3887\n",
      "Epoch 4/6\n",
      "8544/8544 [==============================] - 11s 1ms/sample - loss: 1.0646 - accuracy: 0.5304 - val_loss: 1.4510 - val_accuracy: 0.3951\n",
      "Epoch 5/6\n",
      "8544/8544 [==============================] - 10s 1ms/sample - loss: 0.8649 - accuracy: 0.6573 - val_loss: 1.5989 - val_accuracy: 0.3688\n",
      "Epoch 6/6\n",
      "8544/8544 [==============================] - 10s 1ms/sample - loss: 0.6696 - accuracy: 0.7564 - val_loss: 1.8023 - val_accuracy: 0.3579\n"
     ]
    },
    {
     "data": {
      "image/png": "[encoded data removed]",
      "text/plain": [
       "<Figure size 864x360 with 2 Axes>"
      ]
     },
     "metadata": {},
     "output_type": "display_data"
    }
   ],
   "source": [
    "# 5 - Train your model and find the best hyperparameters for your dev set\n",
    "#     you will be evaluated on the quality of your predictions on the test set\n",
    "#     Keras expects y_train and y_dev to be one-hot encodings of the labels, i.e. with shape=(n_samples, 5)\n",
    "\n",
    "\n",
    "# ADAPT CODE BELOW\n",
    "bs = 64\n",
    "n_epochs = 6\n",
    "\n",
    "from tensorflow.keras.utils import to_categorical\n",
    "\n",
    "x_train = train_one_hot\n",
    "y_train = to_categorical(train_labels, dtype='uint8')\n",
    "\n",
    "x_dev = dev_one_hot\n",
    "y_dev = to_categorical(dev_labels, dtype='uint8')\n",
    "\n",
    "history = model.fit(x_train, y_train, batch_size=bs, nb_epoch=n_epochs, validation_data=(x_dev, y_dev))\n",
    "\n",
    "import matplotlib.pyplot as plt\n",
    "plt.style.use('ggplot')\n",
    "\n",
    "def plot_history(history):\n",
    "    acc = history.history['accuracy']\n",
    "    val_acc = history.history['val_accuracy']\n",
    "    loss = history.history['loss']\n",
    "    val_loss = history.history['val_loss']\n",
    "    x = range(1, len(acc) + 1)\n",
    "\n",
    "    plt.figure(figsize=(12, 5))\n",
    "    plt.subplot(1, 2, 1)\n",
    "    plt.plot(x, acc, 'b', label='Training acc')\n",
    "    plt.plot(x, val_acc, 'r', label='Validation acc')\n",
    "    plt.title('Training and validation accuracy')\n",
    "    plt.legend()\n",
    "    plt.subplot(1, 2, 2)\n",
    "    plt.plot(x, loss, 'b', label='Training loss')\n",
    "    plt.plot(x, val_loss, 'r', label='Validation loss')\n",
    "    plt.title('Training and validation loss')\n",
    "    plt.legend()\n",
    "\n",
    "plot_history(history)"
   ]
  },
  {
   "cell_type": "code",
   "execution_count": 20,
   "metadata": {},
   "outputs": [],
   "source": [
    "# 6 - Generate your predictions on the test set using model.predict(x_test)\n",
    "#     https://keras.io/models/model/\n",
    "#     Log your predictions in a file (one line = one integer: 0,1,2,3,4)\n",
    "#     Attach the output file \"logreg_lstm_y_test_sst.txt\" to your deliverable.\n",
    "\n",
    "# TYPE CODE HERE\n",
    "x_test = test_one_hot\n",
    "y_test = np.argmax(model.predict(x_test),axis=1)\n",
    "path_to_y_test = 'logreg_lstm_y_test_sst.txt'\n",
    "np.savetxt(path_to_y_test, y_test, delimiter=',', fmt='%d')"
   ]
  },
  {
   "cell_type": "markdown",
   "metadata": {},
   "source": [
    "## 4.3 - innovate !"
   ]
  },
  {
   "cell_type": "code",
   "execution_count": 22,
   "metadata": {},
   "outputs": [
    {
     "name": "stdout",
     "output_type": "stream",
     "text": [
      "Model: \"sequential_2\"\n",
      "_________________________________________________________________\n",
      "Layer (type)                 Output Shape              Param #   \n",
      "=================================================================\n",
      "embedding_2 (Embedding)      (None, None, 64)          3200000   \n",
      "_________________________________________________________________\n",
      "conv1d_3 (Conv1D)            (None, None, 128)         41088     \n",
      "_________________________________________________________________\n",
      "max_pooling1d_2 (MaxPooling1 (None, None, 128)         0         \n",
      "_________________________________________________________________\n",
      "conv1d_4 (Conv1D)            (None, None, 64)          24640     \n",
      "_________________________________________________________________\n",
      "max_pooling1d_3 (MaxPooling1 (None, None, 64)          0         \n",
      "_________________________________________________________________\n",
      "conv1d_5 (Conv1D)            (None, None, 32)          6176      \n",
      "_________________________________________________________________\n",
      "global_max_pooling1d_1 (Glob (None, 32)                0         \n",
      "_________________________________________________________________\n",
      "dense_3 (Dense)              (None, 32)                1056      \n",
      "_________________________________________________________________\n",
      "dense_4 (Dense)              (None, 5)                 165       \n",
      "=================================================================\n",
      "Total params: 3,273,125\n",
      "Trainable params: 3,273,125\n",
      "Non-trainable params: 0\n",
      "_________________________________________________________________\n",
      "None\n",
      "Train on 8544 samples, validate on 1101 samples\n",
      "Epoch 1/6\n",
      "8544/8544 [==============================] - 5s 598us/sample - loss: 1.5874 - accuracy: 0.2612 - val_loss: 1.5732 - val_accuracy: 0.2534\n",
      "Epoch 2/6\n",
      "8544/8544 [==============================] - 4s 503us/sample - loss: 1.5460 - accuracy: 0.2934 - val_loss: 1.5345 - val_accuracy: 0.3270\n",
      "Epoch 3/6\n",
      "8544/8544 [==============================] - 4s 498us/sample - loss: 1.3114 - accuracy: 0.4462 - val_loss: 1.4777 - val_accuracy: 0.3642\n",
      "Epoch 4/6\n",
      "8544/8544 [==============================] - 5s 568us/sample - loss: 0.9651 - accuracy: 0.6227 - val_loss: 1.6119 - val_accuracy: 0.3615\n",
      "Epoch 00004: early stopping\n"
     ]
    },
    {
     "data": {
      "image/png": "[encoded data removed]",
      "text/plain": [
       "<Figure size 864x360 with 2 Axes>"
      ]
     },
     "metadata": {},
     "output_type": "display_data"
    }
   ],
   "source": [
    "# 7 - Open question: find a model that is better on your dev set\n",
    "#     (e.g: use a 1D ConvNet, use a better classifier, pretrain your lookup tables ..)\n",
    "#     you will get point if the results on the test set are better: be careful of not overfitting your dev set too much..\n",
    "#     Attach the output file \"XXX_XXX_y_test_sst.txt\" to your deliverable.\n",
    "\n",
    "# TYPE CODE HERE\n",
    "from tensorflow.keras.models import Sequential\n",
    "from tensorflow.keras.layers import Embedding, LSTM, Dense, Activation, Bidirectional, Conv1D, GlobalMaxPooling1D, MaxPooling1D\n",
    "\n",
    "embed_dim  = 64  # word embedding dimension\n",
    "nhid       = 128  # number of hidden units in the LSTM\n",
    "vocab_size = 50000  # size of the vocabulary\n",
    "n_classes  = 5\n",
    "\n",
    "model = Sequential()\n",
    "model.add(Embedding(vocab_size, embed_dim))\n",
    "#model.add(LSTM(nhid, dropout=0.4, recurrent_dropout=0.4, return_sequences=True))\n",
    "model.add(Conv1D(128, 5, activation='relu'))\n",
    "model.add(MaxPooling1D())\n",
    "model.add(Conv1D(64, 3, activation='relu'))\n",
    "model.add(MaxPooling1D())\n",
    "model.add(Conv1D(32, 3, activation='relu'))\n",
    "model.add(GlobalMaxPooling1D())\n",
    "#model.add(LSTM(int(nhid/4), dropout=0.4, recurrent_dropout=0.4))\n",
    "model.add(Dense(nhid/4, activation='sigmoid'))\n",
    "model.add(Dense(n_classes, activation='softmax'))\n",
    "\n",
    "#-------------------------------\n",
    "\n",
    "loss_classif     =  'categorical_crossentropy' # find the right loss for multi-class classification\n",
    "optimizer        =  'adam' # find the right optimizer\n",
    "metrics_classif  =  ['accuracy']\n",
    "\n",
    "# Observe how easy (but blackboxed) this is in Keras\n",
    "model.compile(loss=loss_classif,\n",
    "              optimizer=optimizer,\n",
    "              metrics=metrics_classif)\n",
    "print(model.summary())\n",
    "\n",
    "#-------------------------------\n",
    "\n",
    "bs = 64\n",
    "n_epochs = 6\n",
    "\n",
    "from tensorflow.keras.utils import to_categorical\n",
    "\n",
    "x_train = train_one_hot\n",
    "y_train = to_categorical(train_labels, dtype='uint8')\n",
    "\n",
    "x_dev = dev_one_hot\n",
    "y_dev = to_categorical(dev_labels, dtype='uint8')\n",
    "\n",
    "from tensorflow.keras.callbacks import EarlyStopping\n",
    "es = EarlyStopping(monitor='val_loss', mode='min', verbose=1)\n",
    "\n",
    "history = model.fit(x_train, y_train, batch_size=bs, epochs=n_epochs, validation_data=(x_dev, y_dev), callbacks=[es])\n",
    "plot_history(history)\n",
    "\n",
    "#--------------------------\n",
    "\n",
    "x_test = test_one_hot\n",
    "y_test = np.argmax(model.predict(x_test),axis=1)\n",
    "path_to_y_test = 'logreg_conv_y_test_sst.txt'\n",
    "np.savetxt(path_to_y_test, y_test, delimiter=',', fmt='%d')"
   ]
  },
  {
   "cell_type": "code",
   "execution_count": null,
   "metadata": {},
   "outputs": [],
   "source": []
  }
 ],
 "metadata": {
  "kernelspec": {
   "display_name": "Python 3",
   "language": "python",
   "name": "python3"
  },
  "language_info": {
   "codemirror_mode": {
    "name": "ipython",
    "version": 3
   },
   "file_extension": ".py",
   "mimetype": "text/x-python",
   "name": "python",
   "nbconvert_exporter": "python",
   "pygments_lexer": "ipython3",
   "version": "3.7.6"
  }
 },
 "nbformat": 4,
 "nbformat_minor": 4
}
