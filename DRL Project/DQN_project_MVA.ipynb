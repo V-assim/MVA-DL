{
 "cells": [
  {
   "cell_type": "markdown",
   "metadata": {},
   "source": [
    "**You may need to install [OpenCV](https://pypi.python.org/pypi/opencv-python) and [scikit-video](http://www.scikit-video.org/stable/).**"
   ]
  },
  {
   "cell_type": "code",
   "execution_count": 55,
   "metadata": {},
   "outputs": [],
   "source": [
    "import keras\n",
    "import numpy as np\n",
    "import io\n",
    "import base64\n",
    "from IPython.display import HTML\n",
    "import skvideo.io\n",
    "import cv2\n",
    "import json\n",
    "\n",
    "from keras.models import Sequential,model_from_json\n",
    "from keras.layers.core import Dense, Flatten\n",
    "from keras.optimizers import sgd\n",
    "from keras.layers import Conv2D, MaxPooling2D, Activation, AveragePooling2D,Reshape,BatchNormalization, Dropout"
   ]
  },
  {
   "cell_type": "markdown",
   "metadata": {},
   "source": [
    "# MiniProject on Deep Reinforcement Learning"
   ]
  },
  {
   "cell_type": "markdown",
   "metadata": {},
   "source": [
    "__Notations__: $E_p$ is the expectation under probability $p$. Please justify each of your answer and widely comment your code."
   ]
  },
  {
   "cell_type": "markdown",
   "metadata": {},
   "source": [
    "# Context"
   ]
  },
  {
   "cell_type": "markdown",
   "metadata": {},
   "source": [
    "In a reinforcement learning algorithm, we modelize each step $t$ as an action $a_t$ obtained from a state $s_t$, i.e. $\\{(a_{t},s_{t})_{t\\leq T}\\}$ having the Markov property. We consider a discount factor $\\gamma \\in [0,1]$ that ensures convergence. The goal is to find among all the policies $\\pi$, one that maximizes the expected reward:\n",
    "\n",
    "\\begin{equation*}\n",
    "R(\\pi)=\\sum_{t\\leq T}E_{p^{\\pi}}[\\gamma^t r(s_{t},a_{t})] \\> ,\n",
    "\\end{equation*}\n",
    "\n",
    "where: \n",
    "\\begin{equation*}p^{\\pi}(a_{0},a_{1},s_{1},...,a_{T},s_{T})=p(a_{0})\\prod_{t=1}^{T}\\pi(a_{t}|s_{t})p(s_{t+1}|s_{t},a_{t}) \\> .\n",
    "\\end{equation*}\n",
    "\n",
    "We note the $Q$-function:\n",
    "\n",
    "\\begin{equation*}Q^\\pi(s,a)=E_{p^{\\pi}}[\\sum_{t\\leq T}\\gamma^{t}r(s_{t},a_{t})|s_{0}=s,a_{0}=a] \\> .\n",
    "\\end{equation*}\n",
    "\n",
    "Thus, the optimal Q function is:\n",
    "\\begin{equation*}\n",
    "Q^*(s,a)=\\max_{\\pi}Q^\\pi(s,a) \\> .\n",
    "\\end{equation*}\n",
    "\n",
    "In this project, we will apply the deep reinforcement learning techniques to a simple game: an agent will have to learn from scratch a policy that will permit it maximizing a reward."
   ]
  },
  {
   "cell_type": "markdown",
   "metadata": {},
   "source": [
    "## The environment, the agent and the game"
   ]
  },
  {
   "cell_type": "markdown",
   "metadata": {},
   "source": [
    "### The environment"
   ]
  },
  {
   "cell_type": "markdown",
   "metadata": {},
   "source": [
    "```Environment``` is an abstract class that represents the states, rewards, and actions to obtain the new state."
   ]
  },
  {
   "cell_type": "code",
   "execution_count": 56,
   "metadata": {},
   "outputs": [],
   "source": [
    "class Environment(object):\n",
    "    def __init__(self):\n",
    "        pass\n",
    "\n",
    "    def act(self, act):\n",
    "        \"\"\"\n",
    "        One can act on the environment and obtain its reaction:\n",
    "        - the new state\n",
    "        - the reward of the new state\n",
    "        - should we continue the game?\n",
    "\n",
    "        :return: state, reward, game_over\n",
    "        \"\"\"\n",
    "        pass\n",
    "\n",
    "\n",
    "    def reset(self):\n",
    "        \"\"\"\n",
    "        Reinitialize the environment to a random state and returns\n",
    "        the original state\n",
    "\n",
    "        :return: state\n",
    "        \"\"\"\n",
    "        pass\n",
    "    \n",
    "    def draw(self):\n",
    "        \"\"\"\n",
    "        Visualize in the console or graphically the current state\n",
    "        \"\"\"\n",
    "        pass"
   ]
  },
  {
   "cell_type": "markdown",
   "metadata": {},
   "source": [
    "The method ```act``` allows to act on the environment at a given state $s_t$ (stored internally), via action $a_t$. The method will return the new state $s_{t+1}$, the reward $r(s_{t},a_{t})$ and determines if $t\\leq T$ (*game_over*).\n",
    "\n",
    "The method ```reset``` simply reinitializes the environment to a random state $s_0$.\n",
    "\n",
    "The method ```draw``` displays the current state $s_t$ (this is useful to check the behavior of the Agent).\n",
    "\n",
    "We modelize $s_t$ as a tensor, while $a_t$ is an integer."
   ]
  },
  {
   "cell_type": "markdown",
   "metadata": {},
   "source": [
    "### The Agent"
   ]
  },
  {
   "cell_type": "markdown",
   "metadata": {},
   "source": [
    "The goal of the ```Agent``` is to interact with the ```Environment``` by proposing actions $a_t$ obtained from a given state $s_t$ to attempt to maximize its __reward__ $r(s_t,a_t)$. We propose the following abstract class:"
   ]
  },
  {
   "cell_type": "code",
   "execution_count": 57,
   "metadata": {},
   "outputs": [],
   "source": [
    "class Agent(object):\n",
    "    def __init__(self, epsilon=0.1, n_action=4):\n",
    "        self.epsilon = epsilon\n",
    "        self.n_action = n_action\n",
    "    \n",
    "    def set_epsilon(self,e):\n",
    "        self.epsilon = e\n",
    "\n",
    "    def act(self,s,train=True):\n",
    "        \"\"\" This function should return the next action to do:\n",
    "        an integer between 0 and 4 (not included) with a random exploration of epsilon\"\"\"\n",
    "        if train:\n",
    "            if np.random.rand() <= self.epsilon:\n",
    "                a = np.random.randint(0, self.n_action, size=1)[0]\n",
    "            else:\n",
    "                a = self.learned_act(s)\n",
    "        else: # in some cases, this can improve the performance.. remove it if poor performances\n",
    "            a = self.learned_act(s)\n",
    "\n",
    "        return a\n",
    "\n",
    "    def learned_act(self,s):\n",
    "        \"\"\" Act via the policy of the agent, from a given state s\n",
    "        it proposes an action a\"\"\"\n",
    "        pass\n",
    "\n",
    "    def reinforce(self, s, n_s, a, r, game_over_):\n",
    "        \"\"\" This function is the core of the learning algorithm. \n",
    "        It takes as an input the current state s_, the next state n_s_\n",
    "        the action a_ used to move from s_ to n_s_ and the reward r_.\n",
    "        \n",
    "        Its goal is to learn a policy.\n",
    "        \"\"\"\n",
    "        pass\n",
    "\n",
    "    def save(self):\n",
    "        \"\"\" This function returns basic stats if applicable: the\n",
    "        loss and/or the model\"\"\"\n",
    "        pass\n",
    "\n",
    "    def load(self):\n",
    "        \"\"\" This function allows to restore a model\"\"\"\n",
    "        pass"
   ]
  },
  {
   "cell_type": "markdown",
   "metadata": {},
   "source": [
    "***\n",
    "__Question 1__:\n",
    "Explain the function act. Why is ```epsilon``` essential?"
   ]
  },
  {
   "cell_type": "markdown",
   "metadata": {},
   "source": [
    "\n",
    "The function `act` has two modes:\n",
    "\n",
    "- the training mode\n",
    "With probability $\\epsilon$, the agent chooses a random action (exploration).\n",
    "With probability $1-\\epsilon$, the agent follows the current policy (exploitation).\n",
    "- the evaluating mode: The agent systematically acts according to the current policy.\n",
    "\n",
    "The $\\epsilon$ value is important because it regulates the exploration/exploitation tradeoff. It should be high at the beginning (more exploration in order to discover all possible state/action pairs) and lower and lower during training (mre exploitation when the learned policy becomes good)."
   ]
  },
  {
   "cell_type": "markdown",
   "metadata": {},
   "source": [
    "***\n",
    "### The Game"
   ]
  },
  {
   "cell_type": "markdown",
   "metadata": {},
   "source": [
    "The ```Agent``` and the ```Environment``` work in an interlaced way as in the following (take some time to understand this code as it is the core of the project)\n",
    "\n",
    "```python\n",
    "\n",
    "epoch = 300\n",
    "env = Environment()\n",
    "agent = Agent()\n",
    "\n",
    "\n",
    "# Number of won games\n",
    "score = 0\n",
    "loss = 0\n",
    "\n",
    "\n",
    "for e in range(epoch):\n",
    "    # At each epoch, we restart to a fresh game and get the initial state\n",
    "    state = env.reset()\n",
    "    # This assumes that the games will end\n",
    "    game_over = False\n",
    "\n",
    "    win = 0\n",
    "    lose = 0\n",
    "    \n",
    "    while not game_over:\n",
    "        # The agent performs an action\n",
    "        action = agent.act(state)\n",
    "\n",
    "        # Apply an action to the environment, get the next state, the reward\n",
    "        # and if the games end\n",
    "        prev_state = state\n",
    "        state, reward, game_over = env.act(action)\n",
    "\n",
    "        # Update the counters\n",
    "        if reward > 0:\n",
    "            win = win + reward\n",
    "        if reward < 0:\n",
    "            lose = lose -reward\n",
    "\n",
    "        # Apply the reinforcement strategy\n",
    "        loss = agent.reinforce(prev_state, state,  action, reward, game_over)\n",
    "\n",
    "    # Save as a mp4\n",
    "    if e % 10 == 0:\n",
    "        env.draw(e)\n",
    "\n",
    "    # Update stats\n",
    "    score += win-lose\n",
    "\n",
    "    print(\"Epoch {:03d}/{:03d} | Loss {:.4f} | Win/lose count {}/{} ({})\"\n",
    "          .format(e, epoch, loss, win, lose, win-lose))\n",
    "    agent.save()\n",
    "```"
   ]
  },
  {
   "cell_type": "markdown",
   "metadata": {},
   "source": [
    "# The game, *eat cheese*"
   ]
  },
  {
   "cell_type": "markdown",
   "metadata": {},
   "source": [
    "A rat runs on an island and tries to eat as much as possible. The island is subdivided into $N\\times N$ cells, in which there are cheese (+0.5) and poisonous cells (-1). The rat has a visibility of 2 cells (thus it can see $5^2$ cells). The rat is given a time $T$ to accumulate as much food as possible. It can perform 4 actions: going up, down, left, right. \n",
    "\n",
    "The goal is to code an agent to solve this task that will learn by trial and error. We propose the following environment:"
   ]
  },
  {
   "cell_type": "code",
   "execution_count": 63,
   "metadata": {},
   "outputs": [],
   "source": [
    "class Environment(object):\n",
    "    def __init__(self, grid_size=10, max_time=500, temperature=0.1):\n",
    "        grid_size = grid_size+4\n",
    "        self.grid_size = grid_size\n",
    "        self.max_time = max_time\n",
    "        self.temperature = temperature\n",
    "\n",
    "        #board on which one plays\n",
    "        self.board = np.zeros((grid_size,grid_size))\n",
    "        self.position = np.zeros((grid_size,grid_size))\n",
    "\n",
    "        # coordinate of the cat\n",
    "        self.x = 0\n",
    "        self.y = 1\n",
    "\n",
    "        # self time\n",
    "        self.t = 0\n",
    "\n",
    "        self.scale=16\n",
    "\n",
    "        self.to_draw = np.zeros((max_time+2, grid_size*self.scale, grid_size*self.scale, 3))\n",
    "\n",
    "\n",
    "    def draw(self,e):\n",
    "        skvideo.io.vwrite(str(e) + '.mp4', self.to_draw)\n",
    "\n",
    "    def get_frame(self,t):\n",
    "        b = np.zeros((self.grid_size,self.grid_size,3))+128\n",
    "        b[self.board>0,0] = 256\n",
    "        b[self.board < 0, 2] = 256\n",
    "        b[self.x,self.y,:]=256\n",
    "        b[-2:,:,:]=0\n",
    "        b[:,-2:,:]=0\n",
    "        b[:2,:,:]=0\n",
    "        b[:,:2,:]=0\n",
    "        \n",
    "        b =  cv2.resize(b, None, fx=self.scale, fy=self.scale, interpolation=cv2.INTER_NEAREST)\n",
    "\n",
    "        self.to_draw[t,:,:,:]=b\n",
    "\n",
    "\n",
    "    def act(self, action, train=True):\n",
    "        \"\"\"This function returns the new state, reward and decides if the\n",
    "        game ends.\"\"\"\n",
    "\n",
    "        self.get_frame(int(self.t))\n",
    "\n",
    "        self.position = np.zeros((self.grid_size, self.grid_size))\n",
    "\n",
    "        self.position[0:2,:]= -1\n",
    "        self.position[:,0:2] = -1\n",
    "        self.position[-2:, :] = -1\n",
    "        self.position[-2:, :] = -1\n",
    "\n",
    "        self.position[self.x, self.y] = 1\n",
    "        if action == 0:\n",
    "            if self.x == self.grid_size-3:\n",
    "                self.x = self.x-1\n",
    "            else:\n",
    "                self.x = self.x + 1\n",
    "        elif action == 1:\n",
    "            if self.x == 2:\n",
    "                self.x = self.x+1\n",
    "            else:\n",
    "                self.x = self.x-1\n",
    "        elif action == 2:\n",
    "            if self.y == self.grid_size - 3:\n",
    "                self.y = self.y - 1\n",
    "            else:\n",
    "                self.y = self.y + 1\n",
    "        elif action == 3:\n",
    "            if self.y == 2:\n",
    "                self.y = self.y + 1\n",
    "            else:\n",
    "                self.y = self.y - 1\n",
    "        else:\n",
    "            RuntimeError('Error: action not recognized')\n",
    "\n",
    "        self.t = self.t + 1\n",
    "        reward = self.board[self.x, self.y]\n",
    "        self.board[self.x, self.y] = 0\n",
    "        game_over = self.t > self.max_time\n",
    "        state = np.concatenate((self.board.reshape(self.grid_size, self.grid_size,1),\n",
    "                        self.position.reshape(self.grid_size, self.grid_size,1)),axis=2)\n",
    "        state = state[self.x-2:self.x+3,self.y-2:self.y+3,:]\n",
    "\n",
    "        return state, reward, game_over\n",
    "\n",
    "    def reset(self):\n",
    "        \"\"\"This function resets the game and returns the initial state\"\"\"\n",
    "\n",
    "        self.x = np.random.randint(3, self.grid_size-3, size=1)[0]\n",
    "        self.y = np.random.randint(3, self.grid_size-3, size=1)[0]\n",
    "\n",
    "\n",
    "        bonus = 0.5*np.random.binomial(1,self.temperature,size=self.grid_size**2)\n",
    "        bonus = bonus.reshape(self.grid_size,self.grid_size)\n",
    "\n",
    "        malus = -1.0*np.random.binomial(1,self.temperature,size=self.grid_size**2)\n",
    "        malus = malus.reshape(self.grid_size, self.grid_size)\n",
    "\n",
    "        self.to_draw = np.zeros((self.max_time+2, self.grid_size*self.scale, self.grid_size*self.scale, 3))\n",
    "\n",
    "\n",
    "        malus[bonus>0]=0\n",
    "\n",
    "        self.board = bonus + malus\n",
    "\n",
    "        self.position = np.zeros((self.grid_size, self.grid_size))\n",
    "        self.position[0:2,:]= -1\n",
    "        self.position[:,0:2] = -1\n",
    "        self.position[-2:, :] = -1\n",
    "        self.position[-2:, :] = -1\n",
    "        self.board[self.x,self.y] = 0\n",
    "        self.t = 0\n",
    "\n",
    "        state = np.concatenate((\n",
    "                               self.board.reshape(self.grid_size, self.grid_size,1),\n",
    "                        self.position.reshape(self.grid_size, self.grid_size,1)),axis=2)\n",
    "\n",
    "        state = state[self.x - 2:self.x + 3, self.y - 2:self.y + 3, :]\n",
    "        return state"
   ]
  },
  {
   "cell_type": "markdown",
   "metadata": {},
   "source": [
    "The following elements are important because they correspond to the hyper parameters for this project:"
   ]
  },
  {
   "cell_type": "code",
   "execution_count": 64,
   "metadata": {},
   "outputs": [],
   "source": [
    "# parameters\n",
    "size = 13\n",
    "T=200\n",
    "temperature=0.3\n",
    "epochs_train=15 # set small when debugging\n",
    "epochs_test=15 # set small when debugging\n",
    "\n",
    "# display videos\n",
    "def display_videos(name):\n",
    "    video = io.open(name, 'r+b').read()\n",
    "    encoded = base64.b64encode(video)\n",
    "    return '''<video alt=\"test\" controls>\n",
    "                <source src=\"data:video/mp4;base64,{0}\" type=\"video/mp4\" />\n",
    "             </video>'''.format(encoded.decode('ascii'))"
   ]
  },
  {
   "cell_type": "markdown",
   "metadata": {},
   "source": [
    "__Question 2__ Explain the use of the arrays ```position``` and ```board```."
   ]
  },
  {
   "cell_type": "markdown",
   "metadata": {},
   "source": [
    "- The `board` array is an array with all the rewards of the positions of the board (0.5 if cheese, -1 if poison, 0 otherwise).\n",
    "- `position` is an array with the current position of the rat (1), the borders of the board (-1) and available cases (0)."
   ]
  },
  {
   "cell_type": "markdown",
   "metadata": {},
   "source": [
    "## Random Agent"
   ]
  },
  {
   "cell_type": "markdown",
   "metadata": {},
   "source": [
    "***\n",
    "__Question 3__ Implement a random Agent (only ```learned_act``` needs to be implemented):"
   ]
  },
  {
   "cell_type": "code",
   "execution_count": 65,
   "metadata": {},
   "outputs": [],
   "source": [
    "class RandomAgent(Agent):\n",
    "    def __init__(self):\n",
    "        super(RandomAgent, self).__init__()\n",
    "        pass\n",
    "\n",
    "    def learned_act(self, s, train=True):\n",
    "        return np.random.randint(4)"
   ]
  },
  {
   "cell_type": "markdown",
   "metadata": {},
   "source": [
    "***\n",
    "***\n",
    "__Question 4__ Visualize the game moves. You need to fill in the following function for the evaluation:"
   ]
  },
  {
   "cell_type": "code",
   "execution_count": 66,
   "metadata": {},
   "outputs": [],
   "source": [
    "def test(agent,env,epochs,prefix=''):\n",
    "    # Number of won games\n",
    "    score = 0\n",
    "        \n",
    "    for e in range(epochs):\n",
    "        \n",
    "        ##### FILL IN HERE\n",
    "        state = env.reset()\n",
    "        win = 0\n",
    "        lose = 0\n",
    "        game_over = False\n",
    "        \n",
    "        while not game_over:\n",
    "            action = agent.act(state, train=False)\n",
    "\n",
    "            prev_state = state\n",
    "            state, reward, game_over = env.act(action, train=False)\n",
    "            \n",
    "            # Update the counters\n",
    "            if reward > 0:\n",
    "                win += reward\n",
    "            if reward < 0:\n",
    "                lose -= reward\n",
    "        \n",
    "        # Save as a mp4\n",
    "        env.draw(prefix+str(e))\n",
    "\n",
    "        # Update stats\n",
    "        score += (win-lose)\n",
    "\n",
    "        print(\"Win/lose count {}/{}. Average score ({})\"\n",
    "              .format(win, lose, score/(1+e)))\n",
    "    print('Final score: '+str(score/epochs))"
   ]
  },
  {
   "cell_type": "code",
   "execution_count": 67,
   "metadata": {},
   "outputs": [
    {
     "name": "stdout",
     "output_type": "stream",
     "text": [
      "Win/lose count 9.5/15.0. Average score (-5.5)\n",
      "Win/lose count 11.5/15.0. Average score (-4.5)\n",
      "Win/lose count 6.0/12.0. Average score (-5.0)\n",
      "Win/lose count 9.5/15.0. Average score (-5.125)\n",
      "Win/lose count 8.0/7.0. Average score (-3.9)\n",
      "Win/lose count 6.0/11.0. Average score (-4.083333333333333)\n",
      "Win/lose count 14.5/8.0. Average score (-2.5714285714285716)\n",
      "Win/lose count 14.5/19.0. Average score (-2.8125)\n",
      "Win/lose count 11.5/15.0. Average score (-2.888888888888889)\n",
      "Win/lose count 8.0/11.0. Average score (-2.9)\n",
      "Win/lose count 11.0/13.0. Average score (-2.8181818181818183)\n",
      "Win/lose count 7.5/10.0. Average score (-2.7916666666666665)\n",
      "Win/lose count 8.0/13.0. Average score (-2.9615384615384617)\n",
      "Win/lose count 11.0/15.0. Average score (-3.0357142857142856)\n",
      "Win/lose count 12.0/19.0. Average score (-3.3)\n",
      "Final score: -3.3\n"
     ]
    },
    {
     "data": {
      "text/html": [
       "<video alt=\"test\" controls>\n",
       "                <source src=\"data:video/mp4;base64,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\" type=\"video/mp4\" />\n",
       "             </video>"
      ],
      "text/plain": [
       "<IPython.core.display.HTML object>"
      ]
     },
     "execution_count": 67,
     "metadata": {},
     "output_type": "execute_result"
    }
   ],
   "source": [
    "# Initialize the game\n",
    "env = Environment(grid_size=size, max_time=T,temperature=temperature)\n",
    "\n",
    "# Initialize the agent!\n",
    "agent = RandomAgent()\n",
    "\n",
    "test(agent,env,epochs_test,prefix='random')\n",
    "HTML(display_videos('random0.mp4'))"
   ]
  },
  {
   "cell_type": "markdown",
   "metadata": {},
   "source": [
    "***\n",
    "## DQN"
   ]
  },
  {
   "cell_type": "markdown",
   "metadata": {},
   "source": [
    "Let us assume here that $T=\\infty$.\n",
    "\n",
    "***\n",
    "__Question 5__ Let $\\pi$ be a policy, show that:\n",
    "\n",
    "\\begin{equation*}\n",
    "Q^{\\pi}(s,a)=E_{(s',a')\\sim p(.|s,a)}[r(s,a)+\\gamma Q^{\\pi}(s',a')]\n",
    "\\end{equation*}\n",
    "\n",
    "Then, show that for the optimal policy $\\pi^*$ (we assume its existence), the following holds: \n",
    "\n",
    "\\begin{equation*}\n",
    "Q^{*}(s,a)=E_{s'\\sim \\pi^*(.|s,a)}[r(s,a)+\\gamma\\max_{a'}Q^{*}(s',a')].\n",
    "\\end{equation*}\n",
    "Finally, deduce that a plausible objective is:\n",
    "\n",
    "\\begin{equation*}\n",
    "\\mathcal{L}(\\theta)=E_{s' \\sim \\pi^*(.|s,a)}\\Vert r+\\gamma\\max\\max_{a'}Q(s',a',\\theta)-Q(s,a,\\theta)\\Vert^{2}.\n",
    "\\end{equation*}\n",
    "\n",
    "\n"
   ]
  },
  {
   "cell_type": "markdown",
   "metadata": {},
   "source": [
    "The Q-function is:\n",
    "\n",
    "\\begin{align}\n",
    "Q^{\\pi}(s,a) &= E[\\sum_{t=0}^{\\infty} \\gamma^t r(s_t,a_t) | s_0=s, a_0=a, a_t=\\pi(s_t) \\forall t \\ge 1] \\\\\n",
    "&= E[r_0 + \\gamma \\sum_{t=0}^{\\infty} \\gamma^t r(s_{t+1},a_{t+1}) | s_0=s, a_0=a, a_t=\\pi(s_t) \\forall t \\ge 1] \\\\\n",
    "&= r(s,a) + \\sum_{s'} p(s' | s,a) \\gamma E[\\sum_{t=0}^{\\infty} \\gamma^t r(s_{t+1},a_{t+1}) | s_1=s', a_t=\\pi(s_t) \\forall t \\ge 1] \\\\\n",
    "&= r(s,a) + \\sum_{s'} p(s' | s,a) \\gamma E[\\sum_{t'=0}^{\\infty} \\gamma^{t'} r(s_{t'},a_{t'}) | s_0=s', a_0 = \\pi(s_0), a_t=\\pi(s_t) \\forall t \\ge 1] \\\\\n",
    "&= r(s,a) + \\gamma \\sum_{s'} p(s' | s,a) Q^{\\pi}(s', \\pi(s')) \\\\\n",
    "&= r(s,a) + \\gamma E_{s' \\sim p(.| s,a)} [Q^{\\pi}(s', \\pi(s'))] \\\\\n",
    "&= r(s,a) + \\gamma E_{s' \\sim p(.| s,a)} [Q^{\\pi}(s', \\pi(s'))] \\\\\n",
    "&= E_{s' \\sim p(.| s,a)} [ r(s,a) + \\gamma Q^{\\pi}(s', \\pi(s'))]\n",
    "\\end{align}\n",
    "\n",
    "\n",
    "If an optimal policy $\\pi ^*$ exists, then:\n",
    "\\begin{align}\n",
    "\\\\\n",
    "Q^*(s,a) &= Q^{\\pi^*}(s,a) \\\\\n",
    "         &= \\max _\\pi Q^{\\pi}(s,a) \\\\\n",
    "         &= \\max _\\pi  E_{s' \\sim p(.| s,a)} [ r(s,a) + \\gamma Q^{\\pi}(s', \\pi(s'))] \\\\\n",
    "         &= \\max _{a'}  E_{s' \\sim p(.| s,a)} [ r(s,a) + \\gamma Q(s', a')] \\\\\n",
    "         &=  E_{s' \\sim p(.| s,a)} [ r(s,a) + \\gamma \\max _{a'} Q(s', a')] \\\\\n",
    "\\end{align}\n",
    "\n",
    "\n",
    "We want to minimize the difference between $Q^*(s,a,\\theta)$ and our Q-function estimator $Q(s,a,\\theta)$. Using the L2 norm, we can write:\n",
    "\n",
    "\\begin{equation*}\n",
    "\\mathcal{L}(\\theta)=E_{s' \\sim p(.|s,a)}\\Vert r+\\gamma\\max_{a'}Q(s',a',\\theta)-Q(s,a,\\theta)\\Vert^{2}.\n",
    "\\end{equation*}\n"
   ]
  },
  {
   "cell_type": "markdown",
   "metadata": {},
   "source": [
    "***\n",
    "The DQN-learning algorithm relies on these derivations to train the parameters $\\theta$ of a Deep Neural Network:\n",
    "\n",
    "1. At the state $s_t$, select the action $a_t$ with best reward using $Q_t$ and store the results;\n",
    "\n",
    "2. Obtain the new state $s_{t+1}$ from the environment $p$;\n",
    "\n",
    "3. Store $(s_t,a_t,s_{t+1})$;\n",
    "\n",
    "4. Obtain $Q_{t+1}$ by minimizing  $\\mathcal{L}$ from a recovered batch from the previously stored results.\n",
    "\n",
    "***\n",
    "__Question 6__ Implement the class ```Memory``` that stores moves (in a replay buffer) via ```remember``` and provides a ```random_access``` to these. Specify a maximum memory size to avoid side effects. You can for example use a ```list()``` and set by default ```max_memory=100```."
   ]
  },
  {
   "cell_type": "code",
   "execution_count": 68,
   "metadata": {},
   "outputs": [],
   "source": [
    "class Memory(object):\n",
    "    def __init__(self, max_memory=100):\n",
    "        self.max_memory = max_memory\n",
    "        self.memory = list()\n",
    "\n",
    "    def remember(self, m):\n",
    "        # queue structure: « first in, first out »\n",
    "        self.memory.append(m)\n",
    "        if len(self.memory)>self.max_memory:\n",
    "            self.memory.pop(0)\n",
    "\n",
    "    def random_access(self):\n",
    "        rand_index = np.random.randint(0,len(self.memory))\n",
    "        return self.memory[rand_index]"
   ]
  },
  {
   "cell_type": "markdown",
   "metadata": {},
   "source": [
    "***\n",
    "The pipeline we will use for training is given below:"
   ]
  },
  {
   "cell_type": "code",
   "execution_count": 69,
   "metadata": {},
   "outputs": [],
   "source": [
    "def train(agent,env,epoch,prefix=''):\n",
    "    # Number of won games\n",
    "    score = 0\n",
    "    loss = 0\n",
    "\n",
    "    for e in range(epoch):\n",
    "        # At each epoch, we restart to a fresh game and get the initial state\n",
    "        state = env.reset()\n",
    "        # This assumes that the games will terminate\n",
    "        game_over = False\n",
    "\n",
    "        win = 0\n",
    "        lose = 0\n",
    "\n",
    "        while not game_over:\n",
    "            # The agent performs an action\n",
    "            action = agent.act(state)\n",
    "\n",
    "            # Apply an action to the environment, get the next state, the reward\n",
    "            # and if the games end\n",
    "            prev_state = state\n",
    "            state, reward, game_over = env.act(action)\n",
    "\n",
    "            # Update the counters\n",
    "            if reward > 0:\n",
    "                win = win + reward\n",
    "            if reward < 0:\n",
    "                lose = lose -reward\n",
    "\n",
    "            # Apply the reinforcement strategy\n",
    "            loss = agent.reinforce(prev_state, state,  action, reward, game_over)\n",
    "\n",
    "        # Save as a mp4\n",
    "        if e % 10 == 0:\n",
    "            env.draw(prefix+str(e))\n",
    "\n",
    "        # Update stats\n",
    "        score += win-lose\n",
    "\n",
    "        print(\"Epoch {:03d}/{:03d} | Loss {:.4f} | Win/lose count {}/{} ({})\"\n",
    "              .format(e, epoch, loss, win, lose, win-lose))\n",
    "        agent.save(name_weights=prefix+'model.h5',name_model=prefix+'model.json')"
   ]
  },
  {
   "cell_type": "markdown",
   "metadata": {},
   "source": [
    "***\n",
    "__Question 7__ Implement the DQN training algorithm using a cascade of fully connected layers. You can use different learning rate, batch size or memory size parameters. In particular, the loss might oscillate while the player will start to win the games. You have to find a good criterium."
   ]
  },
  {
   "cell_type": "code",
   "execution_count": 95,
   "metadata": {},
   "outputs": [],
   "source": [
    "class DQN(Agent):\n",
    "    def __init__(self, grid_size,  epsilon = 0.1, memory_size=100, batch_size = 16,n_state=2):\n",
    "        super(DQN, self).__init__(epsilon = epsilon)\n",
    "\n",
    "        # Discount for Q learning\n",
    "        self.discount = 0.99\n",
    "        \n",
    "        self.grid_size = grid_size\n",
    "        \n",
    "        # number of state\n",
    "        self.n_state = n_state\n",
    "\n",
    "        # Memory\n",
    "        self.memory = Memory(memory_size)\n",
    "        \n",
    "        # Batch size when learning\n",
    "        self.batch_size = batch_size\n",
    "\n",
    "    def learned_act(self, s):\n",
    "        action_pred = self.model.predict(s.reshape(1, 5, 5, self.n_state))\n",
    "        return np.argmax(action_pred)\n",
    "\n",
    "    def reinforce(self, s_, n_s_, a_, r_, game_over_):\n",
    "        # Two steps: first memorize the states, second learn from the pool\n",
    "\n",
    "        self.memory.remember([s_, n_s_, a_, r_, game_over_])\n",
    "        \n",
    "        input_states = np.zeros((self.batch_size, 5,5,self.n_state))\n",
    "        target_q = np.zeros((self.batch_size, 4))\n",
    "        \n",
    "        for i in range(self.batch_size):\n",
    "            ######## FILL IN\n",
    "            state, new_state, action, reward, game_over_ = self.memory.random_access()                        \n",
    "            input_states[i] = state\n",
    "            target_q[i] = self.model.predict(state.reshape(1, 5, 5, self.n_state))\n",
    "            \n",
    "            if game_over_:\n",
    "                ######## FILL IN\n",
    "                target_q[i][action] = reward\n",
    "            else:\n",
    "                ######## FILL IN\n",
    "                target_q[i][action] = reward + self.discount * np.max(self.model.predict(new_state.reshape(1, 5, 5, self.n_state)))\n",
    "        ######## FILL IN\n",
    "        # HINT: Clip the target to avoid exploiding gradients.. -- clipping is a bit tighter\n",
    "        target_q = np.clip(target_q, -3, 3)\n",
    "\n",
    "        l = self.model.train_on_batch(input_states, target_q)\n",
    "\n",
    "\n",
    "        return l\n",
    "\n",
    "    def save(self,name_weights='model.h5',name_model='model.json'):\n",
    "        self.model.save_weights(name_weights, overwrite=True)\n",
    "        with open(name_model, \"w\") as outfile:\n",
    "            json.dump(self.model.to_json(), outfile)\n",
    "            \n",
    "    def load(self,name_weights='model.h5',name_model='model.json'):\n",
    "        with open(name_model, \"r\") as jfile:\n",
    "            model = model_from_json(json.load(jfile))\n",
    "        model.load_weights(name_weights)\n",
    "        model.compile(\"sgd\", \"mse\")\n",
    "        self.model = model\n",
    "\n",
    "            \n",
    "class DQN_FC(DQN):\n",
    "    def __init__(self, *args, lr=0.1,**kwargs):\n",
    "        super(DQN_FC, self).__init__( *args,**kwargs)\n",
    "        \n",
    "        # NN Model\n",
    "        \n",
    "        ####### FILL IN\n",
    "        model = Sequential([\n",
    "            Flatten(input_shape=(5, 5, self.n_state)),\n",
    "            Dense(32, activation=\"relu\"),\n",
    "            Dense(16, activation=\"relu\"),\n",
    "            Dense(4)])\n",
    "        \n",
    "        model.compile(sgd(lr=lr, decay=1e-4, momentum=0.0), \"mse\")\n",
    "        self.model = model\n",
    "        "
   ]
  },
  {
   "cell_type": "code",
   "execution_count": 96,
   "metadata": {},
   "outputs": [
    {
     "name": "stdout",
     "output_type": "stream",
     "text": [
      "Epoch 000/015 | Loss 0.0061 | Win/lose count 2.0/6.0 (-4.0)\n",
      "Epoch 001/015 | Loss 0.0099 | Win/lose count 0.5/1.0 (-0.5)\n",
      "Epoch 002/015 | Loss 0.0018 | Win/lose count 2.5/6.0 (-3.5)\n",
      "Epoch 003/015 | Loss 0.0096 | Win/lose count 2.5/4.0 (-1.5)\n",
      "Epoch 004/015 | Loss 0.0090 | Win/lose count 0.5/2.0 (-1.5)\n",
      "Epoch 005/015 | Loss 0.0025 | Win/lose count 1.5/2.0 (-0.5)\n",
      "Epoch 006/015 | Loss 0.0245 | Win/lose count 5.0/6.0 (-1.0)\n",
      "Epoch 007/015 | Loss 0.0075 | Win/lose count 0.5/1.0 (-0.5)\n",
      "Epoch 008/015 | Loss 0.0033 | Win/lose count 5.0/5.0 (0.0)\n",
      "Epoch 009/015 | Loss 0.0099 | Win/lose count 5.5/8.0 (-2.5)\n",
      "Epoch 010/015 | Loss 0.0089 | Win/lose count 3.5/4.0 (-0.5)\n",
      "Epoch 011/015 | Loss 0.0090 | Win/lose count 8.5/5.0 (3.5)\n",
      "Epoch 012/015 | Loss 0.0117 | Win/lose count 5.0/4.0 (1.0)\n",
      "Epoch 013/015 | Loss 0.0036 | Win/lose count 6.5/1.0 (5.5)\n",
      "Epoch 014/015 | Loss 0.0059 | Win/lose count 7.0/5.0 (2.0)\n"
     ]
    },
    {
     "data": {
      "text/html": [
       "<video alt=\"test\" controls>\n",
       "                <source src=\"data:video/mp4;base64,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\" type=\"video/mp4\" />\n",
       "             </video>"
      ],
      "text/plain": [
       "<IPython.core.display.HTML object>"
      ]
     },
     "execution_count": 96,
     "metadata": {},
     "output_type": "execute_result"
    }
   ],
   "source": [
    "env = Environment(grid_size=size, max_time=T, temperature=0.3)\n",
    "agent = DQN_FC(size, lr=.01, epsilon = 0.1, memory_size=2000, batch_size = 32)\n",
    "train(agent, env, epochs_train, prefix='fc_train')\n",
    "HTML(display_videos('fc_train10.mp4'))"
   ]
  },
  {
   "cell_type": "markdown",
   "metadata": {},
   "source": [
    "***\n",
    "***\n",
    "__Question 8__ Implement the DQN training algorithm using a CNN (for example, 2 convolutional layers and one final fully connected layer)."
   ]
  },
  {
   "cell_type": "code",
   "execution_count": 97,
   "metadata": {},
   "outputs": [],
   "source": [
    "class DQN_CNN(DQN):\n",
    "    def __init__(self, *args,lr=0.1,**kwargs):\n",
    "        super(DQN_CNN, self).__init__(*args,**kwargs)\n",
    "        \n",
    "        ###### FILL IN\n",
    "        model = Sequential([\n",
    "            Conv2D(64, (3,3), activation='relu', padding=\"same\",input_shape=(5,5,self.n_state)),\n",
    "            Conv2D(32, (3,3), activation='relu',padding=\"same\"),\n",
    "            Flatten(),\n",
    "            Dense(16, activation=\"relu\"),\n",
    "            Dropout(0.2),\n",
    "            Dense(4)\n",
    "        ])\n",
    "\n",
    "        \n",
    "        model.compile(sgd(lr=lr, decay=1e-4, momentum=0.0), \"mse\")\n",
    "        self.model = model"
   ]
  },
  {
   "cell_type": "code",
   "execution_count": 98,
   "metadata": {},
   "outputs": [
    {
     "name": "stdout",
     "output_type": "stream",
     "text": [
      "Epoch 000/015 | Loss 0.0062 | Win/lose count 4.0/2.0 (2.0)\n",
      "Epoch 001/015 | Loss 0.0004 | Win/lose count 1.5/3.0 (-1.5)\n",
      "Epoch 002/015 | Loss 0.0004 | Win/lose count 2.0/3.0 (-1.0)\n",
      "Epoch 003/015 | Loss 0.0003 | Win/lose count 2.0/2.0 (0.0)\n",
      "Epoch 004/015 | Loss 0.0035 | Win/lose count 1.5/2.0 (-0.5)\n",
      "Epoch 005/015 | Loss 0.0044 | Win/lose count 4.5/7.0 (-2.5)\n",
      "Epoch 006/015 | Loss 0.0131 | Win/lose count 2.0/3.0 (-1.0)\n",
      "Epoch 007/015 | Loss 0.0022 | Win/lose count 3.0/2.0 (1.0)\n",
      "Epoch 008/015 | Loss 0.0076 | Win/lose count 5.0/4.0 (1.0)\n",
      "Epoch 009/015 | Loss 0.0004 | Win/lose count 4.0/2.0 (2.0)\n",
      "Epoch 010/015 | Loss 0.0082 | Win/lose count 5.0/3.0 (2.0)\n",
      "Epoch 011/015 | Loss 0.0007 | Win/lose count 3.0/1.0 (2.0)\n",
      "Epoch 012/015 | Loss 0.0083 | Win/lose count 4.5/12.0 (-7.5)\n",
      "Epoch 013/015 | Loss 0.0069 | Win/lose count 7.0/2.0 (5.0)\n",
      "Epoch 014/015 | Loss 0.0100 | Win/lose count 9.0/5.0 (4.0)\n"
     ]
    },
    {
     "data": {
      "text/html": [
       "<video alt=\"test\" controls>\n",
       "                <source src=\"data:video/mp4;base64,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\" type=\"video/mp4\" />\n",
       "             </video>"
      ],
      "text/plain": [
       "<IPython.core.display.HTML object>"
      ]
     },
     "execution_count": 98,
     "metadata": {},
     "output_type": "execute_result"
    }
   ],
   "source": [
    "env = Environment(grid_size=size, max_time=T, temperature=0.3)\n",
    "agent = DQN_CNN(size, lr=.1, epsilon = 0.1, memory_size=2000, batch_size = 32)\n",
    "train(agent,env,epochs_train,prefix='cnn_train')\n",
    "HTML(display_videos('cnn_train10.mp4'))"
   ]
  },
  {
   "cell_type": "markdown",
   "metadata": {},
   "source": [
    "***\n",
    "***\n",
    "__Question 9__ Test both algorithms and compare their performances. Which issue(s) do you observe? Observe also different behaviors by changing the temperature."
   ]
  },
  {
   "cell_type": "code",
   "execution_count": 99,
   "metadata": {},
   "outputs": [
    {
     "name": "stdout",
     "output_type": "stream",
     "text": [
      "Test of the CNN\n",
      "Win/lose count 0/1.0. Average score (-1.0)\n",
      "Win/lose count 0/0. Average score (-0.5)\n",
      "Win/lose count 1.0/0. Average score (0.0)\n",
      "Win/lose count 0/1.0. Average score (-0.25)\n",
      "Win/lose count 1.5/2.0. Average score (-0.3)\n",
      "Win/lose count 0/0. Average score (-0.25)\n",
      "Win/lose count 0/0. Average score (-0.21428571428571427)\n",
      "Win/lose count 0.5/0. Average score (-0.125)\n",
      "Win/lose count 0.5/0. Average score (-0.05555555555555555)\n",
      "Win/lose count 0.5/1.0. Average score (-0.1)\n",
      "Win/lose count 0/1.0. Average score (-0.18181818181818182)\n",
      "Win/lose count 0/1.0. Average score (-0.25)\n",
      "Win/lose count 0.5/0. Average score (-0.19230769230769232)\n",
      "Win/lose count 1.0/1.0. Average score (-0.17857142857142858)\n",
      "Win/lose count 0/1.0. Average score (-0.23333333333333334)\n",
      "Final score: -0.23333333333333334\n",
      "Test of the FC\n",
      "Win/lose count 1.5/0. Average score (1.5)\n",
      "Win/lose count 0/3.0. Average score (-0.75)\n",
      "Win/lose count 0/0. Average score (-0.5)\n",
      "Win/lose count 0/0. Average score (-0.375)\n",
      "Win/lose count 0/1.0. Average score (-0.5)\n",
      "Win/lose count 0.5/1.0. Average score (-0.5)\n",
      "Win/lose count 0/0. Average score (-0.42857142857142855)\n",
      "Win/lose count 0/1.0. Average score (-0.5)\n",
      "Win/lose count 0/0. Average score (-0.4444444444444444)\n",
      "Win/lose count 0/1.0. Average score (-0.5)\n",
      "Win/lose count 0.5/1.0. Average score (-0.5)\n",
      "Win/lose count 0/0. Average score (-0.4583333333333333)\n",
      "Win/lose count 1.5/0. Average score (-0.3076923076923077)\n",
      "Win/lose count 0.5/0. Average score (-0.25)\n",
      "Win/lose count 0/1.0. Average score (-0.3)\n",
      "Final score: -0.3\n"
     ]
    }
   ],
   "source": [
    "env = Environment(grid_size=size, max_time=T,temperature=0.3)\n",
    "agent_cnn = DQN_CNN(size, lr=.1, epsilon = 0.1, memory_size=2000, batch_size = 32)\n",
    "agent_cnn.load(name_weights='cnn_trainmodel.h5',name_model='cnn_trainmodel.json')\n",
    "\n",
    "agent_fc = DQN_FC(size, lr=.1, epsilon = 0.1, memory_size=2000, batch_size = 32)\n",
    "agent_cnn.load(name_weights='fc_trainmodel.h5',name_model='fc_trainmodel.json')\n",
    "print('Test of the CNN')\n",
    "test(agent_cnn,env,epochs_test,prefix='cnn_test')\n",
    "print('Test of the FC')\n",
    "test(agent_fc,env,epochs_test,prefix='fc_test')"
   ]
  },
  {
   "cell_type": "code",
   "execution_count": 100,
   "metadata": {},
   "outputs": [
    {
     "data": {
      "text/html": [
       "<video alt=\"test\" controls>\n",
       "                <source src=\"data:video/mp4;base64,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\" type=\"video/mp4\" />\n",
       "             </video>"
      ],
      "text/plain": [
       "<IPython.core.display.HTML object>"
      ]
     },
     "execution_count": 100,
     "metadata": {},
     "output_type": "execute_result"
    }
   ],
   "source": [
    "HTML(display_videos('cnn_test10.mp4'))"
   ]
  },
  {
   "cell_type": "code",
   "execution_count": 101,
   "metadata": {},
   "outputs": [
    {
     "data": {
      "text/html": [
       "<video alt=\"test\" controls>\n",
       "                <source src=\"data:video/mp4;base64,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\" type=\"video/mp4\" />\n",
       "             </video>"
      ],
      "text/plain": [
       "<IPython.core.display.HTML object>"
      ]
     },
     "execution_count": 101,
     "metadata": {},
     "output_type": "execute_result"
    }
   ],
   "source": [
    "HTML(display_videos('fc_test10.mp4'))"
   ]
  },
  {
   "cell_type": "markdown",
   "metadata": {},
   "source": [
    "The mouse seems to lack information on the environment and make poor decisions (going back and forth) with regard to the game objective: eating cheeses. It needs to explore more. A high temperature increases the number of positive rewards cells: the agent sees more positive rewards around and tends to explore more. With lower temperatures, the lowest number of positive rewards and their sparcity hinder the agent to see regions of the board on which there are still some rewards. The agent then stays stuck in a local maximum of Q-function and goes back and forth."
   ]
  },
  {
   "cell_type": "markdown",
   "metadata": {},
   "source": [
    "***\n",
    "\n",
    "The algorithm tends to not explore the map which can be an issue. We propose two ideas in order to encourage exploration:\n",
    "1. Incorporating a decreasing $\\epsilon$-greedy exploration. You can use the method ```set_epsilon```\n",
    "2. Append via the environment a new state that describes if a cell has been visited or not\n",
    "\n",
    "***\n",
    "__Question 10__ Design a new ```train_explore``` function and environment class ```EnvironmentExploring``` to tackle the issue of exploration.\n",
    "\n"
   ]
  },
  {
   "cell_type": "code",
   "execution_count": 92,
   "metadata": {},
   "outputs": [],
   "source": [
    "def train_explore(agent,env,epoch,prefix='', eps_decay = 0.99):\n",
    "    # Number of won games\n",
    "    score = 0\n",
    "    loss = 0\n",
    "\n",
    "    for e in range(epoch):\n",
    "        state = env.reset()\n",
    "        game_over = False\n",
    "\n",
    "        win = 0\n",
    "        lose = 0\n",
    "\n",
    "        while not game_over:\n",
    "            action = agent.act(state)\n",
    "\n",
    "            # get the next state, the reward and whether the game ends or not.\n",
    "            prev_state = state\n",
    "            state, reward, game_over = env.act(action, train=True)\n",
    "\n",
    "            if reward > 0:\n",
    "                win += reward\n",
    "            if reward < 0:\n",
    "                lose -= reward\n",
    "\n",
    "            # Compute the loss\n",
    "            loss = agent.reinforce(prev_state, state,  action, reward, game_over)\n",
    "\n",
    "            #Decreasing epsilon from epsilon-greedy policy\n",
    "            agent.set_epsilon(agent.epsilon * eps_decay)\n",
    "            \n",
    "        # Save as a mp4\n",
    "        if e % 10 == 0:\n",
    "            env.draw(prefix+str(e))\n",
    "\n",
    "        # Update stats\n",
    "        score += win-lose\n",
    "\n",
    "        print(\"Epoch {:03d}/{:03d} | Loss {:.4f} | Win/lose count {}/{} ({})\"\n",
    "              .format(e, epoch, loss, win, lose, win-lose))\n",
    "        agent.save(name_weights=prefix+'model.h5',name_model=prefix+'model.json')\n",
    "        \n",
    "class EnvironmentExploring(object):\n",
    "    def __init__(self, grid_size=10, max_time=500, temperature=0.1):\n",
    "        \n",
    "        grid_size = grid_size+4\n",
    "        self.grid_size = grid_size\n",
    "        self.max_time = max_time\n",
    "        self.temperature = temperature\n",
    "\n",
    "        #board on which one plays\n",
    "        self.malus_position = np.zeros((grid_size,grid_size))\n",
    "        self.board = np.zeros((grid_size,grid_size))\n",
    "        self.position = np.zeros((grid_size,grid_size))\n",
    "\n",
    "        # coordinate of the rat\n",
    "        self.x = 0\n",
    "        self.y = 1\n",
    "\n",
    "        # self time\n",
    "        self.t = 0\n",
    "\n",
    "        self.scale=16\n",
    "\n",
    "        self.to_draw = np.zeros((max_time+2, grid_size*self.scale, grid_size*self.scale, 3))\n",
    "        \n",
    "    def draw(self,e):\n",
    "        skvideo.io.vwrite(str(e) + '.mp4', self.to_draw)\n",
    "\n",
    "    def get_frame(self,t):\n",
    "        b = np.zeros((self.grid_size,self.grid_size,3))+128\n",
    "        b[self.board>0,0] = 256\n",
    "        b[self.board < 0, 2] = 256\n",
    "        b[self.x,self.y,:]=256\n",
    "        b[-2:,:,:]=0\n",
    "        b[:,-2:,:]=0\n",
    "        b[:2,:,:]=0\n",
    "        b[:,:2,:]=0\n",
    "        \n",
    "        b =  cv2.resize(b, None, fx=self.scale, fy=self.scale, interpolation=cv2.INTER_NEAREST)\n",
    "\n",
    "        self.to_draw[t,:,:,:]=b\n",
    "\n",
    "    def act(self, action, train=True):\n",
    "        \"\"\"This function returns the new state, reward and decides if the\n",
    "        game ends.\"\"\"\n",
    "\n",
    "        self.get_frame(int(self.t))\n",
    "\n",
    "        self.position = np.zeros((self.grid_size, self.grid_size))\n",
    "\n",
    "        self.position[0:2,:]= -1\n",
    "        self.position[:,0:2] = -1\n",
    "        self.position[-2:, :] = -1\n",
    "        self.position[-2:, :] = -1\n",
    "\n",
    "        self.position[self.x, self.y] = 1\n",
    "        if action == 0:\n",
    "            if self.x == self.grid_size-3:\n",
    "                self.x = self.x-1\n",
    "            else:\n",
    "                self.x = self.x + 1\n",
    "        elif action == 1:\n",
    "            if self.x == 2:\n",
    "                self.x = self.x+1\n",
    "            else:\n",
    "                self.x = self.x-1\n",
    "        elif action == 2:\n",
    "            if self.y == self.grid_size - 3:\n",
    "                self.y = self.y - 1\n",
    "            else:\n",
    "                self.y = self.y + 1\n",
    "        elif action == 3:\n",
    "            if self.y == 2:\n",
    "                self.y = self.y + 1\n",
    "            else:\n",
    "                self.y = self.y - 1\n",
    "        else:\n",
    "            RuntimeError('Error: action not recognized')\n",
    "\n",
    "        self.t = self.t + 1\n",
    "        reward = self.board[self.x, self.y]\n",
    "        self.board[self.x, self.y] = 0\n",
    "        game_over = self.t > self.max_time\n",
    "        \n",
    "        if train:\n",
    "            reward -= self.malus_position[self.x, self.y]\n",
    "        \n",
    "        # We want the agent to avoid going back and forth on a few cells. We progressively\n",
    "        # increase the malus on visited cells but prevents it from getting bigger thant the\n",
    "        # poison reward.\n",
    "        if self.malus_position[self.x, self.y] < 0.9 :\n",
    "            self.malus_position[self.x, self.y] += 0.1\n",
    "\n",
    "        state = np.concatenate((self.malus_position.reshape(self.grid_size, self.grid_size,1),\n",
    "                                self.board.reshape(self.grid_size, self.grid_size,1),\n",
    "                        self.position.reshape(self.grid_size, self.grid_size,1)),axis=2)\n",
    "        state = state[self.x-2:self.x+3,self.y-2:self.y+3,:]\n",
    "\n",
    "        return state, reward, game_over\n",
    "\n",
    "    def reset(self):\n",
    "        \"\"\"This function resets the game and returns the initial state\"\"\"\n",
    "\n",
    "        self.x = np.random.randint(3, self.grid_size-3, size=1)[0]\n",
    "        self.y = np.random.randint(3, self.grid_size-3, size=1)[0]\n",
    "\n",
    "\n",
    "        bonus = 0.5*np.random.binomial(1,self.temperature,size=self.grid_size**2)\n",
    "        bonus = bonus.reshape(self.grid_size,self.grid_size)\n",
    "\n",
    "        malus = -1.0*np.random.binomial(1,self.temperature,size=self.grid_size**2)\n",
    "        malus = malus.reshape(self.grid_size, self.grid_size)\n",
    "\n",
    "        self.to_draw = np.zeros((self.max_time+2, self.grid_size*self.scale, self.grid_size*self.scale, 3))\n",
    "\n",
    "\n",
    "        malus[bonus>0]=0\n",
    "        \n",
    "        self.malus_position = np.zeros((self.grid_size, self.grid_size))\n",
    "        self.malus_position[self.x, self.y] = 0.1\n",
    "        \n",
    "        self.board = bonus + malus\n",
    "\n",
    "        self.position = np.zeros((self.grid_size, self.grid_size))\n",
    "        self.position[0:2,:]= -1\n",
    "        self.position[:,0:2] = -1\n",
    "        self.position[-2:, :] = -1\n",
    "        self.position[-2:, :] = -1\n",
    "        self.board[self.x,self.y] = 0\n",
    "        self.t = 0\n",
    "\n",
    "        state = np.concatenate((self.malus_position.reshape(self.grid_size, self.grid_size,1),\n",
    "                                self.board.reshape(self.grid_size, self.grid_size,1),\n",
    "                        self.position.reshape(self.grid_size, self.grid_size,1)),axis=2)\n",
    "        state = state[self.x - 2:self.x + 3, self.y - 2:self.y + 3, :]\n",
    "        return state\n"
   ]
  },
  {
   "cell_type": "code",
   "execution_count": 93,
   "metadata": {},
   "outputs": [
    {
     "name": "stdout",
     "output_type": "stream",
     "text": [
      "Epoch 000/015 | Loss 0.0529 | Win/lose count 7.5/57.70000000000002 (-50.20000000000002)\n",
      "Epoch 001/015 | Loss 0.0590 | Win/lose count 6.5/67.60000000000004 (-61.10000000000004)\n",
      "Epoch 002/015 | Loss 0.0637 | Win/lose count 9.5/60.40000000000003 (-50.90000000000003)\n",
      "Epoch 003/015 | Loss 0.0336 | Win/lose count 18.5/29.100000000000033 (-10.600000000000033)\n",
      "Epoch 004/015 | Loss 0.0621 | Win/lose count 18.5/19.700000000000006 (-1.2000000000000064)\n",
      "Epoch 005/015 | Loss 0.0534 | Win/lose count 21.5/16.599999999999987 (4.900000000000013)\n",
      "Epoch 006/015 | Loss 0.0253 | Win/lose count 20.0/18.300000000000004 (1.6999999999999957)\n",
      "Epoch 007/015 | Loss 0.0433 | Win/lose count 20.0/23.1 (-3.1000000000000014)\n",
      "Epoch 008/015 | Loss 0.0421 | Win/lose count 20.0/19.799999999999997 (0.20000000000000284)\n",
      "Epoch 009/015 | Loss 0.0350 | Win/lose count 19.5/31.7 (-12.2)\n",
      "Epoch 010/015 | Loss 0.0491 | Win/lose count 21.0/18.499999999999986 (2.500000000000014)\n",
      "Epoch 011/015 | Loss 0.0331 | Win/lose count 22.0/24.299999999999983 (-2.299999999999983)\n",
      "Epoch 012/015 | Loss 0.0355 | Win/lose count 27.0/16.199999999999992 (10.800000000000008)\n",
      "Epoch 013/015 | Loss 0.0497 | Win/lose count 23.5/16.39999999999998 (7.100000000000019)\n",
      "Epoch 014/015 | Loss 0.0452 | Win/lose count 20.5/24.70000000000001 (-4.20000000000001)\n"
     ]
    },
    {
     "data": {
      "text/html": [
       "<video alt=\"test\" controls>\n",
       "                <source src=\"data:video/mp4;base64,AAAAIGZ0eXBpc29tAAACAGlzb21pc28yYXZjMW1wNDEAAAAIZnJlZQAAGWJtZGF0AAACrQYF//+p3EXpvebZSLeWLNgg2SPu73gyNjQgLSBjb3JlIDE1MiByMjg1NCBlOWE1OTAzIC0gSC4yNjQvTVBFRy00IEFWQyBjb2RlYyAtIENvcHlsZWZ0IDIwMDMtMjAxNyAtIGh0dHA6Ly93d3cudmlkZW9sYW4ub3JnL3gyNjQuaHRtbCAtIG9wdGlvbnM6IGNhYmFjPTEgcmVmPTMgZGVibG9jaz0xOjA6MCBhbmFseXNlPTB4MToweDExMSBtZT1oZXggc3VibWU9NyBwc3k9MSBwc3lfcmQ9MS4wMDowLjAwIG1peGVkX3JlZj0xIG1lX3JhbmdlPTE2IGNocm9tYV9tZT0xIHRyZWxsaXM9MSA4eDhkY3Q9MCBjcW09MCBkZWFkem9uZT0yMSwxMSBmYXN0X3Bza2lwPTEgY2hyb21hX3FwX29mZnNldD00IHRocmVhZHM9OCBsb29rYWhlYWRfdGhyZWFkcz0xIHNsaWNlZF90aHJlYWRzPTAgbnI9MCBkZWNpbWF0ZT0xIGludGVybGFjZWQ9MCBibHVyYXlfY29tcGF0PTAgY29uc3RyYWluZWRfaW50cmE9MCBiZnJhbWVzPTMgYl9weXJhbWlkPTIgYl9hZGFwdD0xIGJfYmlhcz0wIGRpcmVjdD0xIHdlaWdodGI9MSBvcGVuX2dvcD0wIHdlaWdodHA9MiBrZXlpbnQ9MjUwIGtleWludF9taW49MjUgc2NlbmVjdXQ9NDAgaW50cmFfcmVmcmVzaD0wIHJjX2xvb2thaGVhZD00MCByYz1jcmYgbWJ0cmVlPTEgY3JmPTIzLjAgcWNvbXA9MC42MCBxcG1pbj0wIHFwbWF4PTY5IHFwc3RlcD00IGlwX3JhdGlvPTEuNDAgYXE9MToxLjAwAIAAAAKZZYiEADP//vaG+BTYUyP+T7/8I/+5H7cfWfrixkIJvrVeQ9GAMl8a/5lGYaXpyc8t7R+vTNAEZz8ZS8pY/spyzVFwWHwKXAT75llFqS/WsqhUjWVG4NsrEGGsxI1UrT9Rhz+qPRvtH4qmkvacvn7h9cW1r3POz2PcyadEQ41DlbJjoUqegEH13w5rwesBOVHJ6A3cuLgcfcSdLnkuKZYqViFYWrzohq4Ckhi+g4Y+AzzSx9tOiGrBiDPy4kohbVcH9WEeDsQ248gWWhG95aneJKgHYRCvp18XfTintCuLNN94NcrBZeqs4Vwl/5UVxFFrbOZvBSSWc2s+chDnF0AMchgFgKhOgaTcNm5+EJ0JQ2530B5gBXfcmrz4/aqfWOHXyDtAAAsrLzNk0s6dFCGQw+5bKL/iVfrwoO2ZPqP36mwi51v7mRvxSIDf1ZkxbeuNTAScIHXLxyOJTGewPXXqa/CUNgOIuWRPL91EOr6w/l5/9kt4jDGAAyZbb0LgrdIUk0Y1Yjh34zMHrZOl2iHlRhNflsk9Pkk4PeUZIs+AxWFRT/psPPOz5X5PoMV8L5SXlPjFeri4UNYADs4OBHYwhuC5CmXfEfkyr6Uh4Iz95C8eOl8y3E8ku7V7XB851iNgQU5m8ygXc7aPYncuG1QIi2SNUiT9AaVBq5YRdHskFVS4rarJI6aQIZUDoSHMuoievcV0Nm/zN2UTAibNYzc6ZKhGAd4pNHDEbn+e33rwA/0yqCrEDP7V9BXsZREjYAyE635ShuSrXxSf9zugMhQRSxYpBX9ZyV9oRZwIm/R0PIpiZuVimyH5IteuWU4I2Kq3lcchfAUOqpjEv5timtLegu+uJXf2Hv3iOUFr49y5ARQmXql8jgAA4IEAAAAWQZohbEN//qeEACxGNZttoDAc37r2gAAAABdBmkI8IZMphDf//qeEAENQBZtjFCVUwQAAAB9BmmZJ4Q8mUwIb//6nhAGh7dPMssTI7gmfWlsbPRuzAAAAHUGehEURPC//AOenR4KYL/EIXf/4hBfE/+5sGoYFAAAADwGeo3RCvwCC+lPA6ZTdSwAAABABnqVqQr8BP7Hjlf24fOLBAAAAHEGap0moQWiZTAhv//6nhASUQWbWtAYBNf0kVsEAAAAdQZrJSeEKUmUwURLDf/6nhAUvjT8k045V0eaeJ2AAAAAQAZ7oakK/AfmaN5phTZ1ZwAAAABlBmuxJ4Q6JlMCG//6nhAGy7qfpEFCQsoOBAAAAD0GfCkUVPCv/AUhtwJLQQAAAAA0BnytqQr8BSOVh4paCAAAAHEGbLkmoQWiZTBTwz/6eEAPh6+/qFvc1x9aXqKEAAAAQAZ9NakK/ANKTJNN9JBxS8QAAABhBm09J4QpSZTAhn/6eEAKh7pvoqVmvfpMAAAAZQZtwSeEOiZTAhv/+p4QAbv2D/CcFuhJnwAAAABlBm5JJ4Q8mUwURPDP//p4QALVXuuI5/EXcAAAAEAGfsWpCvwA5ahvYrR9vCYEAAAAYQZuzSeEPJlMCG//+p4QASUfMeRif5bdVAAAAHkGb1UnhDyZTBRE8M//+nhABJviH8XR0+uRuzYrKmAAAABABn/RqQr8APMrg1x4q2l4hAAAAHEGb90nhDyZTBTwz//6eEAC/+vv6FdGyYtgqlHAAAAAQAZ4WakK/ACfNuRV4An/vgQAAABhBmhhJ4Q8mUwIZ//6eEABP/dN9FSs18jcAAAAYQZo5SeEPJlMCGf/+nhAAM76+/kSI+sQOAAAAGUGaWknhDyZTAhv//qeEAAh3x0+o40JD4sEAAAAZQZp9SeEPJlMCGf/+nhAAIKkXxzm+rK7ptgAAABJBnptFETwr/wAG6dqBCRj+GUEAAAAOAZ68akK/AAbp2q6frEsAAAAZQZq+SahBaJlMCGf//p4QADNyGOfw5zfXvwAAABtBmt9J4QpSZTAhn/6eEABPeDHP4c+ICmfrmkAAAAAXQZrgSeEOiZTAhn/+nhAAeUpxz9L+5cEAAAAZQZsBSeEPJlMCG//+p4QAH7B4U6zp91wegAAAAB1BmyNJ4Q8mUwURPDP//p4QAHy9ff0K6NkxbBVRsQAAABABn0JqQr8AGmJbTrwBQDKAAAAAGUGbREnhDyZTAhv//qeEAA2PsH+E4LdCqcEAAAAYQZtnSeEPJlMCGf/+nhAAId8Q/tkMfWKVAAAAD0GfhUURPCv/AAcUH/OC4QAAAA0Bn6ZqQr8ABxbAoGvbAAAAGkGbqEmoQWiZTAhn//6eEAAWP3gf+tHL3Oc2AAAAGEGbyUnhClJlMCGf/p4QABWvdNjLk2VgZAAAABhBm+pJ4Q6JlMCGf/6eEAAVH4nZ1ugZJg0AAAAZQZoLSeEPJlMCG//+p4QAB+zjP9VvmPxz4AAAAB9Bmi1J4Q8mUwURPDf//qeEAAzbq1TH8uCrxBqYP5RsAAAAEAGeTGpCvwAKhYR5MD18VIEAAAAcQZpPSeEPJlMFPDf//qeEABRsVqmP9W7fYP13OQAAAA8Bnm5qQr8AEF2I8mB69/cAAAAcQZpxSeEPJlMFPDP//p4QAE/9032vecq3FWcvIAAAABABnpBqQr8AENzRvNMVbWtAAAAAGUGakknhDyZTAhv//qeEAA2PsH+E4LdCqcEAAAAZQZqzSeEPJlMCG//+p4QACLfHT6jjQkPgQAAAABlBmtRJ4Q8mUwId//6plgAC7aWVxml/bErAAAAAKEGa+EnhDyZTAh3//qmWAAMZ7DfMsrVNV4FKJAvApmuXPa0vWFhGFiEAAAARQZ8WRRE8L/8AA6Cesgm0nhAAAAAPAZ81dEK/AAS20YuA/PHhAAAAEAGfN2pCvwAE+sI8lzPldoEAAAAaQZs8SahBaJlMCHf//qmWAATH6OflX/XxtowAAAAQQZ9aRREsL/8ABa2Vp074KQAAABABn3l0Qr8AB5rFYvP4HOXAAAAAEAGfe2pCvwAE6so72ePunIEAAAATQZtgSahBbJlMCHf//qmWAACVgQAAAAxBn55FFSwv/wAAsoAAAAAPAZ+9dEK/AAUe0d0dt8O/AAAADwGfv2pCvwAFHUaILUeZKQAAABJBm6RJqEFsmUwIb//+p4QAAScAAAAMQZ/CRRUsL/8AALKBAAAADwGf4XRCvwAFHtHdHbfDvwAAAA8Bn+NqQr8ABR1GiC1HmSkAAAAcQZvoSahBbJlMCGf//p4QACOiHOmwXojr7+m+wQAAABBBngZFFSwv/wAFioEVpRuNAAAADwGeJXRCvwAFHtHeecaUgQAAABABnidqQr8AB5ecNe80rRnAAAAAHEGaKUmoQWyZTAhn//6eEAA3Mhjn8OfEDh/h9IAAAAAXQZpKSeEKUmUwIZ/+nhAAVjgxz9L+5kcAAAAbQZprSeEOiZTAhn/+nhAAgpwjn8OfEBTP1tOAAAAAGEGajEnhDyZTAhn//p4QAM3IY5+jAdmhDgAAABhBmq1J4Q8mUwIZ//6eEAE94Mc/hzm+s+kAAAAYQZrOSeEPJlMCGf/+nhAB5SnHP4c5vrNBAAAAGEGa70nhDyZTAhn//p4QAvfBjn8Oc31lnwAAABlBmxBJ4Q8mUwIb//6nhAEsQBZttn2fNEvAAAAAGUGbMUnhDyZTAhv//qeEAkHRP9St9nyEqYAAAAAfQZtVSeEPJlMCG//+p4QLtsx9aW46EGpZVT7SDmzUgQAAABZBn3NFETwv/wHqffpnFD59dzi91cWAAAAADwGfknRCvwKRzVA6bl+RDwAAAA8Bn5RqQr8CkFaGB01I5Z8AAAAbQZuXSahBaJlMFPDf/qeEATX46fcFOwmiZtbQAAAAEAGftmpCvwD4BAJ14An8zYEAAAAZQZu4SeEKUmUwIb/+p4QAf32D/CcFuhJZQQAAABlBm9lJ4Q6JlMCHf/6plgAqnvq+uxBuKg0wAAAAFkGb/UnhDyZTAhv//qeEACKoAs22+LEAAAASQZ4bRRE8L/8AH8iVuNUH9CNKAAAAEAGeOnRCvwAsScxwH5P/9KEAAAAQAZ48akK/ACxWPHK/tw/pQQAAABlBmj5JqEFomUwId//+qZYAKl8gzPwhxqgQAAAAG0GaQknhClJlMCG//qeEAHwB4muNUS/RP8h7iAAAABBBnmBFNEwv/wBLc/c4WUU5AAAADwGen3RCvwBprKu7zdq8QAAAABABnoFqQr8AZx24TcZ9em/NAAAAHEGahkmoQWiZTAhn//6eEALlXuuI5/SOvv6XtuAAAAAVQZ6kRREsL/8Ads+/TOLa6QC5mCJxAAAAEAGew3RCvwCj5aoHTtQ1WYEAAAAPAZ7FakK/AKO1lM2zI1ofAAAAGUGax0moQWyZTAhn//6eEALp8TvtkMfWEScAAAAZQZroSeEKUmUwIb/+p4QAef2D/CcFuhJdwAAAAB9BmwpJ4Q6JlMFNEw3//qeEAE/91P3Wlmam3PvNrA14AAAAEAGfKWpCvwA/gRM030kHH0kAAAAcQZssSeEPJlMFPDP//p4QAM76+/qFvc1x9aYR4AAAABABn0tqQr8AKy3IYfQEg5O4AAAAG0GbTUnhDyZTAhv//qeEACOj5jyMogTv+jYXgQAAABlBm25J4Q8mUwIb//6nhAA3NIn+q4DH4juhAAAAGEGbkknhDyZTAhv//qeEADd+wf5yo+vmRwAAABBBn7BFETwv/wAgufs3BBbwAAAADwGfz3RCvwAtcYQGSXL/gAAAABABn9FqQr8ALW26KrOPwHtRAAAAHEGb1EmoQWiZTBTw3/6nhAAi3x0+5kYWzFCOY8wAAAAPAZ/zakK/ABxQf1SKBKvTAAAAGEGb9UnhClJlMCG//qeEABY/dTj/D6tumwAAAB1BmhhJ4Q6JlMCG//6nhAAyfrDcyyxMjuNl7weSjwAAABJBnjZFETwr/wAo9kG8BSPr3ZMAAAAQAZ5XakK/ACj2PHK/tw/wQQAAABpBmllJqEFomUwIb//+p4QATVAFm22fZ81JwAAAABlBmnpJ4QpSZTAh3/6plgA7qZCTcOCj5pgRAAAAGkGanknhDomUwIb//qeEAHc9g/zygNSDRFJAAAAAFUGevEURPC//AHFPv0ziupl5/xt9uQAAABABntt0Qr8AmvmqB07UNWOBAAAAEAGe3WpCvwCayuRV4An9JYAAAAAcQZrASahBaJlMFPDf/qeEAE/91P3Wlmam3Ra9CAAAABABnv9qQr8AP4ETNN9JBx9JAAAAHEGa4knhClJlMFLDf/6nhABT8VqmP9W7fYP1w/gAAAAPAZ8BakK/AEN2eW4bNqcjAAAAGUGbBUnhDomUwIb//qeEAH7OM/1W+Y/EM+AAAAASQZ8jRRU8K/8AaZ24XYb6Xm+lAAAAEAGfRGpCvwBsAWNe80rNy8EAAAAcQZtHSahBaJlMFPDf/qeEAMK6tmJ/q7e6n7VqqQAAABABn2ZqQr8Ao6jRMiaVm2VBAAAAJEGbaUnhClJlMFLDv/6plgEnyTA+IQbf/hKqGb//y7PvscjO6AAAABABn4hqQr8Bf3ajlf24fNJAAAAAG0GbjUnhDomUwIb//qeECKatmJ/p2vRP79BJwQAAABBBn6tFFTwv/wHDq532Be5YAAAADwGfynRCvwGJeTeecWjPgAAAABABn8xqQr8CXs9ulQ5IKw1JAAAAHEGb0UmoQWiZTAhv//6nhAj2+z53Orwo1uWyKCEAAAAQQZ/vRREsL/8Bw6uS/N0ccQAAAA4Bng50Qr8Cdkga6+BA/wAAABABnhBqQr8CXgvOdZx4K2PAAAAAGUGaEkmoQWyZTAhv//6nhAIL46Y/w+qjYssAAAARQZo2SeEKUmUwIZ/+nhAABHwAAAATQZ5URTRML/8A/vQQTc365DQd7AAAABABnnN0Qr8BY01oyS3+tnTBAAAAEAGedWpCvwFjseW4bNqY34AAAAAZQZp3SahBaJlMCG///qeEAfHonoK1mRzp4QAAABxBmplJ4QpSZTBREsM//p4QBxu/v53IyxNxUOmBAAAAEAGeuGpCvwFaa+c60MLw58AAAAAYQZq6SeEOiZTAhn/+nhAD9+vv5EiPrCGpAAAAGUGa20nhDyZTAhv//qeEAKz7qfqONCQ4TcAAAAAZQZr8SeEPJlMCG//+p4QAbv2D/CcFuhJnwQAAAB1Bmx5J4Q8mUwURPDf//qeEAEe+OnvhiVuiwT/SaQAAABABnz1qQr8AOgC851TMbw7AAAAAHEGbIknhDyZTAhn//p4QAQb4h/Hw+cS7riPqimYAAAAQQZ9ARRE8L/8AKOx5DFyvyQAAABABn390Qr8AN0AfFJtkqu6AAAAADwGfYWpCvwA2CVsYVm2JwQAAABpBm2NJqEFomUwIb//+p4QAK17qfqONCQ5NwAAAAB5Bm4VJ4QpSZTBREsM//p4QAGx9ff0K6APdcR9ZuwUAAAAPAZ+kakK/ABa226UaQ8Y1AAAAGUGbpknhDomUwIb//qeEABr6RP9VvmPxPSEAAAAZQZvHSeEPJlMCG//+p4QAKf6J/qt8x+JQQQAAACxBm+pJ4Q8mUwIb//6nhABifZfV8CmvqFfgUqWz8CmdgYasdA/55sR8bHR1KgAAABNBnghFETwr/wBPrHm6c1thIxaUAAAAEAGeKWpCvwBPrHjlf24fgsEAAAAaQZorSahBaJlMCG///qeEAJagCzbEAaQ06kAAAAAgQZpNSeEKUmUwURLDf/6nhADsA8OLGp4e89qzmP0DScAAAAAQAZ5sakK/AMO7Utw2bUzLgQAAABlBmm5J4Q6JlMCG//6nhAF/gCzbR/s+V3pBAAAAHEGakknhDyZTAhv//qeEAZHx098yf8xfMecGTcEAAAAUQZ6wRRE8L/8BZUkuTNtnJiUcg6kAAAAPAZ7PdEK/Ad9EMyGgZnG9AAAADwGe0WpCvwHethVXgB/yKwAAABxBmtRJqEFomUwU8N/+p4QA8vsH+eQVqmQkW8hYAAAAEAGe82pCvwDNs3NceKto9qAAAAAYQZr1SeEKUmUwIb/+p4QAp2K0ghE/y20rAAAAHUGbF0nhDomUwU0TDf/+p4QBBB8zU2bcZvdT4tb0AAAAEAGfNmpCvwDXu1LcNm1MuIEAAAAcQZs5SeEPJlMFPDv//qmWANoSzlBmgBujH6MlBQAAABABn1hqQr8BUVGiZE0rNmLAAAAAGUGbXEnhDyZTAh3//qmWANx31ZVZm19iXcEAAAAPQZ96RRE8K/8BSGtw1mVAAAAADwGfm2pCvwHr7Q6FI2ZOwQAAABxBm4BJqEFomUwIb//+p4QELjNU1m1+uif4TjuhAAAAEEGfvkURLC//AWURuHcmNSAAAAAQAZ/ddEK/Ad9Eu47FmJ8NSAAAAA8Bn99qQr8B32giSv76bMEAAAAdQZvCSahBbJlMFEw3//6nhARLsx+TUBWzFCN7EzAAAAAPAZ/hakK/Ad61+KNIeKInAAAAFUGb5knhClJlMCGf/p4QDpb+/jDGzAAAABRBngRFNEwv/wFbVITfrjZdVA6bgQAAABABniN0Qr8BxozIjsWYo045AAAAEAGeJWpCvwHSDwa48VbRsGEAAAAaQZopS6hCEFokRggoB/IB/YeAIV/+OEAAEXEAAAAlQZ5HRREsK/8Cr2PtQcTdqsNJJuWqZzOCWFi2VLQabcX07Ysc5gAAACMBnmhqQr8Cr2PtQcTdqsNJtDxSHqpuatPITVwRN55t52AYWAAAC2htb292AAAAbG12aGQAAAAAAAAAAAAAAAAAAAPoAAAfkAABAAABAAAAAAAAAAAAAAAAAQAAAAAAAAAAAAAAAAAAAAEAAAAAAAAAAAAAAAAAAEAAAAAAAAAAAAAAAAAAAAAAAAAAAAAAAAAAAAAAAAACAAAKknRyYWsAAABcdGtoZAAAAAMAAAAAAAAAAAAAAAEAAAAAAAAfkAAAAAAAAAAAAAAAAAAAAAAAAQAAAAAAAAAAAAAAAAAAAAEAAAAAAAAAAAAAAAAAAEAAAAABEAAAARAAAAAAACRlZHRzAAAAHGVsc3QAAAAAAAAAAQAAH5AAAAQAAAEAAAAACgptZGlhAAAAIG1kaGQAAAAAAAAAAAAAAAAAADIAAAGUAFXEAAAAAAAtaGRscgAAAAAAAAAAdmlkZQAAAAAAAAAAAAAAAFZpZGVvSGFuZGxlcgAAAAm1bWluZgAAABR2bWhkAAAAAQAAAAAAAAAAAAAAJGRpbmYAAAAcZHJlZgAAAAAAAAABAAAADHVybCAAAAABAAAJdXN0YmwAAACVc3RzZAAAAAAAAAABAAAAhWF2YzEAAAAAAAAAAQAAAAAAAAAAAAAAAAAAAAABEAEQAEgAAABIAAAAAAAAAAEAAAAAAAAAAAAAAAAAAAAAAAAAAAAAAAAAAAAAAAAAAAAY//8AAAAvYXZjQwH0AA3/4QAXZ/QADZGbKCIR0IAAAAMAgAAAGQeKFMsBAAVo6+PESAAAABhzdHRzAAAAAAAAAAEAAADKAAACAAAAABRzdHNzAAAAAAAAAAEAAAABAAAFQGN0dHMAAAAAAAAApgAAAAMAAAQAAAAAAQAACgAAAAABAAAEAAAAAAEAAAAAAAAAAQAAAgAAAAABAAAEAAAAAAEAAAYAAAAAAQAAAgAAAAABAAAIAAAAAAIAAAIAAAAAAQAABgAAAAABAAACAAAAAAIAAAQAAAAAAQAABgAAAAABAAACAAAAAAEAAAQAAAAAAQAABgAAAAABAAACAAAAAAEAAAYAAAAAAQAAAgAAAAADAAAEAAAAAAEAAAgAAAAAAgAAAgAAAAAEAAAEAAAAAAEAAAYAAAAAAQAAAgAAAAABAAAEAAAAAAEAAAgAAAAAAgAAAgAAAAAEAAAEAAAAAAEAAAYAAAAAAQAAAgAAAAABAAAGAAAAAAEAAAIAAAAAAQAABgAAAAABAAACAAAAAAMAAAQAAAAAAQAACgAAAAABAAAEAAAAAAEAAAAAAAAAAQAAAgAAAAABAAAKAAAAAAEAAAQAAAAAAQAAAAAAAAABAAACAAAAAAEAAAoAAAAAAQAABAAAAAABAAAAAAAAAAEAAAIAAAAAAQAACgAAAAABAAAEAAAAAAEAAAAAAAAAAQAAAgAAAAABAAAKAAAAAAEAAAQAAAAAAQAAAAAAAAABAAACAAAAAAkAAAQAAAAAAQAACgAAAAABAAAEAAAAAAEAAAAAAAAAAQAAAgAAAAABAAAGAAAAAAEAAAIAAAAAAgAABAAAAAABAAAKAAAAAAEAAAQAAAAAAQAAAAAAAAABAAACAAAAAAEAAAQAAAAAAQAACgAAAAABAAAEAAAAAAEAAAAAAAAAAQAAAgAAAAABAAAKAAAAAAEAAAQAAAAAAQAAAAAAAAABAAACAAAAAAIAAAQAAAAAAQAABgAAAAABAAACAAAAAAEAAAYAAAAAAQAAAgAAAAACAAAEAAAAAAEAAAoAAAAAAQAABAAAAAABAAAAAAAAAAEAAAIAAAAAAQAABgAAAAABAAACAAAAAAEAAAQAAAAAAQAACAAAAAACAAACAAAAAAIAAAQAAAAAAQAACgAAAAABAAAEAAAAAAEAAAAAAAAAAQAAAgAAAAABAAAGAAAAAAEAAAIAAAAAAQAABgAAAAABAAACAAAAAAEAAAgAAAAAAgAAAgAAAAABAAAGAAAAAAEAAAIAAAAAAQAABgAAAAABAAACAAAAAAEAAAoAAAAAAQAABAAAAAABAAAAAAAAAAEAAAIAAAAAAQAACgAAAAABAAAEAAAAAAEAAAAAAAAAAQAAAgAAAAABAAAEAAAAAAEAAAoAAAAAAQAABAAAAAABAAAAAAAAAAEAAAIAAAAAAQAABAAAAAABAAAGAAAAAAEAAAIAAAAAAwAABAAAAAABAAAGAAAAAAEAAAIAAAAAAQAACgAAAAABAAAEAAAAAAEAAAAAAAAAAQAAAgAAAAABAAAEAAAAAAEAAAYAAAAAAQAAAgAAAAACAAAEAAAAAAEAAAgAAAAAAgAAAgAAAAABAAAEAAAAAAEAAAYAAAAAAQAAAgAAAAABAAAEAAAAAAEAAAoAAAAAAQAABAAAAAABAAAAAAAAAAEAAAIAAAAAAQAABgAAAAABAAACAAAAAAEAAAQAAAAAAQAABgAAAAABAAACAAAAAAEAAAYAAAAAAQAAAgAAAAABAAAIAAAAAAIAAAIAAAAAAQAACgAAAAABAAAEAAAAAAEAAAAAAAAAAQAAAgAAAAABAAAGAAAAAAEAAAIAAAAAAQAACgAAAAABAAAEAAAAAAEAAAAAAAAAAQAAAgAAAAABAAAIAAAAAAIAAAIAAAAAHHN0c2MAAAAAAAAAAQAAAAEAAADKAAAAAQAAAzxzdHN6AAAAAAAAAAAAAADKAAAFTgAAABoAAAAbAAAAIwAAACEAAAATAAAAFAAAACAAAAAhAAAAFAAAAB0AAAATAAAAEQAAACAAAAAUAAAAHAAAAB0AAAAdAAAAFAAAABwAAAAiAAAAFAAAACAAAAAUAAAAHAAAABwAAAAdAAAAHQAAABYAAAASAAAAHQAAAB8AAAAbAAAAHQAAACEAAAAUAAAAHQAAABwAAAATAAAAEQAAAB4AAAAcAAAAHAAAAB0AAAAjAAAAFAAAACAAAAATAAAAIAAAABQAAAAdAAAAHQAAAB0AAAAsAAAAFQAAABMAAAAUAAAAHgAAABQAAAAUAAAAFAAAABcAAAAQAAAAEwAAABMAAAAWAAAAEAAAABMAAAATAAAAIAAAABQAAAATAAAAFAAAACAAAAAbAAAAHwAAABwAAAAcAAAAHAAAABwAAAAdAAAAHQAAACMAAAAaAAAAEwAAABMAAAAfAAAAFAAAAB0AAAAdAAAAGgAAABYAAAAUAAAAFAAAAB0AAAAfAAAAFAAAABMAAAAUAAAAIAAAABkAAAAUAAAAEwAAAB0AAAAdAAAAIwAAABQAAAAgAAAAFAAAAB8AAAAdAAAAHAAAABQAAAATAAAAFAAAACAAAAATAAAAHAAAACEAAAAWAAAAFAAAAB4AAAAdAAAAHgAAABkAAAAUAAAAFAAAACAAAAAUAAAAIAAAABMAAAAdAAAAFgAAABQAAAAgAAAAFAAAACgAAAAUAAAAHwAAABQAAAATAAAAFAAAACAAAAAUAAAAEgAAABQAAAAdAAAAFQAAABcAAAAUAAAAFAAAAB0AAAAgAAAAFAAAABwAAAAdAAAAHQAAACEAAAAUAAAAIAAAABQAAAAUAAAAEwAAAB4AAAAiAAAAEwAAAB0AAAAdAAAAMAAAABcAAAAUAAAAHgAAACQAAAAUAAAAHQAAACAAAAAYAAAAEwAAABMAAAAgAAAAFAAAABwAAAAhAAAAFAAAACAAAAAUAAAAHQAAABMAAAATAAAAIAAAABQAAAAUAAAAEwAAACEAAAATAAAAGQAAABgAAAAUAAAAFAAAAB4AAAApAAAAJwAAABRzdGNvAAAAAAAAAAEAAAAwAAAAYnVkdGEAAABabWV0YQAAAAAAAAAhaGRscgAAAAAAAAAAbWRpcmFwcGwAAAAAAAAAAAAAAAAtaWxzdAAAACWpdG9vAAAAHWRhdGEAAAABAAAAAExhdmY1Ny44My4xMDA=\" type=\"video/mp4\" />\n",
       "             </video>"
      ],
      "text/plain": [
       "<IPython.core.display.HTML object>"
      ]
     },
     "execution_count": 93,
     "metadata": {},
     "output_type": "execute_result"
    }
   ],
   "source": [
    "# Training\n",
    "env = EnvironmentExploring(grid_size=size, max_time=T, temperature=0.3)\n",
    "agent = DQN_CNN(size, lr=.1, epsilon = 1, memory_size=2000, batch_size = 32,n_state=3)\n",
    "train_explore(agent, env, epochs_train, prefix='cnn_train_explore')\n",
    "HTML(display_videos('cnn_train_explore10.mp4'))"
   ]
  },
  {
   "cell_type": "code",
   "execution_count": 94,
   "metadata": {},
   "outputs": [
    {
     "name": "stdout",
     "output_type": "stream",
     "text": [
      "Win/lose count 21.0/7.0. Average score (14.0)\n",
      "Win/lose count 28.5/6.0. Average score (18.25)\n",
      "Win/lose count 21.5/9.0. Average score (16.333333333333332)\n",
      "Win/lose count 23.5/2.0. Average score (17.625)\n",
      "Win/lose count 22.0/9.0. Average score (16.7)\n",
      "Win/lose count 22.5/6.0. Average score (16.666666666666668)\n",
      "Win/lose count 19.0/7.0. Average score (16.0)\n",
      "Win/lose count 25.5/8.0. Average score (16.1875)\n",
      "Win/lose count 24.0/5.0. Average score (16.5)\n",
      "Win/lose count 23.0/8.0. Average score (16.35)\n",
      "Win/lose count 19.0/9.0. Average score (15.772727272727273)\n",
      "Win/lose count 26.0/5.0. Average score (16.208333333333332)\n",
      "Win/lose count 17.0/5.0. Average score (15.884615384615385)\n",
      "Win/lose count 26.0/0. Average score (16.607142857142858)\n",
      "Win/lose count 26.0/2.0. Average score (17.1)\n",
      "Final score: 17.1\n"
     ]
    },
    {
     "data": {
      "text/html": [
       "<video alt=\"test\" controls>\n",
       "                <source src=\"data:video/mp4;base64,AAAAIGZ0eXBpc29tAAACAGlzb21pc28yYXZjMW1wNDEAAAAIZnJlZQAAGg9tZGF0AAACrQYF//+p3EXpvebZSLeWLNgg2SPu73gyNjQgLSBjb3JlIDE1MiByMjg1NCBlOWE1OTAzIC0gSC4yNjQvTVBFRy00IEFWQyBjb2RlYyAtIENvcHlsZWZ0IDIwMDMtMjAxNyAtIGh0dHA6Ly93d3cudmlkZW9sYW4ub3JnL3gyNjQuaHRtbCAtIG9wdGlvbnM6IGNhYmFjPTEgcmVmPTMgZGVibG9jaz0xOjA6MCBhbmFseXNlPTB4MToweDExMSBtZT1oZXggc3VibWU9NyBwc3k9MSBwc3lfcmQ9MS4wMDowLjAwIG1peGVkX3JlZj0xIG1lX3JhbmdlPTE2IGNocm9tYV9tZT0xIHRyZWxsaXM9MSA4eDhkY3Q9MCBjcW09MCBkZWFkem9uZT0yMSwxMSBmYXN0X3Bza2lwPTEgY2hyb21hX3FwX29mZnNldD00IHRocmVhZHM9OCBsb29rYWhlYWRfdGhyZWFkcz0xIHNsaWNlZF90aHJlYWRzPTAgbnI9MCBkZWNpbWF0ZT0xIGludGVybGFjZWQ9MCBibHVyYXlfY29tcGF0PTAgY29uc3RyYWluZWRfaW50cmE9MCBiZnJhbWVzPTMgYl9weXJhbWlkPTIgYl9hZGFwdD0xIGJfYmlhcz0wIGRpcmVjdD0xIHdlaWdodGI9MSBvcGVuX2dvcD0wIHdlaWdodHA9MiBrZXlpbnQ9MjUwIGtleWludF9taW49MjUgc2NlbmVjdXQ9NDAgaW50cmFfcmVmcmVzaD0wIHJjX2xvb2thaGVhZD00MCByYz1jcmYgbWJ0cmVlPTEgY3JmPTIzLjAgcWNvbXA9MC42MCBxcG1pbj0wIHFwbWF4PTY5IHFwc3RlcD00IGlwX3JhdGlvPTEuNDAgYXE9MToxLjAwAIAAAAL8ZYiEADP//vaG+BTYUyP+T7/8I/+5H7cfWfrixkIJvrVeQ9GAMl8a/5lGYaXpyc8t7R+vTNAEZz8ZS8pY/so8yxXhlWbQ+BTV0nV+BSUJ4ieeJ5SmSomT/5DdC83OqqrkyEW2UdIOh57K3sX4JmO+T0yP54A0FPHrtaSvcVJn8UpCUxI5tzZ+GlLJzn1vxgdQahnw/KmbKLJgX0DyNJ2ZUNAoGmRqQXviTA5JhHkbn+xSJYv41ywKegdUZQJITI8M2LPasIzqjHFmyH+QwtmWI3nPwE7zMQPUrtGlkFutnwRLQ9MY9YUfWYaL7HzwGaJRPMsC1mcCiiz5Do6axNScq7Sl5vHqi5DEbueU7fQHgid9odhHUwYSAGA+gq3NhIqkdQxWsC62Gymac570a48MVOjIuhYdmYpRWTC7SaLh70GgtyZDeORraZGbYAAsoQmQJHvPc4tMT2d9QOPq5KAeNfP1Q9lWIZSoVYLBbrJ5HA3KmCzySUjYQDrqEsh/IA5I/acE7TSzetCAaIod7kOiaui+epFTX7K27NgqmXCrH/mgubx+apZFR4mTs4TGtePjj0aEkXzRhAjwq5bbk782N1YY12t3YJp5dPHP7/GNornlntTMn16Q3STsdpulthBHhOyBs9btqA1TAkPtOBfGXQaBltNsNd9t3pdbPUMz6mf7Ghc6DsvLPZX3dWnbApdm3zYQUZ0IKTXH2Fz/eGz2DUBrhXAG/lTzxPMZ6dJn4KnD+aLTQNVY0RAAy/iIXaqzk5bzYEcwm2+PUk5GWRlLpRw/xQAEPZnoLJ5+sBgniojuOa3X+PvEuecUfZZoJjqr80IQ+t2m1D6hP4T85FOPwCR+qkIG43JffwEUG+YDybt7mbJ1+N+Qo0i1NLFVbARKCRTc5xVcIlUjKxdtuT5S8ejWczuUOg3MxV2SIHQ7TOzFqVAEDIHKok7br9c+bkOeVs8EcKEEMrSwV4OcT2urPR7GxH9mBh59QcO+YSO3W1IgXF97YZe7DAAA7YEAAAATQZohbEM//p4QCSd03zrkfVynTAAAABhBmkI8IZMphDf//qeEATX46fUcaEhwVsEAAAAZQZpjSeEPJlMCG//+p4QAyPsH+E4LdCRxwAAAAB1BmoVJ4Q8mUwURPDf//qeEAH99g/y10tzgmifJ7wAAABABnqRqQr8AaYltOvAE/sqBAAAAHEGap0nhDyZTBTw3//6nhAA2PsH+WulucE0T580AAAAQAZ7GakK/ACxNuRV4An/bgQAAAB1BmslJ4Q8mUwU8N//+p4QAF191Pu83OTwPBukOHgAAABABnuhqQr8AEtzRvNMVbWLAAAAAHEGa60nhDyZTBTwz//6eEAA6Pr7+myhcutmrfpEAAAAPAZ8KakK/AAxBLSpFAlceAAAAGEGbDEnhDyZTAhv//qeEAAl30c0FazKb3wAAABlBmy1J4Q8mUwIb//6nhAAJN8dPqONCQ9tBAAAAHEGbUUnhDyZTAhv//qeEAAX/2D/PKnKaJ95tZAsAAAAQQZ9vRRE8L/8AA4n8VdmTvQAAABABn450Qr8ABNXak8r8lO4wAAAADwGfkGpCvwADOWIHkwT4gAAAAB1Bm5NJqEFomUwU8M/+nhAAGHX3Ncc+kF/JBL/NFQAAABABn7JqQr8ABR7CPJgevqmAAAAAGEGbtEnhClJlMCGf/p4QACWnCOfw7CfYQgAAABhBm9VJ4Q6JlMCG//6nhAAJt8dMf4fVuAMAAAAeQZv4SeEPJlMCGf/+nhAAVr3hrnAptLdrh8e9bjm4AAAAEkGeFkURPCv/ABHdoN4CkfXvoQAAABABnjdqQr8AEd2eOV/biDTBAAAAGUGaOUmoQWiZTAhn//6eEACCnCOfw5zfW04AAAAZQZpaSeEKUmUwIb/+p4QANLSJ/qt8x+I+YQAAACFBmnxJ4Q6JlMFNEwz//p4QAef2R1eZZZ8+3Bcj8Z9OoMoAAAAQAZ6bakK/AGcdqOV/bh9rwQAAABlBmp1J4Q8mUwIb//6nhADC0if6rfMfiEPBAAAAGUGavknhDyZTAhv//qeEASxAFm22fZ80S8AAAAAdQZrBSeEPJlMCG//+p4QCSeP0cv7/K7/O9FsqULAAAAASQZ7/RRE8K/8Bf4aXeYwdqtQ9AAAAEAGfAGpCvwGJZua48VbRuWAAAAAZQZsFSahBaJlMCGf//p4QCIjL1rr7+ghEwQAAABVBnyNFESwv/wEmx46ZxbXSAXMwLugAAAAPAZ9CdEK/AZOSzcGyXjGNAAAADwGfRGpCvwGTIvmbZkaxvQAAABlBm0ZJqEFsmUwIb//+p4QCSeNOgrWZFemzAAAAHUGbaEnhClJlMFFSw3/+p4QCKeOn1i6W1QfzngkZAAAAEAGfh2pCvwF1bcirwBP5QYAAAAAcQZuKSeEOiZTBRMM//p4QAunum+wFrsmLYKn9MAAAABABn6lqQr8AmsrkVeAJ/SWBAAAAGUGbq0nhDyZTAhv//qeEAE/91P1HGhIcVMAAAAAZQZvMSeEPJlMCG//+p4QAM77B/hOC3QlvQAAAAB1Bm+5J4Q8mUwURPDf//qeEACDfHT7mRhbMUI5kOQAAAA8Bng1qQr8AGwJaVIoEq+kAAAAbQZoRSeEPJlMCG//+p4QAH7OM/1W+Y/DNlvrdAAAAEkGeL0URPCv/ABpnagQkY/dGQAAAAA4BnlBqQr8AGmdqun6oMgAAABxBmlNJqEFomUwU8M/+nhAAfL39+pedXPY6BDzxAAAAEAGecmpCvwAaYjtzrQwvXMAAAAAYQZp0SeEKUmUwIZ/+nhAAT/3TfRUrNfI2AAAAGEGalUnhDomUwIZ//p4QADO+vu7Tm7i6vQAAABlBmrZJ4Q8mUwIb//6nhAAM77B/hOC3Qq7AAAAAGEGa2UnhDyZTAhn//p4QAB/fX3dpzdxepwAAABJBnvdFETwr/wAGwI9EApgHXGEAAAAOAZ8YakK/AAbCxKup1I8AAAAZQZsaSahBaJlMCGf//p4QADDyGOfw5zfX0wAAABhBmztJ4QpSZTAhn/6eEABLThHP4c5vrn4AAAAZQZtcSeEOiZTAhv/+p4QAHaOM/1W+Y/E3oQAAADFBm35J4Q8mUwURPDf//qeEAEe4QuPiEd5f/4SoQSxf/4RmKxf/4SfAf5cgtzgX76w3AAAAEAGfnWpCvwA6DPAuv7cP0cAAAAAdQZuASeEPJlMFPDf//qeEAEtH3PSlpezif51RY4AAAAAQAZ+/akK/ADzMweS5nyUVgQAAAB1Bm6JJ4Q8mUwU8M//+nhABzvXI3Y4YPUebXeLxxAAAABABn8FqQr8AYh2pbhs2psuBAAAAGUGbw0nhDyZTAhv//qeEALl6J/qt8x+IR8AAAAAZQZvkSeEPJlMCG//+p4QBHEAWbbZ9nzRQQQAAABtBmghJ4Q8mUwIb//6nhAHrvwo1m2peOn2YHdEAAAAVQZ4mRRE8L/8BDseOmcW10gFzMC/xAAAAEAGeRXRCvwF1y1QOnahpwIEAAAAPAZ5HakK/AXVrKZtmRrHdAAAAGUGaSUmoQWiZTAhv//6nhAIEfMeRif4jYsoAAAAcQZprSeEKUmUwURLDv/6plgR8n4zPfPeFHekUEQAAAA8BnopqQr8CXs70cNm0qRMAAAAdQZqPSeEOiZTAhv/+p4QLQ/1o9ML3xkCE/hLBD/AAAAAQQZ6tRRU8L/8B6fZ4b2RIwQAAAA8Bnsx0Qr8CkcwYNmNoY3sAAAAOAZ7OakK/ApI0DyYEUU0AAAAbQZrTSahBaJlMCGf//p4QKTtR9afROkbFOpF3AAAAEEGe8UURLC//AeqdB/zXmpAAAAAOAZ8QdEK/Aq9x3nm/oYsAAAAQAZ8SakK/ApBPnOsz8E69gAAAABlBmxRJqEFsmUwIZ//+nhAIp4h/YeI+rlO6AAAAGUGbNUnhClJlMCG//qeEAS346fUcaEhwWUEAAAAdQZtXSeEOiZTBTRMM//6eEAL77pvte85VuKs3taAAAAAQAZ92akK/AJ83IYfQEg4sqQAAABlBm3hJ4Q8mUwIb//6nhAB/fYP8JwW6EllBAAAAGUGbmUnhDyZTAhv//qeEAFR91P1HGhIcUEAAAAARQZu9SeEPJlMCGf/+nhAABH0AAAATQZ/bRRE8L/8AH8iW5TMfMRFXiwAAABABn/p0Qr8ALEnUnlfkptpxAAAAEAGf/GpCvwAtajRMiaVnG0EAAAAZQZv+SahBaJlMCGf//p4QANP6+7tObuLeHAAAAB1BmgBJ4QpSZTBREsM//p4QATUQ502C9Edff0wAwAAAABABnj9qQr8AP4z5jdDkg4+lAAAAGEGaIUnhDomUwIZ//p4QATb4h51ugZIc7AAAABhBmkJJ4Q8mUwIZ//6eEAEu+IedboGSHQ0AAAAYQZpjSeEPJlMCG//+p4QAS746Y/w+rbdNAAAAG0GahEnhDyZTAhv//qeEAEm+l0CE9ezPgiv0wQAAAB9BmqZJ4Q8mUwURPDf//qeEAGvdWzE/1dvdT8IZzhjdAAAAEAGexWpCvwBYrIhNxn16cTkAAAAhQZrISeEPJlMFPDf//qeEAP36w3MssTI7cyKEhs828/uBAAAAEAGe52pCvwDSu1HK/tw+icAAAAAZQZrpSeEPJlMCHf/+qZYA2jkGZ/Kjn1CxYAAAAB1Bmw1J4Q8mUwIb//6nhAGy7qft5p0cyyxMjtrZ4QAAABRBnytFETwv/wDs/yUVmtMLwNrjgAAAABABn0p0Qr8BUbR3lbKHo4WAAAAAEAGfTGpCvwDiMweS5nySooEAAAAaQZtOSahBaJlMCHf//qmWAIz8edLOjqeRR8EAAAAaQZtySeEKUmUwIb/+p4QBHEvaQj3sx88cf4EAAAAQQZ+QRTRML/8ArNBs88Vk4AAAAA8Bn690Qr8A3KSiFMEWk4AAAAAQAZ+xakK/AOezB5LmfJKdgQAAABtBm7RJqEFomUwU8N/+p4QBHfjp9wU7CaJm2LAAAAAQAZ/TakK/AOeEAnXgCfzZgAAAABFBm9hJ4QpSZTAhn/6eEAAEfQAAABNBn/ZFNEwv/wBxN26ZxXU9iZK0AAAADwGeFXRCvwCa+k7g2S8Z9wAAABABnhdqQr8AmsnznWhheLHBAAAAHEGaGkmoQWiZTBTwz/6eEAHR9ff02ULl1s1bHpAAAAAQAZ45akK/AGII7c60MLx7QQAAABhBmjtJ4QpSZTAhn/6eEAEm+IedboGSHTQAAAAYQZpcSeEOiZTAhn/+nhABHvnNnW6Bkh1VAAAAGEGafUnhDyZTAhn//p4QARb4h51ugZIdfQAAABhBmp5J4Q8mUwIb//6nhABFvjpj/D6tt2cAAAAZQZq/SeEPJlMCG//+p4QAQ76OfcyKEhxiwAAAAB1BmsFJ4Q8mUwURPDf//qeEACx+6n7VebVEZGQJ5wAAABABnuBqQr8AI7K5FXgCgAWAAAAAHEGa5UnhDyZTAhv//qeEABNR9z0k7/Pkwf6tZdkAAAAUQZ8DRRE8L/8AC6T67vcAj9cjMxEAAAAQAZ8idEK/AA7XFmeV+Sm/mQAAABABnyRqQr8AD4sweTA9fASBAAAAGUGbJkmoQWiZTAhv//6nhAAT3FaQQif5brsAAAAVQZtKSeEKUmUwIZ/+nhAAdz39/RIvAAAAEkGfaEU0TC//ABJZ8nFi5Dv6fAAAABABn4d0Qr8AGSsq7kNlSl3gAAAAEAGfiWpCvwAZJm5rjxVtT+EAAAAcQZuMSahBaJlMFPDP/p4QAE2+If4ol5zpsVAz0AAAAA8Bn6tqQr8AD+A/qkUCVp8AAAAYQZutSeEKUmUwIZ/+nhAAMT6+7tObuLr9AAAAGEGbzknhDomUwIZ//p4QAC/+vu7Tm7i7HQAAABhBm+9J4Q8mUwIZ//6eEAAuvumxlybKuz0AAAAZQZoQSeEPJlMCG//+p4QAEdQBZttn2fOPwAAAABtBmjJJ4Q8mUwURPDP//p4QAEW+If4onf+gHaUAAAAQAZ5RakK/AA6ALznWhhfPwQAAABlBmlNJ4Q8mUwIb//6nhAALZ7qfqONCQ8nAAAAAHUGadUnhDyZTBRE8M//+nhAAKx3tN28/EP5uHl6fAAAAEAGelGpCvwAI7tEJuM+vWGkAAAAyQZqXSeEPJlMFPDP//p4QAGdxty/EI6NX//EISHiz//h80RZ//xBju/gukC+/qpO1WkAAAAAQAZ62akK/ABWbHjlf24gjQQAAABdBmrhJ4Q8mUwIZ//6eEACe8GOfpf3K6QAAABdBmtlJ4Q8mUwIZ//6eEADylOOfpf3KQQAAABlBmvpJ4Q8mUwIb//6nhABh6RP9VvmPxEPBAAAAIUGbHEnhDyZTBRE8M//+nhACWiHKtwXk58QFM+cs+pvAgAAAABABnztqQr8AfFnhDxoaxp2BAAAAGEGbPUnhDyZTAhn//p4QA5pTjn6MB2Z90wAAABpBm15J4Q8mUwIZ//6eEAXIJWOFlB8Dh/f6XgAAABlBm39J4Q8mUwIb//6nhAGNxmOSdxsu3qPgAAAAGUGbgEnhDyZTAhv//qeEAZHx0+l8UJDCi4EAAAAdQZuiSeEPJlMFETw7//6plgB6vaX9Vp3naTBoBAsAAAAQAZ/BakK/AMiS2nXgCfzzgQAAAB1Bm8VJ4Q8mUwId//6plgA0HtqBudoOjqZOL8DoIAAAABJBn+NFETwr/wBUGwBAKYByMkEAAAAQAZ4EakK/AFHsiE3GfXpyCQAAABtBmglJqEFomUwId//+qZYAUEZ+M0B3fRj1wD0AAAAQQZ4nRREsL/8AX5V3f5vCsQAAAA8BnkZ0Qr8AUeMIDJLlj4AAAAAQAZ5IakK/AH8Zg8mB69uggAAAAB5Bmk1JqEFsmUwIb//+p4QBsu3TzLLEyO4IX1pbJ6sAAAAVQZ5rRRUsL/8A7SdO83v1yG+2Zs2gAAAAEAGeinRCvwDNyLKvAiu2yoAAAAAQAZ6MakK/AUix5bhs2pjwgQAAAB1Bmo9JqEFsmUwUTDv//qmWANx31e/y/GGa2Wsz0wAAAA8Bnq5qQr8BSGspm2ZGsh8AAAAbQZqzSeEKUmUwIb/+p4QEkjM1Nm1zN3U+AR8wAAAAEEGe0UU0TC//AXBOlvBAW9AAAAAPAZ7wdEK/ATa0IDJLlJeBAAAAEAGe8mpCvwHsH398aGr8oYAAAAAaQZr2SahBaJlMCG///qeEBK+zH4fgW5+Y0YAAAAARQZ8URREsK/8B+Zo3mm4arXkAAAAOAZ81akK/Afkox5qrLSQAAAAdQZs4SahBbJlMFEw3//6nhAGh7qftXrwPBuisEHEAAAAQAZ9XakK/AT9uQw+gJBxMqQAAABlBm1lJ4QpSZTAhv/6nhAD9+wf4Tgt0JFlAAAAAG0GbfUnhDomUwIZ//p4QAo/um+17zlW4qze9oQAAABBBn5tFETwv/wBkhHGdyhegAAAAEAGfunRCvwCGu1J5X5KbOBEAAAAPAZ+8akK/AFr5QPJgi7aBAAAAGUGbvkmoQWiZTAhv//6nhABucDKvLkOcO6AAAAAdQZvASeEKUmUwURLDf/6nhABHvjp9zIwtmKEcv6QAAAAPAZ//akK/ADoA/qkUCVXHAAAAHEGb4knhDomUwUTDf/6nhAAtnup+5kYWzFCOYiwAAAAQAZ4BakK/ACSyfOdaGF6HQQAAABhBmgNJ4Q8mUwIb//6nhAAcb2D17M+CLK8AAAAWQZonSeEPJlMCGf/+nhAAaWQxz+JQQQAAABJBnkVFETwv/wAQXzy8W3xj+DEAAAAQAZ5kdEK/ABa01oyQ8m+MgQAAABABnmZqQr8AFrsI8lzPkwyBAAAAG0GaaUuoQhBaJEYIKAfyAf2HgFPCv/44QAARcAAAACUBnohqQr8Cr2PtQcTdqsNJJuWqhgcstbvNK/Zo2ebBJ2q16SjAAAALaG1vb3YAAABsbXZoZAAAAAAAAAAAAAAAAAAAA+gAAB+QAAEAAAEAAAAAAAAAAAAAAAABAAAAAAAAAAAAAAAAAAAAAQAAAAAAAAAAAAAAAAAAQAAAAAAAAAAAAAAAAAAAAAAAAAAAAAAAAAAAAAAAAAIAAAqSdHJhawAAAFx0a2hkAAAAAwAAAAAAAAAAAAAAAQAAAAAAAB+QAAAAAAAAAAAAAAAAAAAAAAABAAAAAAAAAAAAAAAAAAAAAQAAAAAAAAAAAAAAAAAAQAAAAAEQAAABEAAAAAAAJGVkdHMAAAAcZWxzdAAAAAAAAAABAAAfkAAABAAAAQAAAAAKCm1kaWEAAAAgbWRoZAAAAAAAAAAAAAAAAAAAMgAAAZQAVcQAAAAAAC1oZGxyAAAAAAAAAAB2aWRlAAAAAAAAAAAAAAAAVmlkZW9IYW5kbGVyAAAACbVtaW5mAAAAFHZtaGQAAAABAAAAAAAAAAAAAAAkZGluZgAAABxkcmVmAAAAAAAAAAEAAAAMdXJsIAAAAAEAAAl1c3RibAAAAJVzdHNkAAAAAAAAAAEAAACFYXZjMQAAAAAAAAABAAAAAAAAAAAAAAAAAAAAAAEQARAASAAAAEgAAAAAAAAAAQAAAAAAAAAAAAAAAAAAAAAAAAAAAAAAAAAAAAAAAAAAABj//wAAAC9hdmNDAfQADf/hABdn9AANkZsoIhHQgAAAAwCAAAAZB4oUywEABWjr48RIAAAAGHN0dHMAAAAAAAAAAQAAAMoAAAIAAAAAFHN0c3MAAAAAAAAAAQAAAAEAAAVAY3R0cwAAAAAAAACmAAAABAAABAAAAAABAAAGAAAAAAEAAAIAAAAAAQAABgAAAAABAAACAAAAAAEAAAYAAAAAAQAAAgAAAAABAAAGAAAAAAEAAAIAAAAAAgAABAAAAAABAAAKAAAAAAEAAAQAAAAAAQAAAAAAAAABAAACAAAAAAEAAAYAAAAAAQAAAgAAAAACAAAEAAAAAAEAAAgAAAAAAgAAAgAAAAACAAAEAAAAAAEAAAYAAAAAAQAAAgAAAAACAAAEAAAAAAEAAAgAAAAAAgAAAgAAAAABAAAKAAAAAAEAAAQAAAAAAQAAAAAAAAABAAACAAAAAAEAAAQAAAAAAQAABgAAAAABAAACAAAAAAEAAAYAAAAAAQAAAgAAAAACAAAEAAAAAAEAAAYAAAAAAQAAAgAAAAABAAAIAAAAAAIAAAIAAAAAAQAABgAAAAABAAACAAAAAAMAAAQAAAAAAQAACAAAAAACAAACAAAAAAMAAAQAAAAAAQAABgAAAAABAAACAAAAAAEAAAYAAAAAAQAAAgAAAAABAAAGAAAAAAEAAAIAAAAAAgAABAAAAAABAAAKAAAAAAEAAAQAAAAAAQAAAAAAAAABAAACAAAAAAEAAAQAAAAAAQAABgAAAAABAAACAAAAAAEAAAoAAAAAAQAABAAAAAABAAAAAAAAAAEAAAIAAAAAAQAACgAAAAABAAAEAAAAAAEAAAAAAAAAAQAAAgAAAAACAAAEAAAAAAEAAAYAAAAAAQAAAgAAAAACAAAEAAAAAAEAAAoAAAAAAQAABAAAAAABAAAAAAAAAAEAAAIAAAAAAQAABAAAAAABAAAGAAAAAAEAAAIAAAAABAAABAAAAAABAAAGAAAAAAEAAAIAAAAAAQAABgAAAAABAAACAAAAAAEAAAQAAAAAAQAACgAAAAABAAAEAAAAAAEAAAAAAAAAAQAAAgAAAAABAAAEAAAAAAEAAAoAAAAAAQAABAAAAAABAAAAAAAAAAEAAAIAAAAAAQAABgAAAAABAAACAAAAAAEAAAoAAAAAAQAABAAAAAABAAAAAAAAAAEAAAIAAAAAAQAABgAAAAABAAACAAAAAAUAAAQAAAAAAQAABgAAAAABAAACAAAAAAEAAAoAAAAAAQAABAAAAAABAAAAAAAAAAEAAAIAAAAAAQAABAAAAAABAAAKAAAAAAEAAAQAAAAAAQAAAAAAAAABAAACAAAAAAEAAAYAAAAAAQAAAgAAAAAEAAAEAAAAAAEAAAYAAAAAAQAAAgAAAAABAAAEAAAAAAEAAAYAAAAAAQAAAgAAAAABAAAGAAAAAAEAAAIAAAAAAwAABAAAAAABAAAGAAAAAAEAAAIAAAAABAAABAAAAAABAAAGAAAAAAEAAAIAAAAAAQAACAAAAAACAAACAAAAAAEAAAoAAAAAAQAABAAAAAABAAAAAAAAAAEAAAIAAAAAAQAACgAAAAABAAAEAAAAAAEAAAAAAAAAAQAAAgAAAAABAAAGAAAAAAEAAAIAAAAAAQAACgAAAAABAAAEAAAAAAEAAAAAAAAAAQAAAgAAAAABAAAIAAAAAAIAAAIAAAAAAQAABgAAAAABAAACAAAAAAEAAAQAAAAAAQAACgAAAAABAAAEAAAAAAEAAAAAAAAAAQAAAgAAAAABAAAEAAAAAAEAAAYAAAAAAQAAAgAAAAABAAAGAAAAAAEAAAIAAAAAAQAABAAAAAABAAAKAAAAAAEAAAQAAAAAAQAAAAAAAAABAAACAAAAAAEAAAYAAAAAAQAAAgAAAAAcc3RzYwAAAAAAAAABAAAAAQAAAMoAAAABAAADPHN0c3oAAAAAAAAAAAAAAMoAAAWxAAAAFwAAABwAAAAdAAAAIQAAABQAAAAgAAAAFAAAACEAAAAUAAAAIAAAABMAAAAcAAAAHQAAACAAAAAUAAAAFAAAABMAAAAhAAAAFAAAABwAAAAcAAAAIgAAABYAAAAUAAAAHQAAAB0AAAAlAAAAFAAAAB0AAAAdAAAAIQAAABYAAAAUAAAAHQAAABkAAAATAAAAEwAAAB0AAAAhAAAAFAAAACAAAAAUAAAAHQAAAB0AAAAhAAAAEwAAAB8AAAAWAAAAEgAAACAAAAAUAAAAHAAAABwAAAAdAAAAHAAAABYAAAASAAAAHQAAABwAAAAdAAAANQAAABQAAAAhAAAAFAAAACEAAAAUAAAAHQAAAB0AAAAfAAAAGQAAABQAAAATAAAAHQAAACAAAAATAAAAIQAAABQAAAATAAAAEgAAAB8AAAAUAAAAEgAAABQAAAAdAAAAHQAAACEAAAAUAAAAHQAAAB0AAAAVAAAAFwAAABQAAAAUAAAAHQAAACEAAAAUAAAAHAAAABwAAAAcAAAAHwAAACMAAAAUAAAAJQAAABQAAAAdAAAAIQAAABgAAAAUAAAAFAAAAB4AAAAeAAAAFAAAABMAAAAUAAAAHwAAABQAAAAVAAAAFwAAABMAAAAUAAAAIAAAABQAAAAcAAAAHAAAABwAAAAcAAAAHQAAACEAAAAUAAAAIAAAABgAAAAUAAAAFAAAAB0AAAAZAAAAFgAAABQAAAAUAAAAIAAAABMAAAAcAAAAHAAAABwAAAAdAAAAHwAAABQAAAAdAAAAIQAAABQAAAA2AAAAFAAAABsAAAAbAAAAHQAAACUAAAAUAAAAHAAAAB4AAAAdAAAAHQAAACEAAAAUAAAAIQAAABYAAAAUAAAAHwAAABQAAAATAAAAFAAAACIAAAAZAAAAFAAAABQAAAAhAAAAEwAAAB8AAAAUAAAAEwAAABQAAAAeAAAAFQAAABIAAAAhAAAAFAAAAB0AAAAfAAAAFAAAABQAAAATAAAAHQAAACEAAAATAAAAIAAAABQAAAAcAAAAGgAAABYAAAAUAAAAFAAAAB8AAAApAAAAFHN0Y28AAAAAAAAAAQAAADAAAABidWR0YQAAAFptZXRhAAAAAAAAACFoZGxyAAAAAAAAAABtZGlyYXBwbAAAAAAAAAAAAAAAAC1pbHN0AAAAJal0b28AAAAdZGF0YQAAAAEAAAAATGF2ZjU3LjgzLjEwMA==\" type=\"video/mp4\" />\n",
       "             </video>"
      ],
      "text/plain": [
       "<IPython.core.display.HTML object>"
      ]
     },
     "execution_count": 94,
     "metadata": {},
     "output_type": "execute_result"
    }
   ],
   "source": [
    "# Evaluation\n",
    "test(agent,env,epochs_test,prefix='cnn_test_explore')\n",
    "HTML(display_videos('cnn_test_explore10.mp4'))"
   ]
  },
  {
   "cell_type": "markdown",
   "metadata": {},
   "source": [
    "***\n",
    "***\n",
    "__BONUS question__ Use the expert DQN from the previous question to generate some winning games. Train a model that mimicks its behavior. Compare the performances."
   ]
  },
  {
   "cell_type": "markdown",
   "metadata": {},
   "source": []
  },
  {
   "cell_type": "markdown",
   "metadata": {},
   "source": [
    "***"
   ]
  }
 ],
 "metadata": {
  "kernelspec": {
   "display_name": "Python 3",
   "language": "python",
   "name": "python3"
  },
  "language_info": {
   "codemirror_mode": {
    "name": "ipython",
    "version": 3
   },
   "file_extension": ".py",
   "mimetype": "text/x-python",
   "name": "python",
   "nbconvert_exporter": "python",
   "pygments_lexer": "ipython3",
   "version": "3.7.6"
  }
 },
 "nbformat": 4,
 "nbformat_minor": 4
}
